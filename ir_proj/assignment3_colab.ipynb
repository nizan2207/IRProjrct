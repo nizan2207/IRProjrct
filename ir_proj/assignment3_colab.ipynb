{
  "nbformat": 4,
  "nbformat_minor": 0,
  "metadata": {
    "colab": {
      "name": "Copy of assignment_3.ipynb",
      "provenance": [],
      "collapsed_sections": []
    },
    "kernelspec": {
      "display_name": "Python 3",
      "language": "python",
      "name": "python3"
    },
    "language_info": {
      "codemirror_mode": {
        "name": "ipython",
        "version": 3
      },
      "file_extension": ".py",
      "mimetype": "text/x-python",
      "name": "python",
      "nbconvert_exporter": "python",
      "pygments_lexer": "ipython3",
      "version": "3.7.6"
    }
  },
  "cells": [
    {
      "cell_type": "markdown",
      "metadata": {
        "id": "ByCSu-FhG5v7"
      },
      "source": [
        "# Assignment 3: MapReduce & Web Graph"
      ]
    },
    {
      "cell_type": "markdown",
      "metadata": {
        "id": "-e3cxxyFG_XW"
      },
      "source": [
        "## General guidelines\n",
        "\n",
        "This notebook contains considerable amount of code to help you complete this assignment. Your task is to implement any missing parts of the code and answer any questions (if exist) within this notebook. This will require understanding the existing code, may require reading about packages being used, reading additional resources, and maybe even going over your notes from class 😱\n",
        "\n",
        "**Evaluation and auto-grading**: Your submissions will be evaluated using both automatic and manual grading. Code parts for implementation are marked with a comment `# YOUR CODE HERE`, and usually followed by cell(s) containing automatic tests that evaluate the correctness of your answer. Staff will allow your notebook to **execute from start to finish for no more than 90 seconds**, then manually assess your submission. Any automatic tests that did not run due to your notebook timing out **will automatically receive 0 points**. The execution time excludes initial data download, which will already exist in the testing environment. The staff reserves the right to **modify any grade provided by the auto-grader** as well as to **execute additional tests not provided to you**. It is also important to note that **auto-graded cells only result in full or no credit**. In other words, you must pass all tests implemented in a test cell in order to get the credit for it, and passing some, but not all, of the tests in a test cell will not earn you any points for that cell. \n",
        "\n",
        "**Submission**: Upload a zip file **with your ID as the file name** containing the colab notebook and the GCP notebook to the assignment on Moodle. The names of the files should be  in the format:  012345678_colab.ipynb and 012345678_gcp.ipynb."
      ]
    },
    {
      "cell_type": "markdown",
      "metadata": {
        "id": "fscYA3wkHCLk"
      },
      "source": [
        "# Tasks\n",
        "\n",
        "In this assignment, we are going to use MapReduce in pySpark to scale up index creation. **The assignment consists of two parts, one in Google Colab and one in GCP**. In the first part (Colab), we will learn how to use MapReduce in PySpark, create an inverted index, and calculate PageRank. In the second part, we will use GCP to scale up index creation for the entire English Wikipedia. \n",
        "\n",
        "You will learn how to work with PySpark, write MapReduce code that executes on a cluster of machines, and experience the power of parallel processing. **All tasks must be completed through the use of PySpark's MapReduce**.\n",
        "\n",
        "To save you (and us) time, both in this assignment and in the final project, we are providing you with preprocessed files for the entire English wikipedia dump. Preprocessing was done, similar to Assignment #2, to extract article information from the XML, then remove the WikiMedia markup. The complete preprocessing code for one wiki dump can be seen [here](https://colab.research.google.com/drive/1xXc0YPU4BVd8CAjVNgICimW_d-Z7wryu?usp=sharing).\n",
        "\n",
        "\n",
        "**By the end of this assignment, you will have:**\n",
        "\n",
        "In Colab (65 Points)\n",
        "\n",
        "1. (20 Points) Processed articles' body to produce posting lists (using PySpark and MapReduce).\n",
        "2. (5 Points) Calculated document frequency (DF) in a  distributed fashion. \n",
        "3. (20 Points) Partitioned the posting lists and wrote them to disk in parallel.\n",
        "4. (20 Points) Constructed the links graph and calculated PageRank on it. \n",
        "All of these will be based on a small subset of articles from one wiki dump file.\n",
        "\n",
        "In GCP (35 Points):\n",
        "\n",
        "1. (10 Points) Successfully started a Dataproc cluster, setup cloud storage bucket, and properly initialized cluster nodes.\n",
        "2. (10 Points) Created an inverted index for all of English Wikipedia. \n",
        "3. (10 Points) Successfully computed PageRank for the entire English Wikipedia.\n",
        "4. (5 Points) Reporting: size of the data, size of index, time it took to build the index, time it took to compute PageRank, and the $ amount of credits it consumed.\n",
        "\n",
        "Bonus (10 points) if you implement PageRank in pure PySpark, i.e. without using the GraphFrames package, AND manage to complete 10 iterations of your algorithm on the entire English Wikipedia in less than an hour. \n",
        "\n",
        "\n",
        "\n",
        "\n",
        "\n"
      ]
    },
    {
      "cell_type": "markdown",
      "metadata": {
        "id": "J0P4W63JvrT5"
      },
      "source": [
        "# Setup"
      ]
    },
    {
      "cell_type": "markdown",
      "metadata": {
        "id": "59yMYAN1x3oh"
      },
      "source": [
        "## General imports\n",
        "\n",
        "The `inverted_index_colab` import requires the `inverted_index_colab.py` file. You should upload the file and then run this cell."
      ]
    },
    {
      "cell_type": "code",
      "metadata": {
        "colab": {
          "base_uri": "https://localhost:8080/"
        },
        "deletable": false,
        "editable": false,
        "id": "byNgReCYsmA9",
        "nbgrader": {
          "cell_type": "code",
          "checksum": "9a5e34081c68da39370c09ff0ee046f0",
          "grade": false,
          "grade_id": "cell-4bab9532110cc7e3",
          "locked": true,
          "schema_version": 3,
          "solution": false,
          "task": false
        },
        "outputId": "e2323709-a7ea-4fe4-842b-93b9ccf92b2f"
      },
      "source": [
        "import sys\n",
        "from collections import Counter, OrderedDict\n",
        "import itertools\n",
        "from itertools import islice, count, groupby\n",
        "import pandas as pd\n",
        "import os\n",
        "import re\n",
        "from operator import itemgetter\n",
        "import nltk\n",
        "from nltk.stem.porter import *\n",
        "from nltk.corpus import stopwords\n",
        "from time import time\n",
        "from timeit import timeit\n",
        "from pathlib import Path\n",
        "import pickle\n",
        "import pandas as pd\n",
        "import numpy as np\n",
        "from google.cloud import storage\n",
        "\n",
        "import hashlib\n",
        "def _hash(s):\n",
        "    return hashlib.blake2b(bytes(s, encoding='utf8'), digest_size=5).hexdigest()\n",
        "\n",
        "nltk.download('stopwords')\n",
        "\n",
        "from inverted_index_colab import *"
      ],
      "execution_count": null,
      "outputs": [
        {
          "output_type": "stream",
          "name": "stdout",
          "text": [
            "[nltk_data] Downloading package stopwords to /root/nltk_data...\n",
            "[nltk_data]   Unzipping corpora/stopwords.zip.\n"
          ]
        }
      ]
    },
    {
      "cell_type": "markdown",
      "metadata": {
        "id": "KRjOVgLBrfCs"
      },
      "source": [
        "## Installing, importing, and initializing PySpark\n"
      ]
    },
    {
      "cell_type": "markdown",
      "metadata": {
        "id": "GORmjMdasns1"
      },
      "source": [
        "The following code installs PySpark and its dependencies in Colab. In addition, we install GraphFrames, which is a PySpark package for dealing with graphs in a distributed fashion. Colab notebooks run on a single machine so we will work in local mode, i.e. there is no cluster of machines and both the master and worker processes run on a single machine. This will help us debug and iron out the code we will use in the second half of this assignment on an actual cluster mode in GCP. \n",
        "\n",
        "The installation in the next cell should take about 1 minute in a fresh environment. Don't worry about going  over the 90 seconds limit for the assignment because in our testing enviroment all of these requirements will already be met. "
      ]
    },
    {
      "cell_type": "code",
      "metadata": {
        "id": "Xf84c2MsIUGk"
      },
      "source": [
        ""
      ],
      "execution_count": null,
      "outputs": []
    },
    {
      "cell_type": "code",
      "metadata": {
        "deletable": false,
        "editable": false,
        "id": "kw33QgujFQez",
        "nbgrader": {
          "cell_type": "code",
          "checksum": "da733d0507fb7716a3f432b5d9d409a3",
          "grade": false,
          "grade_id": "cell-3f5100ba2d532176",
          "locked": true,
          "schema_version": 3,
          "solution": false,
          "task": false
        },
        "colab": {
          "base_uri": "https://localhost:8080/"
        },
        "outputId": "a7ea255d-257f-4418-a5f5-8457aa4ef5f1"
      },
      "source": [
        "# These will already be installed in the testing environment so disregard the \n",
        "# amount of time (~1 minute) it takes to install. \n",
        "!pip install -q pyspark\n",
        "!pip install -U -q PyDrive\n",
        "!apt install openjdk-8-jdk-headless -qq\n",
        "!pip install -q graphframes\n",
        "import os\n",
        "os.environ[\"JAVA_HOME\"] = \"/usr/lib/jvm/java-8-openjdk-amd64\"\n",
        "graphframes_jar = 'https://repos.spark-packages.org/graphframes/graphframes/0.8.2-spark3.2-s_2.12/graphframes-0.8.2-spark3.2-s_2.12.jar'\n",
        "spark_jars = '/usr/local/lib/python3.7/dist-packages/pyspark/jars'\n",
        "!wget -N -P $spark_jars $graphframes_jar"
      ],
      "execution_count": null,
      "outputs": [
        {
          "output_type": "stream",
          "name": "stdout",
          "text": [
            "\u001b[K     |████████████████████████████████| 281.3 MB 40 kB/s \n",
            "\u001b[K     |████████████████████████████████| 198 kB 47.4 MB/s \n",
            "\u001b[?25h  Building wheel for pyspark (setup.py) ... \u001b[?25l\u001b[?25hdone\n",
            "The following additional packages will be installed:\n",
            "  openjdk-8-jre-headless\n",
            "Suggested packages:\n",
            "  openjdk-8-demo openjdk-8-source libnss-mdns fonts-dejavu-extra\n",
            "  fonts-ipafont-gothic fonts-ipafont-mincho fonts-wqy-microhei\n",
            "  fonts-wqy-zenhei fonts-indic\n",
            "The following NEW packages will be installed:\n",
            "  openjdk-8-jdk-headless openjdk-8-jre-headless\n",
            "0 upgraded, 2 newly installed, 0 to remove and 37 not upgraded.\n",
            "Need to get 36.5 MB of archives.\n",
            "After this operation, 143 MB of additional disk space will be used.\n",
            "Selecting previously unselected package openjdk-8-jre-headless:amd64.\n",
            "(Reading database ... 155222 files and directories currently installed.)\n",
            "Preparing to unpack .../openjdk-8-jre-headless_8u292-b10-0ubuntu1~18.04_amd64.deb ...\n",
            "Unpacking openjdk-8-jre-headless:amd64 (8u292-b10-0ubuntu1~18.04) ...\n",
            "Selecting previously unselected package openjdk-8-jdk-headless:amd64.\n",
            "Preparing to unpack .../openjdk-8-jdk-headless_8u292-b10-0ubuntu1~18.04_amd64.deb ...\n",
            "Unpacking openjdk-8-jdk-headless:amd64 (8u292-b10-0ubuntu1~18.04) ...\n",
            "Setting up openjdk-8-jre-headless:amd64 (8u292-b10-0ubuntu1~18.04) ...\n",
            "update-alternatives: using /usr/lib/jvm/java-8-openjdk-amd64/jre/bin/orbd to provide /usr/bin/orbd (orbd) in auto mode\n",
            "update-alternatives: using /usr/lib/jvm/java-8-openjdk-amd64/jre/bin/servertool to provide /usr/bin/servertool (servertool) in auto mode\n",
            "update-alternatives: using /usr/lib/jvm/java-8-openjdk-amd64/jre/bin/tnameserv to provide /usr/bin/tnameserv (tnameserv) in auto mode\n",
            "Setting up openjdk-8-jdk-headless:amd64 (8u292-b10-0ubuntu1~18.04) ...\n",
            "update-alternatives: using /usr/lib/jvm/java-8-openjdk-amd64/bin/idlj to provide /usr/bin/idlj (idlj) in auto mode\n",
            "update-alternatives: using /usr/lib/jvm/java-8-openjdk-amd64/bin/wsimport to provide /usr/bin/wsimport (wsimport) in auto mode\n",
            "update-alternatives: using /usr/lib/jvm/java-8-openjdk-amd64/bin/jsadebugd to provide /usr/bin/jsadebugd (jsadebugd) in auto mode\n",
            "update-alternatives: using /usr/lib/jvm/java-8-openjdk-amd64/bin/native2ascii to provide /usr/bin/native2ascii (native2ascii) in auto mode\n",
            "update-alternatives: using /usr/lib/jvm/java-8-openjdk-amd64/bin/javah to provide /usr/bin/javah (javah) in auto mode\n",
            "update-alternatives: using /usr/lib/jvm/java-8-openjdk-amd64/bin/hsdb to provide /usr/bin/hsdb (hsdb) in auto mode\n",
            "update-alternatives: using /usr/lib/jvm/java-8-openjdk-amd64/bin/clhsdb to provide /usr/bin/clhsdb (clhsdb) in auto mode\n",
            "update-alternatives: using /usr/lib/jvm/java-8-openjdk-amd64/bin/extcheck to provide /usr/bin/extcheck (extcheck) in auto mode\n",
            "update-alternatives: using /usr/lib/jvm/java-8-openjdk-amd64/bin/schemagen to provide /usr/bin/schemagen (schemagen) in auto mode\n",
            "update-alternatives: using /usr/lib/jvm/java-8-openjdk-amd64/bin/xjc to provide /usr/bin/xjc (xjc) in auto mode\n",
            "update-alternatives: using /usr/lib/jvm/java-8-openjdk-amd64/bin/jhat to provide /usr/bin/jhat (jhat) in auto mode\n",
            "update-alternatives: using /usr/lib/jvm/java-8-openjdk-amd64/bin/wsgen to provide /usr/bin/wsgen (wsgen) in auto mode\n",
            "\u001b[K     |████████████████████████████████| 154 kB 5.4 MB/s \n",
            "\u001b[?25h--2021-12-06 16:24:20--  https://repos.spark-packages.org/graphframes/graphframes/0.8.2-spark3.2-s_2.12/graphframes-0.8.2-spark3.2-s_2.12.jar\n",
            "Resolving repos.spark-packages.org (repos.spark-packages.org)... 52.85.79.89, 52.85.79.83, 52.85.79.81, ...\n",
            "Connecting to repos.spark-packages.org (repos.spark-packages.org)|52.85.79.89|:443... connected.\n",
            "HTTP request sent, awaiting response... 200 OK\n",
            "Length: 247880 (242K) [binary/octet-stream]\n",
            "Saving to: ‘/usr/local/lib/python3.7/dist-packages/pyspark/jars/graphframes-0.8.2-spark3.2-s_2.12.jar’\n",
            "\n",
            "graphframes-0.8.2-s 100%[===================>] 242.07K  --.-KB/s    in 0.03s   \n",
            "\n",
            "2021-12-06 16:24:20 (7.58 MB/s) - ‘/usr/local/lib/python3.7/dist-packages/pyspark/jars/graphframes-0.8.2-spark3.2-s_2.12.jar’ saved [247880/247880]\n",
            "\n"
          ]
        }
      ]
    },
    {
      "cell_type": "code",
      "metadata": {
        "deletable": false,
        "editable": false,
        "id": "BkEErqJnsXyy",
        "nbgrader": {
          "cell_type": "code",
          "checksum": "032f9e425c679e50c3f5c4ea0c8c1a0d",
          "grade": false,
          "grade_id": "cell-eb29d235a981ccf1",
          "locked": true,
          "schema_version": 3,
          "solution": false,
          "task": false
        }
      },
      "source": [
        "import pyspark\n",
        "from pyspark.sql import *\n",
        "from pyspark.sql.functions import *\n",
        "from pyspark import SparkContext, SparkConf\n",
        "from pyspark.sql import SQLContext\n",
        "from pyspark.ml.feature import Tokenizer, RegexTokenizer\n",
        "from graphframes import *"
      ],
      "execution_count": null,
      "outputs": []
    },
    {
      "cell_type": "code",
      "metadata": {
        "deletable": false,
        "editable": false,
        "id": "OgiSewKAsgKd",
        "nbgrader": {
          "cell_type": "code",
          "checksum": "a5af00dff69d4112e18699486f128230",
          "grade": false,
          "grade_id": "cell-3abe6255693138cc",
          "locked": true,
          "schema_version": 3,
          "solution": false,
          "task": false
        }
      },
      "source": [
        "# Initializing spark context\n",
        "# create a spark context and session\n",
        "conf = SparkConf().set(\"spark.ui.port\", \"4050\")\n",
        "sc = pyspark.SparkContext(conf=conf)\n",
        "sc.addPyFile(str(Path(spark_jars) / Path(graphframes_jar).name))\n",
        "spark = SparkSession.builder.getOrCreate()"
      ],
      "execution_count": null,
      "outputs": []
    },
    {
      "cell_type": "markdown",
      "metadata": {
        "id": "A9fjw2J-s87v"
      },
      "source": [
        "You can easily check the current version and get the link of the web interface. In the Spark UI, you can monitor the progress of your job and debug the performance bottlenecks (if your Colab is running with a **local runtime**)."
      ]
    },
    {
      "cell_type": "code",
      "metadata": {
        "id": "PUyhQAlBs8qL",
        "colab": {
          "base_uri": "https://localhost:8080/",
          "height": 219
        },
        "outputId": "9c6d867f-dd03-4e27-ca1b-c148de555bfd"
      },
      "source": [
        "spark"
      ],
      "execution_count": null,
      "outputs": [
        {
          "output_type": "execute_result",
          "data": {
            "text/html": [
              "\n",
              "            <div>\n",
              "                <p><b>SparkSession - in-memory</b></p>\n",
              "                \n",
              "        <div>\n",
              "            <p><b>SparkContext</b></p>\n",
              "\n",
              "            <p><a href=\"http://0e29c4c4edd7:4050\">Spark UI</a></p>\n",
              "\n",
              "            <dl>\n",
              "              <dt>Version</dt>\n",
              "                <dd><code>v3.2.0</code></dd>\n",
              "              <dt>Master</dt>\n",
              "                <dd><code>local[*]</code></dd>\n",
              "              <dt>AppName</dt>\n",
              "                <dd><code>pyspark-shell</code></dd>\n",
              "            </dl>\n",
              "        </div>\n",
              "        \n",
              "            </div>\n",
              "        "
            ],
            "text/plain": [
              "<pyspark.sql.session.SparkSession at 0x7f4e9e3cc150>"
            ]
          },
          "metadata": {},
          "execution_count": 6
        }
      ]
    },
    {
      "cell_type": "markdown",
      "metadata": {
        "id": "19EG5AvVru1J"
      },
      "source": [
        "## Copy some wiki data"
      ]
    },
    {
      "cell_type": "markdown",
      "metadata": {
        "id": "ofyAoTHttjHE"
      },
      "source": [
        "As mentioned above, all wiki dumps were preprocessed and placed in a shared google storage bucket. To access the files in Colab, you will first have to authenticate with google storage, and then copy the data to your local environment. In GCP, the storage will already be mounted on the cluster machines and we will show you how to access it. "
      ]
    },
    {
      "cell_type": "code",
      "metadata": {
        "deletable": false,
        "editable": false,
        "id": "DkdjBm5DOVWX",
        "nbgrader": {
          "cell_type": "code",
          "checksum": "0b138c8dd737320e8f709a125f6862f9",
          "grade": false,
          "grade_id": "cell-e21b8fff61e90a95",
          "locked": true,
          "schema_version": 3,
          "solution": false,
          "task": false
        }
      },
      "source": [
        "# Authenticate your user\n",
        "# The authentication should be done with the email connected to your GCP account\n",
        "from google.colab import auth\n",
        "auth.authenticate_user()"
      ],
      "execution_count": null,
      "outputs": []
    },
    {
      "cell_type": "code",
      "metadata": {
        "deletable": false,
        "editable": false,
        "id": "vDuikxFbN9B7",
        "nbgrader": {
          "cell_type": "code",
          "checksum": "21fef1395f2be15f2a4cac7d41236bf3",
          "grade": false,
          "grade_id": "cell-e19184d540ed3d67",
          "locked": true,
          "schema_version": 3,
          "solution": false,
          "task": false
        },
        "colab": {
          "base_uri": "https://localhost:8080/"
        },
        "outputId": "727dcc89-5e35-43e4-fb07-f130ab82b439"
      },
      "source": [
        "# Copy one wikidumps files \n",
        "import os\n",
        "from pathlib import Path\n",
        "from google.colab import auth\n",
        "\n",
        "project_id = 'core-period-321814'\n",
        "!gcloud config set project {project_id}\n",
        "\n",
        "data_bucket_name = 'wikidata_preprocessed'\n",
        "try:\n",
        "    if os.environ[\"wikidata_preprocessed\"] is not None:\n",
        "        pass  \n",
        "except:\n",
        "      !mkdir wikidumps\n",
        "      !gsutil cp gs://{data_bucket_name}/multistream1_preprocessed.parquet \"wikidumps/\" \n"
      ],
      "execution_count": null,
      "outputs": [
        {
          "output_type": "stream",
          "name": "stdout",
          "text": [
            "Updated property [core/project].\n",
            "\u001b[1;33mWARNING:\u001b[0m You do not appear to have access to project [core-period-321814] or it does not exist.\n",
            "\n",
            "\n",
            "To take a quick anonymous survey, run:\n",
            "  $ gcloud survey\n",
            "\n",
            "Copying gs://wikidata_preprocessed/multistream1_preprocessed.parquet...\n",
            "\\ [1 files][316.7 MiB/316.7 MiB]                                                \n",
            "Operation completed over 1 objects/316.7 MiB.                                    \n"
          ]
        }
      ]
    },
    {
      "cell_type": "markdown",
      "metadata": {
        "id": "_GU4djg6yizh"
      },
      "source": [
        "# Processing wikipedia"
      ]
    },
    {
      "cell_type": "markdown",
      "metadata": {
        "id": "uF9ywiIC-sAX"
      },
      "source": [
        "Now that we completed the setup and have some data in our local environment, we are ready to process it using PySpark. "
      ]
    },
    {
      "cell_type": "markdown",
      "metadata": {
        "id": "tkEUicVTzDZd"
      },
      "source": [
        "## A 2-minute intro to PySpark"
      ]
    },
    {
      "cell_type": "markdown",
      "metadata": {
        "id": "6GVQMbCtzWI2"
      },
      "source": [
        "One of the fundamental data structures in spark is a **Resillient Distributed Dataset (RDD)**. It is an immutable distributed collections of objects that are partitioned across machines, and thus making parallel processing natural and easy. RDD's support two types of operations: *transformations* (e.g. selecting a subset of fields from each element or projecting each element from A->B), and *actions* (e.g. save to disk or `collect` elements into the master node's memory). Watch out for `collect` operations that send too much data to the master node, it will crash without a trace because of running out of memory. \n",
        "\n",
        "Spark employs **lazy-evaluation** (like many of us...), meaning that it accumulates things we ask it to do into an execution plan, but doesn't do any calculation until a result is actually needed. When a result is needed? when we save something to disk, ask spark to show the data, or use other actions. But make no mistakes, Spark is not a slacker. It employs lazy-evaluation because it allows optimizations that wouldn't be possible otherwise and it often saves users from unnecessary data reads, tranfers across machines, and other costly operations. As we will see in a bit, the RDD data structure lends itself to simple and efficient MapReduce operations."
      ]
    },
    {
      "cell_type": "markdown",
      "metadata": {
        "id": "5aQwbFGxPb4D"
      },
      "source": [
        "Let's look at our data before transforming it to RDD."
      ]
    },
    {
      "cell_type": "code",
      "metadata": {
        "deletable": false,
        "editable": false,
        "id": "24AI2jXgOuVN",
        "nbgrader": {
          "cell_type": "code",
          "checksum": "cf07662ebf5f21f0f3bb8d43ee5aa50f",
          "grade": false,
          "grade_id": "cell-b34211e3350164ca",
          "locked": true,
          "schema_version": 3,
          "solution": false,
          "task": false
        },
        "colab": {
          "base_uri": "https://localhost:8080/"
        },
        "outputId": "c8842ee3-ce81-4461-bc76-099b841ae318"
      },
      "source": [
        "from pathlib import Path \n",
        "import os\n",
        "\n",
        "try:\n",
        "    if os.environ[\"wikidata_preprocessed\"] is not None:\n",
        "      path = os.environ[\"wikidata_preprocessed\"]+\"/wikidumps/*\"\n",
        "except:\n",
        "      path = \"wikidumps/*\"\n",
        "\n",
        "parquetFile = spark.read.parquet(path)\n",
        "parquetFile.show()"
      ],
      "execution_count": null,
      "outputs": [
        {
          "output_type": "stream",
          "name": "stdout",
          "text": [
            "+---+--------------------+--------------------+--------------------+\n",
            "| id|               title|                text|         anchor_text|\n",
            "+---+--------------------+--------------------+--------------------+\n",
            "| 12|           Anarchism|'''Anarchism''' i...|[{23040, politica...|\n",
            "| 25|              Autism|'''Autism''' is a...|[{492271, Clinica...|\n",
            "| 39|              Albedo|thumb|upright=1.3...|[{679294, diffuse...|\n",
            "|290|                   A|'''A''', or '''a'...|[{290, See below}...|\n",
            "|303|             Alabama|'''Alabama''' () ...|[{351590, Yellowh...|\n",
            "|305|            Achilles|thumb|260px|Ancie...|[{1076007, potter...|\n",
            "|307|     Abraham Lincoln|'''Abraham Lincol...|[{1827174, Alexan...|\n",
            "|308|           Aristotle|'''Aristotle''' (...|[{1389981, bust},...|\n",
            "|309|An American in Paris|'''''An American ...|[{13066, George G...|\n",
            "|316|Academy Award for...|The '''Academy Aw...|[{39842, Academy ...|\n",
            "|324|      Academy Awards|The '''Academy Aw...|[{649481, film in...|\n",
            "|330|             Actrius|'''''Actresses'''...|[{5282, Catalan},...|\n",
            "|332|     Animalia (book)|'''''Animalia''''...|[{2511084, Graeme...|\n",
            "|334|International Ato...|'''International ...|[{25453985, atomi...|\n",
            "|336|            Altruism|thumb|Giving alms...|[{657573, alms}, ...|\n",
            "|339|            Ayn Rand|'''Alice O'Connor...|[{24320051, St. P...|\n",
            "|340|        Alain Connes|'''Alain Connes''...|[{1201522, Dragui...|\n",
            "|344|          Allan Dwan|'''Allan Dwan''' ...|[{64646, Toronto}...|\n",
            "|358|             Algeria|'''Algeria''', of...|[{803, Arabic}, {...|\n",
            "|359|List of Atlas Shr...|This is a list of...|[{339, Ayn Rand},...|\n",
            "+---+--------------------+--------------------+--------------------+\n",
            "only showing top 20 rows\n",
            "\n"
          ]
        }
      ]
    },
    {
      "cell_type": "code",
      "metadata": {
        "deletable": false,
        "editable": false,
        "id": "KMcsrc8RO9kn",
        "nbgrader": {
          "cell_type": "code",
          "checksum": "9f6dbcc85fde698083cc613e0cc1aaef",
          "grade": false,
          "grade_id": "cell-59e4fe49688570ce",
          "locked": true,
          "schema_version": 3,
          "solution": false,
          "task": false
        }
      },
      "source": [
        "# take the 'text' and 'id' or the first 1000 rows and create an RDD from it\n",
        "doc_text_pairs = parquetFile.limit(1000).select(\"text\", \"id\").rdd"
      ],
      "execution_count": null,
      "outputs": []
    },
    {
      "cell_type": "markdown",
      "metadata": {
        "id": "__g69rcETm4w"
      },
      "source": [
        "## Word counts"
      ]
    },
    {
      "cell_type": "markdown",
      "metadata": {
        "id": "-zUibXvjWb6Q"
      },
      "source": [
        "### Term frequency"
      ]
    },
    {
      "cell_type": "markdown",
      "metadata": {
        "id": "UrBuHUHmA5pP"
      },
      "source": [
        "**YOUR TASK (10 POINTS):** Complete the implementation of `word_count`, which calculates the term-frequency (tf) for each word in a single document.  map function. The functions gets the text and the wiki id, calculates the tf and returns list of tuples in the form of (token, (wiki_id, tf))."
      ]
    },
    {
      "cell_type": "code",
      "metadata": {
        "deletable": false,
        "id": "9GmPedzexLyt",
        "nbgrader": {
          "cell_type": "code",
          "checksum": "27318e0e7bdcd4384f38fbce1f52996a",
          "grade": false,
          "grade_id": "cell-6b21d53c0afef4f6",
          "locked": false,
          "schema_version": 3,
          "solution": true,
          "task": false
        }
      },
      "source": [
        "english_stopwords = frozenset(stopwords.words('english'))\n",
        "corpus_stopwords = ['category', 'references', 'also', 'links', 'extenal', 'see', 'thumb']\n",
        "RE_WORD = re.compile(r\"\"\"[\\#\\@\\w](['\\-]?\\w){2,24}\"\"\", re.UNICODE)\n",
        "\n",
        "all_stopwords = english_stopwords.union(corpus_stopwords)\n",
        "\n",
        "def word_count(text, id):\n",
        "  ''' Count the frequency of each word in `text` (tf) that is not included in \n",
        "  `all_stopwords` and return entries that will go into our posting lists. \n",
        "  Parameters:\n",
        "  -----------\n",
        "    text: str\n",
        "      Text of one document\n",
        "    id: int\n",
        "      Document id\n",
        "  Returns:\n",
        "  --------\n",
        "    List of tuples\n",
        "      A list of (token, (doc_id, tf)) pairs \n",
        "      for example: [(\"Anarchism\", (12, 5)), ...]\n",
        "  '''\n",
        "  tokens = [token.group() for token in RE_WORD.finditer(text.lower())]\n",
        "  # YOUR CODE HERE\n",
        "  word_dict = dict()\n",
        "  for word in tokens:\n",
        "    if word in all_stopwords:\n",
        "      continue\n",
        "    if word not in word_dict.keys():\n",
        "      word_dict[word] = [id, 0]\n",
        "    word_dict[word][1] += 1\n",
        "  res = [(entry[0], tuple(entry[1])) for entry in word_dict.items()]\n",
        "  return res"
      ],
      "execution_count": null,
      "outputs": []
    },
    {
      "cell_type": "code",
      "metadata": {
        "deletable": false,
        "editable": false,
        "id": "RLqHPKUvbT8R",
        "nbgrader": {
          "cell_type": "code",
          "checksum": "f87a2c3f96e1be68b55c7bdc528c9b70",
          "grade": true,
          "grade_id": "cell-078c69c116c8dc58",
          "locked": true,
          "points": 10,
          "schema_version": 3,
          "solution": false,
          "task": false
        }
      },
      "source": [
        "# test for word count\n",
        "text = \"This is a test to check the words count function actually count words\"\n",
        "id = 0\n",
        "word_count_results = word_count(text, id)\n",
        "assert word_count_results[0][0] == 'test'\n",
        "assert len(word_count_results) == 6\n",
        "assert word_count_results[2][1][1] == word_count_results[2][1][1]\n",
        "assert type(word_count_results[0][0]) == str\n",
        "assert type(word_count_results[0][1]) == tuple\n"
      ],
      "execution_count": null,
      "outputs": []
    },
    {
      "cell_type": "code",
      "metadata": {
        "colab": {
          "base_uri": "https://localhost:8080/"
        },
        "id": "D7HHvlrpA2k1",
        "outputId": "8e6b010f-0b91-4956-932e-17bb1af49d0f"
      },
      "source": [
        "word_count_results"
      ],
      "execution_count": null,
      "outputs": [
        {
          "output_type": "execute_result",
          "data": {
            "text/plain": [
              "[('test', (0, 1)),\n",
              " ('check', (0, 1)),\n",
              " ('words', (0, 2)),\n",
              " ('count', (0, 2)),\n",
              " ('function', (0, 1)),\n",
              " ('actually', (0, 1))]"
            ]
          },
          "metadata": {},
          "execution_count": 13
        }
      ]
    },
    {
      "cell_type": "markdown",
      "metadata": {
        "id": "MNC7QlO8KZL_"
      },
      "source": [
        "PySpark has a `map` trasformation that, just like we learned in class about Map in MapReduce, executes a given function on each element of an  RDD. It also has a `flatMap()` transformation that executes a given function on each element of an RDD, but afterwards flattens the results to create one big \"list\" instead multiple nested lists. For example, `flatMap` on the above `word_count` function will concatenate the tokens from multiple document into one big list rather than keeping separate list of tokens for each document like a regular `map` would produce. "
      ]
    },
    {
      "cell_type": "code",
      "metadata": {
        "deletable": false,
        "editable": false,
        "id": "g3DUXXzxsy-B",
        "nbgrader": {
          "cell_type": "code",
          "checksum": "1b9779ec6b1e9dc06e41ea10fd7c259a",
          "grade": false,
          "grade_id": "cell-340917ce88e0d116",
          "locked": true,
          "schema_version": 3,
          "solution": false,
          "task": false
        }
      },
      "source": [
        "word_counts = doc_text_pairs.flatMap(lambda x: word_count(x[0], x[1]))"
      ],
      "execution_count": null,
      "outputs": []
    },
    {
      "cell_type": "markdown",
      "metadata": {
        "id": "cwC3pX1ss1en"
      },
      "source": [
        "After `flatMap` is executed, the counts for a given token are likely to be scattered accross multiple machines/workers in the cluster. In order to create the posting lists for each token, we need a reduce operation that collects them into one list and sorts them by the document id (wiki_id). \n",
        "\n",
        "Spark has several ways of reducing or aggergating values, but we will use `groupByKey`, which like Reduce in MapReduce, collects all the values for a given key into an iterable list of the values associated with that key. The result of `groupByKey` is an RDD with (key, value*s*) pairs. Then, we can call `map` to execute a function on each pair in that RDD or call `mapValues` to execute a function only on the values iterable.\n",
        "\n",
        "**YOUR TASK (5 POINTS):** Complete the implementation of `reduce_word_counts`, which operates on the pairs returned by `word_count`. The functions gets a list of values (unsorted posting list) and sorts it."
      ]
    },
    {
      "cell_type": "code",
      "metadata": {
        "deletable": false,
        "id": "1yFhHQBZHIBb",
        "nbgrader": {
          "cell_type": "code",
          "checksum": "b8b3d536f304b848874fd48edd59268c",
          "grade": false,
          "grade_id": "cell-78a1517e2ac6a914",
          "locked": false,
          "schema_version": 3,
          "solution": true,
          "task": false
        }
      },
      "source": [
        "def reduce_word_counts(unsorted_pl):\n",
        "  ''' Returns a sorted posting list by wiki_id.\n",
        "  Parameters:\n",
        "  -----------\n",
        "    unsorted_pl: list of tuples\n",
        "      A list of (wiki_id, tf) tuples \n",
        "  Returns:\n",
        "  --------\n",
        "    list of tuples\n",
        "      A sorted posting list.\n",
        "  '''\n",
        "  # # YOUR CODE HERE\n",
        "  # wiki_dict = dict()\n",
        "  # for tup in unsorted_pl:\n",
        "  #   if tup[0] not in wiki_dict.keys():\n",
        "  #     wiki_dict[tup[0]] = 0\n",
        "  #   wiki_dict[tup[0]] += tup[1]\n",
        "  # res = wiki_dict.items().sort(key = lambda tup: tup[0], reverse=True)\n",
        "  l = list(unsorted_pl)\n",
        "\n",
        "  return sorted(l, key = lambda item: item[0])"
      ],
      "execution_count": null,
      "outputs": []
    },
    {
      "cell_type": "code",
      "metadata": {
        "deletable": false,
        "editable": false,
        "id": "6zbBgNIM46OX",
        "nbgrader": {
          "cell_type": "code",
          "checksum": "e852c4699f374fa118340664637d9d2c",
          "grade": true,
          "grade_id": "cell-2585ebc19d7fb56f",
          "locked": true,
          "points": 5,
          "schema_version": 3,
          "solution": false,
          "task": false
        }
      },
      "source": [
        "## test reduce_word_count\n",
        "token, posting_list = postings.take(1)[0]\n",
        "assert type(token) == str\n",
        "assert type(posting_list) == list\n",
        "doc_id, tf = zip(*posting_list)\n",
        "assert type(doc_id[0]) == int\n",
        "assert type(tf[0]) == int\n",
        "assert np.diff(doc_id).min() > 0 \n",
        "assert np.min(tf) > 0 \n",
        "assert postings.count() == 153014"
      ],
      "execution_count": null,
      "outputs": []
    },
    {
      "cell_type": "markdown",
      "metadata": {
        "id": "3LiIJMOjWnsB"
      },
      "source": [
        "### Document frequency and filteration"
      ]
    },
    {
      "cell_type": "markdown",
      "metadata": {
        "id": "zrWoS-kHvhmM"
      },
      "source": [
        "Next, we will filter out rare words, words that appear in 10 or fewer documents (when working on the entire corpus, we will increase this threshold to a minimum of 50 documents). "
      ]
    },
    {
      "cell_type": "code",
      "metadata": {
        "deletable": false,
        "editable": false,
        "id": "EnrhMaR0digd",
        "nbgrader": {
          "cell_type": "code",
          "checksum": "e0deadc5799532d013e5f5a8c6cc8cdb",
          "grade": false,
          "grade_id": "cell-6c0501a9eb9b1059",
          "locked": true,
          "schema_version": 3,
          "solution": false,
          "task": false
        }
      },
      "source": [
        "postings_filtered = postings.filter(lambda x: len(x[1])>10)"
      ],
      "execution_count": null,
      "outputs": []
    },
    {
      "cell_type": "markdown",
      "metadata": {
        "id": "-bclZ2cmFRjq"
      },
      "source": [
        "Now, we would like to calculate the df for each word.\n",
        "\n",
        "**YOUR TASK (5 POINTS):** Complete the implementation of `calculate_df` that takes a posting list RDD and returns an RDD where each element is a (token, df) pair. "
      ]
    },
    {
      "cell_type": "code",
      "metadata": {
        "deletable": false,
        "id": "J_-UoG2CGj4o",
        "nbgrader": {
          "cell_type": "code",
          "checksum": "795721521242afd06958773d307bc60a",
          "grade": false,
          "grade_id": "cell-6c7774baf403e8e7",
          "locked": false,
          "schema_version": 3,
          "solution": true,
          "task": false
        }
      },
      "source": [
        "def calculate_df(postings):\n",
        "  ''' Takes a posting list RDD and calculate the df for each token.\n",
        "  Parameters:\n",
        "  -----------\n",
        "    postings: RDD\n",
        "      An RDD where each element is a (token, posting_list) pair.\n",
        "  Returns:\n",
        "  --------\n",
        "    RDD\n",
        "      An RDD where each element is a (token, df) pair.\n",
        "  '''\n",
        "  # YOUR CODE HERE\n",
        "  return postings.mapValues(len) "
      ],
      "execution_count": null,
      "outputs": []
    },
    {
      "cell_type": "code",
      "metadata": {
        "deletable": false,
        "editable": false,
        "id": "ddVcByPLCaP_",
        "nbgrader": {
          "cell_type": "code",
          "checksum": "c720fdbf8b2eabc0e6f82d7a7ef48b8d",
          "grade": true,
          "grade_id": "cell-abfcf7244829f520",
          "locked": true,
          "points": 5,
          "schema_version": 3,
          "solution": false,
          "task": false
        }
      },
      "source": [
        "# global statistics\n",
        "w2df = calculate_df(postings_filtered)\n",
        "\n",
        "# test calculate_df types\n",
        "token, df = w2df.take(1)[0]\n",
        "assert type(token) == str\n",
        "assert type(df) == int\n",
        "# test min/max df values\n",
        "# collectAsMap collects the results to the master node's memory as a dictionary.\n",
        "# we know it's not so big so this is okay.\n",
        "w2df_dict = w2df.collectAsMap()\n",
        "assert np.min(list(w2df_dict.values())) == 11\n",
        "assert np.max(list(w2df_dict.values())) == 819\n",
        "# test select words\n",
        "assert w2df_dict['first'] == 805\n",
        "assert w2df_dict['many'] == 670\n",
        "assert w2df_dict['used'] == 648"
      ],
      "execution_count": null,
      "outputs": []
    },
    {
      "cell_type": "markdown",
      "metadata": {
        "id": "5z1wMOiFTyGJ"
      },
      "source": [
        "## Partitioning and writing the index"
      ]
    },
    {
      "cell_type": "markdown",
      "metadata": {
        "id": "q3a2sC0WytzO"
      },
      "source": [
        "Now that we have the postings information we need to write it to disk. We would like to partition the tokens and posting lists into buckets so when we get a query, we know exactly in which bucket to look for its posting list. This can also help parallelize retrieval from the index if we have multiple machines answering queries. \n",
        "\n",
        "Here, you are asked to do this partitioning/bucketing through another round of map and reduce operations, where the last step should be to write out each bucket into a separate inverted index on disk. Use the staff-provided function of  `write_a_posting_list` implemented in inverted_index_colab.py for the InvertedIndex class. Eventually, this partitioning and writing process needs to return information about where each posting list is located (file name and offset) for a token. \n",
        "\n",
        "**YOUR TASK (20 POINTS):** Complete the implementation of `partition_postings_and_write` that partitions the posting list, writes out each bucket, and returns information about the location on disk of each posting list."
      ]
    },
    {
      "cell_type": "code",
      "metadata": {
        "deletable": false,
        "id": "MvZDJk0bu9V9",
        "nbgrader": {
          "cell_type": "code",
          "checksum": "a3aaab30238939a14be6a58056ed3000",
          "grade": false,
          "grade_id": "cell-e85a52ed1c96897a",
          "locked": false,
          "schema_version": 3,
          "solution": true,
          "task": false
        }
      },
      "source": [
        "NUM_BUCKETS = 124\n",
        "def token2bucket_id(token):\n",
        "  return int(_hash(token),16) % NUM_BUCKETS\n",
        "\n",
        "def partition_postings_and_write(postings):\n",
        "  ''' A function that partitions the posting lists into buckets, writes out \n",
        "  all posting lists in a bucket to disk, and returns the posting locations for \n",
        "  each bucket. Partitioning should be done through the use of `token2bucket` \n",
        "  above. Writing to disk should use the function  `write_a_posting_list`, a \n",
        "  static method implemented in inverted_index_colab.py under the InvertedIndex \n",
        "  class. \n",
        "  Parameters:\n",
        "  -----------\n",
        "    postings: RDD\n",
        "      An RDD where each item is a (w, posting_list) pair.\n",
        "  Returns:\n",
        "  --------\n",
        "    RDD\n",
        "      An RDD where each item is a posting locations dictionary for a bucket. The\n",
        "      posting locations maintain a list for each word of file locations and \n",
        "      offsets its posting list was written to. See `write_a_posting_list` for \n",
        "      more details.\n",
        "  '''\n",
        "  # YOUR CODE HERE\n",
        "  r1 = postings.map(lambda tup: (token2bucket_id(tup[0]), [tup]))\n",
        "  r2 = r1.reduceByKey(lambda p_lst1, p_lst2: p_lst1 + p_lst2) # group_by_key\n",
        "  r3 = r2.map(lambda tup: InvertedIndex.write_a_posting_list(tup))\n",
        "  #r3 = r2.map(lambda tup: InvertedIndex.write_a_posting_list((tup[0], [(t[0], list(t[1])[0]) for t in tup[1]])))\n",
        "  return r3 #.map(lambda tup: InvertedIndex.write_a_posting_list(tup))"
      ],
      "execution_count": null,
      "outputs": []
    },
    {
      "cell_type": "markdown",
      "metadata": {
        "id": "fohEJFfR3QiE"
      },
      "source": [
        "The next cell uses the `collect` operator to aggregate the posting location information from the multiple buckets/indices into a single dictionary. We know in this case that the posting locations info is relatively small so this is not going to crash our master node. "
      ]
    },
    {
      "cell_type": "code",
      "metadata": {
        "deletable": false,
        "editable": false,
        "id": "vxCMgAlRDIac",
        "nbgrader": {
          "cell_type": "code",
          "checksum": "a22f7669520fe9435380b4226b14665e",
          "grade": true,
          "grade_id": "cell-708dc83ae80344eb",
          "locked": true,
          "points": 10,
          "schema_version": 3,
          "solution": false,
          "task": false
        },
        "colab": {
          "base_uri": "https://localhost:8080/"
        },
        "outputId": "d8386fcc-6eeb-48d3-8129-8acf7c570fe4"
      },
      "source": [
        "# test partitioning for the different buckets (10 points)\n",
        "posting_locs_list = partition_postings_and_write(postings_filtered).collect()\n",
        "assert len(posting_locs_list) == 124\n",
        "assert len(list(Path('.').glob('*.bin'))) == 124\n",
        "pl_lens = [len(pl) for pl in posting_locs_list]\n",
        "assert np.max(pl_lens) == 141\n",
        "assert np.min(pl_lens) == 91 \n",
        "assert int(np.median(pl_lens)) == 116"
      ],
      "execution_count": null,
      "outputs": [
        {
          "output_type": "stream",
          "name": "stdout",
          "text": [
            "[(83, [('political', [(12, 26), (303, 5), (307, 24), (308, 10), (336, 1), (339, 20), (358, 15), (359, 2), (569, 20), (594, 1), (600, 8), (620, 11), (624, 5), (627, 3), (643, 2), (663, 2), (665, 2), (676, 1), (677, 1), (689, 4), (690, 2), (691, 9), (700, 6), (701, 22), (705, 3), (706, 1), (717, 4), (736, 3), (737, 9), (738, 9), (740, 1), (746, 10), (751, 1), (752, 8), (771, 13), (783, 2), (802, 3), (803, 3), (808, 1), (825, 1), (841, 1), (842, 3), (846, 6), (854, 1), (857, 2), (863, 18), (872, 5), (874, 6), (880, 1), (881, 2), (888, 1), (905, 7), (911, 1), (930, 2), (931, 1), (933, 1), (951, 4), (954, 10), (974, 1), (981, 1), (983, 4), (1008, 1), (1016, 1), (1017, 7), (1023, 17), (1028, 11), (1030, 11), (1036, 1), (1051, 1), (1057, 2), (1058, 2), (1070, 2), (1078, 29), (1087, 2), (1093, 7), (1094, 5), (1096, 1), (1097, 2), (1098, 2), (1111, 2), (1129, 1), (1130, 2), (1141, 2), (1148, 2), (1164, 2), (1167, 3), (1168, 2), (1169, 1), (1171, 1), (1174, 1), (1175, 3), (1177, 3), (1182, 1), (1192, 2), (1193, 12), (1203, 2), (1214, 3), (1216, 3), (1217, 1), (1227, 1), (1235, 5), (1239, 4), (1241, 4), (1252, 1), (1254, 1), (1256, 1), (1259, 2), (1261, 1), (1270, 3), (1273, 30), (1274, 1), (1285, 1), (1286, 1), (1288, 1), (1298, 2), (1305, 1), (1306, 1), (1316, 10), (1324, 4), (1332, 1), (1334, 1), (1348, 1), (1363, 1), (1370, 6), (1376, 3), (1395, 4), (1397, 1), (1409, 2), (1417, 2), (1438, 1), (1442, 3), (1461, 3), (1486, 1), (1490, 1), (1491, 1), (1494, 3), (1495, 11), (1499, 2), (1500, 1), (1513, 1), (1514, 4), (1519, 1), (1520, 2), (1527, 1), (1530, 5), (1537, 1), (1541, 1), (1546, 6), (1550, 2), (1556, 2), (1557, 3), (1560, 1), (1566, 6), (1570, 3), (1571, 2), (1575, 3), (1576, 1), (1577, 11), (1583, 1), (1592, 4), (1595, 3), (1613, 2), (1616, 1), (1617, 2), (1623, 25), (1624, 24), (1625, 11), (1627, 1), (1640, 1), (1644, 5), (1649, 4), (1655, 1), (1657, 3), (1659, 1), (1660, 1), (1661, 1), (1676, 2), (1677, 5), (1683, 1), (1686, 3), (1687, 1), (1688, 1), (1710, 1), (1711, 1), (1715, 5), (1719, 1), (1734, 1), (1737, 2), (1750, 1), (1752, 1), (1762, 1), (1767, 1), (1770, 1), (1781, 1), (1787, 1), (1791, 2), (1806, 16), (1812, 12), (1814, 5), (1822, 2), (1826, 1), (1828, 3), (1837, 3), (1841, 1), (1842, 4), (1845, 1), (1854, 1), (1857, 3), (1859, 2), (1874, 2), (1880, 1), (1881, 1), (1921, 8), (1930, 7), (1934, 1), (1938, 5), (1942, 2), (1943, 11), (1950, 24), (1955, 1), (1965, 2), (1973, 24), (1990, 2), (1994, 1), (1998, 5), (2006, 11), (2007, 1), (2009, 1), (2011, 1), (2018, 1), (2030, 11), (2042, 5), (2047, 3), (2053, 1), (2067, 2), (2070, 5), (2075, 7), (2076, 1), (2084, 2), (2085, 3), (2101, 1), (2104, 5), (2108, 1), (2122, 5), (2126, 5), (2130, 5), (2140, 1), (2148, 1), (2151, 7), (2152, 1), (2154, 18), (2162, 1), (2166, 6), (2167, 1), (2176, 17), (2178, 1), (2180, 1), (2185, 6), (2187, 5), (2194, 2), (2210, 2), (2216, 4), (2224, 1), (2226, 2), (2235, 1), (2236, 2), (2238, 2), (2241, 7), (2299, 3), (2303, 2), (2310, 2), (2314, 2), (2321, 1), (2326, 1), (2331, 1), (2332, 2), (2338, 1), (2345, 1), (2371, 4), (2376, 8), (2377, 1), (2384, 1), (2398, 1), (2406, 1), (2417, 1), (2418, 1), (2422, 3), (2425, 9), (2439, 1), (2447, 1)]), ('history', [(12, 5), (25, 2), (290, 2), (303, 9), (305, 4), (307, 10), (308, 7), (324, 7), (334, 2), (336, 1), (339, 6), (344, 1), (358, 10), (359, 1), (569, 17), (572, 2), (573, 18), (586, 1), (593, 2), (595, 9), (597, 1), (599, 2), (600, 7), (612, 1), (615, 1), (620, 5), (621, 2), (624, 5), (627, 3), (628, 1), (633, 2), (634, 1), (651, 3), (655, 1), (657, 2), (659, 1), (662, 1), (663, 2), (665, 2), (666, 3), (670, 3), (673, 2), (674, 5), (676, 1), (678, 2), (680, 1), (683, 1), (689, 7), (690, 2), (691, 4), (698, 3), (700, 4), (701, 4), (706, 1), (708, 1), (709, 3), (711, 2), (713, 2), (717, 7), (736, 5), (737, 10), (738, 13), (740, 1), (746, 8), (748, 1), (751, 2), (752, 19), (765, 4), (771, 15), (772, 1), (775, 4), (782, 1), (783, 4), (786, 3), (798, 1), (799, 1), (800, 3), (802, 12), (803, 6), (808, 7), (824, 4), (825, 1), (841, 4), (842, 3), (843, 1), (844, 6), (846, 5), (848, 1), (849, 7), (852, 5), (854, 5), (856, 7), (857, 2), (863, 13), (864, 2), (868, 1), (869, 5), (872, 2), (874, 17), (876, 2), (880, 6), (887, 3), (888, 1), (894, 5), (896, 2), (897, 2), (898, 3), (899, 1), (900, 1), (901, 1), (902, 2), (904, 4), (905, 2), (909, 4), (910, 3), (922, 3), (925, 1), (928, 5), (929, 1), (931, 4), (951, 2), (953, 3), (956, 1), (957, 1), (958, 1), (967, 1), (974, 6), (980, 3), (981, 2), (983, 3), (984, 5), (986, 2), (1000, 2), (1004, 3), (1006, 1), (1008, 2), (1009, 3), (1010, 1), (1011, 1), (1012, 2), (1013, 1), (1014, 2), (1016, 4), (1017, 6), (1020, 4), (1022, 2), (1023, 1), (1028, 4), (1029, 1), (1030, 3), (1032, 2), (1038, 7), (1049, 2), (1051, 2), (1055, 1), (1057, 1), (1058, 1), (1063, 1), (1064, 1), (1070, 1), (1078, 15), (1081, 2), (1088, 5), (1093, 1), (1094, 1), (1096, 1), (1097, 1), (1110, 1), (1129, 1), (1130, 9), (1132, 11), (1134, 5), (1135, 3), (1136, 4), (1140, 1), (1141, 12), (1143, 2), (1144, 1), (1146, 3), (1148, 6), (1152, 2), (1154, 1), (1158, 1), (1160, 1), (1162, 2), (1164, 5), (1167, 2), (1168, 8), (1170, 4), (1171, 2), (1174, 1), (1175, 2), (1177, 1), (1178, 7), (1181, 3), (1182, 1), (1183, 2), (1187, 1), (1192, 2), (1193, 3), (1196, 1), (1198, 1), (1200, 1), (1201, 3), (1202, 1), (1203, 130), (1206, 1), (1207, 1), (1208, 8), (1209, 1), (1210, 2), (1212, 3), (1214, 4), (1216, 8), (1217, 4), (1227, 1), (1235, 1), (1239, 6), (1241, 1), (1242, 1), (1252, 1), (1254, 2), (1256, 5), (1261, 1), (1267, 1), (1270, 2), (1271, 4), (1273, 7), (1274, 1), (1286, 1), (1288, 4), (1291, 2), (1293, 1), (1298, 2), (1300, 1), (1301, 1), (1305, 7), (1306, 4), (1316, 82), (1317, 1), (1322, 1), (1324, 3), (1325, 1), (1327, 1), (1333, 1), (1334, 2), (1336, 3), (1338, 5), (1344, 7), (1346, 8), (1347, 4), (1348, 4), (1349, 3), (1354, 1), (1358, 1), (1359, 2), (1360, 3), (1361, 2), (1362, 1), (1363, 3), (1365, 2), (1366, 3), (1367, 8), (1370, 4), (1371, 1), (1372, 4), (1373, 1), (1374, 2), (1376, 2), (1380, 1), (1384, 1), (1387, 3), (1394, 1), (1395, 1), (1397, 4), (1400, 3), (1408, 5), (1416, 2), (1418, 1), (1423, 2), (1428, 1), (1435, 1), (1436, 4), (1438, 1), (1440, 1), (1441, 2), (1445, 2), (1446, 5), (1448, 2), (1449, 1), (1451, 3), (1453, 3), (1456, 1), (1460, 1), (1461, 13), (1486, 3), (1488, 2), (1490, 1), (1494, 19), (1495, 4), (1496, 2), (1497, 1), (1509, 2), (1520, 8), (1523, 1), (1525, 3), (1526, 1), (1527, 1), (1529, 3), (1530, 9), (1536, 1), (1537, 5), (1540, 2), (1541, 2), (1542, 1), (1544, 3), (1545, 1), (1546, 3), (1547, 1), (1548, 4), (1549, 1), (1550, 6), (1556, 1), (1557, 2), (1558, 7), (1560, 8), (1563, 1), (1565, 1), (1566, 6), (1570, 5), (1571, 1), (1573, 1), (1575, 8), (1576, 4), (1579, 2), (1581, 1), (1586, 2), (1588, 1), (1589, 2), (1592, 6), (1594, 1), (1595, 2), (1596, 3), (1600, 5), (1601, 1), (1613, 1), (1616, 1), (1617, 2), (1620, 3), (1623, 8), (1624, 7), (1625, 12), (1627, 8), (1628, 2), (1629, 1), (1633, 2), (1634, 1), (1635, 1), (1639, 3), (1640, 4), (1642, 1), (1643, 2), (1644, 7), (1645, 11), (1647, 2), (1649, 7), (1652, 1), (1653, 3), (1657, 4), (1661, 1), (1669, 1), (1677, 3), (1680, 1), (1686, 1), (1687, 1), (1690, 1), (1695, 2), (1697, 2), (1698, 3), (1700, 3), (1701, 2), (1702, 3), (1710, 1), (1715, 5), (1716, 1), (1718, 1), (1719, 4), (1722, 3), (1724, 2), (1727, 1), (1729, 1), (1734, 1), (1735, 1), (1737, 4), (1746, 2), (1748, 1), (1750, 2), (1752, 1), (1755, 1), (1756, 1), (1758, 1), (1759, 2), (1760, 1), (1764, 1), (1767, 8), (1770, 4), (1776, 4), (1777, 2), (1786, 4), (1787, 1), (1789, 1), (1791, 2), (1800, 1), (1802, 1), (1805, 3), (1806, 3), (1810, 1), (1812, 1), (1814, 8), (1822, 8), (1826, 2), (1827, 1), (1828, 4), (1832, 1), (1834, 1), (1837, 5), (1839, 1), (1840, 2), (1841, 4), (1842, 1), (1844, 2), (1845, 4), (1853, 2), (1857, 1), (1859, 5), (1862, 2), (1864, 5), (1866, 1), (1871, 4), (1874, 3), (1875, 2), (1880, 1), (1881, 1), (1884, 3), (1890, 6), (1893, 1), (1894, 1), (1896, 2), (1897, 3), (1905, 3), (1908, 1), (1910, 1), (1912, 2), (1914, 1), (1921, 2), (1923, 4), (1924, 1), (1926, 1), (1927, 1), (1930, 9), (1933, 1), (1934, 1), (1937, 2), (1938, 7), (1941, 1), (1942, 6), (1943, 1), (1944, 3), (1948, 1), (1950, 4), (1955, 3), (1957, 1), (1960, 3), (1962, 2), (1966, 2), (1967, 1), (1968, 1), (1969, 3), (1970, 1), (1971, 6), (1973, 25), (1974, 1), (1979, 2), (1980, 4), (1988, 1), (1997, 1), (1998, 8), (2006, 2), (2007, 3), (2009, 2), (2017, 2), (2018, 1), (2019, 2), (2024, 2), (2025, 3), (2027, 1), (2029, 1), (2030, 4), (2032, 2), (2037, 3), (2039, 1), (2047, 4), (2052, 1), (2053, 6), (2062, 4), (2064, 2), (2065, 3), (2067, 3), (2070, 3), (2075, 3), (2076, 1), (2077, 2), (2078, 1), (2082, 1), (2083, 7), (2084, 6), (2085, 15), (2088, 3), (2089, 1), (2100, 1), (2101, 3), (2102, 7), (2103, 11), (2104, 2), (2108, 2), (2113, 1), (2114, 2), (2115, 1), (2117, 1), (2122, 5), (2123, 1), (2129, 2), (2130, 5), (2134, 5), (2136, 3), (2140, 20), (2141, 1), (2144, 5), (2147, 5), (2148, 1), (2154, 17), (2161, 1), (2162, 2), (2167, 2), (2170, 1), (2171, 1), (2174, 11), (2175, 8), (2176, 4), (2178, 9), (2179, 2), (2180, 2), (2185, 14), (2187, 5), (2194, 1), (2195, 2), (2196, 2), (2201, 1), (2202, 1), (2204, 1), (2207, 1), (2209, 1), (2210, 9), (2215, 4), (2216, 1), (2217, 5), (2218, 1), (2219, 4), (2221, 2), (2222, 1), (2224, 1), (2226, 3), (2233, 4), (2234, 7), (2236, 6), (2237, 1), (2241, 1), (2244, 2), (2245, 1), (2257, 4), (2268, 1), (2273, 5), (2274, 3), (2275, 1), (2279, 3), (2282, 1), (2284, 1), (2286, 1), (2287, 2), (2288, 1), (2289, 1), (2296, 1), (2299, 1), (2303, 4), (2310, 1), (2314, 3), (2315, 2), (2321, 3), (2322, 1), (2326, 2), (2328, 1), (2335, 1), (2338, 3), (2340, 1), (2341, 2), (2343, 6), (2346, 1), (2357, 8), (2358, 17), (2362, 2), (2369, 3), (2371, 1), (2377, 8), (2380, 1), (2382, 6), (2383, 1), (2384, 1), (2386, 3), (2388, 4), (2393, 1), (2395, 1), (2396, 1), (2400, 2), (2402, 3), (2403, 2), (2405, 2), (2408, 1), (2411, 4), (2414, 2), (2417, 2), (2425, 8), (2428, 3), (2431, 1), (2439, 2), (2440, 2), (2441, 1), (2444, 5), (2447, 3)]), ('toward', [(12, 3), (25, 1), (303, 1), (305, 1), (307, 6), (308, 2), (324, 1), (336, 2), (358, 1), (569, 4), (573, 1), (586, 1), (595, 1), (600, 1), (624, 1), (634, 1), (639, 1), (655, 1), (656, 1), (662, 2), (664, 1), (665, 1), (666, 1), (700, 1), (717, 1), (737, 1), (738, 1), (748, 1), (752, 2), (765, 1), (771, 2), (775, 1), (791, 1), (799, 1), (803, 3), (808, 3), (824, 2), (852, 1), (854, 4), (856, 2), (863, 1), (872, 1), (874, 1), (894, 2), (898, 1), (899, 1), (922, 1), (930, 1), (956, 1), (957, 1), (958, 1), (969, 1), (981, 2), (1010, 1), (1023, 1), (1051, 1), (1078, 9), (1087, 1), (1091, 1), (1093, 1), (1094, 1), (1162, 1), (1166, 1), (1177, 3), (1178, 1), (1196, 2), (1206, 2), (1207, 1), (1213, 1), (1216, 3), (1239, 1), (1252, 2), (1267, 1), (1273, 2), (1285, 2), (1316, 1), (1347, 2), (1358, 2), (1365, 4), (1370, 2), (1394, 1), (1395, 1), (1418, 2), (1423, 2), (1436, 2), (1446, 1), (1449, 1), (1466, 1), (1485, 2), (1486, 1), (1495, 1), (1525, 1), (1526, 1), (1540, 1), (1556, 1), (1557, 1), (1566, 1), (1570, 1), (1571, 1), (1623, 1), (1624, 1), (1625, 2), (1653, 2), (1716, 1), (1719, 1), (1726, 1), (1735, 2), (1770, 1), (1791, 4), (1805, 1), (1812, 2), (1814, 2), (1822, 1), (1845, 2), (1890, 2), (1902, 4), (1921, 2), (1942, 1), (1950, 2), (1962, 1), (1965, 1), (1967, 1), (1968, 1), (1971, 1), (1973, 3), (1979, 2), (1998, 1), (2006, 4), (2007, 3), (2011, 1), (2015, 1), (2023, 2), (2025, 2), (2041, 2), (2062, 1), (2065, 5), (2067, 1), (2076, 1), (2086, 2), (2130, 1), (2134, 1), (2141, 1), (2148, 2), (2154, 4), (2175, 1), (2178, 4), (2185, 1), (2187, 2), (2241, 2), (2251, 1), (2275, 1), (2284, 1), (2321, 1), (2323, 1), (2357, 1), (2371, 1), (2397, 1), (2400, 1), (2411, 1), (2431, 2), (2443, 4), (2457, 2)]), ('apparatus', [(12, 1), (308, 1), (573, 3), (621, 1), (633, 1), (734, 1), (746, 2), (852, 4), (896, 1), (900, 1), (1097, 1), (1129, 1), (1141, 7), (1208, 2), (1271, 1), (1347, 1), (1770, 1), (1822, 4), (1844, 1), (1910, 2), (1937, 1), (1962, 1), (1997, 1), (2176, 1), (2218, 1), (2221, 1), (2296, 1)]), ('1903', [(12, 1), (303, 1), (569, 1), (651, 1), (662, 2), (700, 1), (736, 6), (748, 1), (751, 1), (798, 1), (852, 2), (881, 1), (904, 1), (915, 1), (924, 3), (1008, 3), (1009, 4), (1010, 2), (1011, 1), (1012, 3), (1013, 1), (1019, 5), (1022, 1), (1027, 3), (1029, 1), (1038, 1), (1051, 1), (1057, 2), (1129, 2), (1132, 2), (1140, 1), (1154, 3), (1175, 1), (1177, 3), (1182, 1), (1187, 2), (1193, 2), (1210, 2), (1254, 2), (1259, 2), (1261, 3), (1332, 1), (1333, 3), (1334, 1), (1346, 5), (1347, 1), (1367, 1), (1416, 2), (1417, 1), (1428, 2), (1436, 1), (1442, 1), (1490, 1), (1491, 1), (1495, 2), (1496, 2), (1497, 1), (1499, 2), (1501, 1), (1504, 1), (1519, 2), (1530, 1), (1541, 1), (1546, 1), (1548, 4), (1552, 1), (1578, 1), (1595, 7), (1601, 2), (1602, 1), (1624, 1), (1627, 1), (1628, 2), (1629, 1), (1639, 1), (1677, 1), (1710, 1), (1711, 3), (1777, 1), (1781, 3), (1787, 5), (1793, 1), (1794, 2), (1826, 2), (1827, 1), (1859, 2), (1862, 2), (1881, 3), (1915, 1), (1925, 1), (1937, 1), (1938, 6), (1974, 3), (1990, 1), (2065, 1), (2083, 1), (2148, 1), (2166, 1), (2187, 1), (2192, 2), (2194, 4), (2196, 3), (2210, 1), (2219, 1), (2279, 3), (2315, 2), (2326, 1), (2333, 1), (2339, 1), (2345, 1), (2346, 1), (2382, 3), (2383, 1), (2395, 5), (2447, 1)]), ('technologies', [(12, 1), (25, 1), (572, 1), (627, 5), (653, 5), (657, 2), (659, 3), (662, 1), (689, 1), (698, 3), (701, 2), (717, 1), (740, 1), (746, 1), (775, 1), (800, 2), (803, 3), (848, 1), (849, 1), (856, 3), (930, 3), (1051, 1), (1072, 1), (1081, 1), (1094, 2), (1097, 1), (1140, 1), (1148, 1), (1164, 6), (1170, 1), (1198, 1), (1203, 1), (1270, 2), (1279, 3), (1397, 4), (1418, 1), (1423, 1), (1435, 1), (1460, 1), (1461, 2), (1627, 1), (1645, 2), (1778, 1), (1791, 3), (1841, 1), (1881, 5), (1915, 1), (1942, 1), (1979, 1), (1980, 4), (2039, 1), (2117, 2), (2147, 1), (2148, 2), (2192, 1), (2193, 1), (2215, 4), (2224, 1), (2234, 1), (2236, 2), (2275, 1), (2362, 1), (2377, 1), (2392, 1), (2400, 13), (2408, 1), (2425, 1), (2428, 1)]), ('ability', [(12, 4), (25, 4), (303, 2), (307, 3), (308, 4), (336, 3), (358, 1), (359, 1), (569, 1), (594, 2), (621, 3), (634, 1), (639, 1), (640, 2), (653, 2), (656, 1), (657, 1), (662, 1), (664, 1), (666, 3), (676, 1), (680, 1), (691, 1), (710, 1), (736, 1), (737, 1), (751, 3), (752, 7), (771, 2), (782, 1), (783, 2), (785, 1), (802, 1), (803, 1), (808, 1), (852, 3), (856, 5), (863, 1), (874, 2), (876, 1), (894, 2), (897, 1), (902, 1), (904, 2), (914, 1), (922, 3), (956, 2), (958, 1), (974, 1), (1000, 1), (1002, 1), (1008, 1), (1022, 3), (1038, 1), (1049, 1), (1064, 1), (1078, 1), (1081, 1), (1094, 1), (1097, 1), (1140, 2), (1141, 1), (1144, 2), (1162, 1), (1164, 9), (1166, 1), (1170, 1), (1178, 4), (1181, 1), (1182, 2), (1183, 3), (1187, 3), (1192, 1), (1201, 1), (1203, 1), (1206, 1), (1207, 4), (1208, 1), (1214, 1), (1260, 1), (1267, 1), (1273, 2), (1301, 2), (1306, 3), (1313, 1), (1338, 1), (1347, 1), (1365, 4), (1367, 1), (1368, 1), (1370, 2), (1372, 1), (1384, 1), (1389, 1), (1395, 2), (1397, 2), (1423, 2), (1451, 3), (1461, 1), (1466, 2), (1485, 1), (1523, 1), (1525, 6), (1527, 1), (1550, 1), (1560, 1), (1571, 1), (1575, 1), (1587, 1), (1601, 1), (1620, 1), (1623, 3), (1624, 1), (1653, 1), (1680, 1), (1719, 1), (1735, 1), (1756, 7), (1773, 1), (1774, 1), (1776, 1), (1778, 1), (1791, 4), (1805, 3), (1812, 1), (1814, 2), (1837, 1), (1839, 1), (1840, 1), (1884, 1), (1905, 2), (1908, 1), (1914, 3), (1915, 3), (1921, 3), (1938, 1), (1955, 1), (1957, 2), (1967, 1), (1971, 1), (1980, 6), (1998, 1), (2009, 2), (2011, 1), (2030, 2), (2032, 2), (2052, 1), (2065, 2), (2075, 1), (2088, 11), (2114, 6), (2115, 2), (2116, 3), (2117, 1), (2122, 4), (2130, 3), (2137, 1), (2140, 1), (2141, 3), (2148, 3), (2152, 2), (2154, 1), (2167, 3), (2171, 2), (2175, 2), (2179, 1), (2185, 1), (2215, 1), (2219, 2), (2221, 2), (2233, 1), (2236, 1), (2246, 2), (2250, 3), (2274, 1), (2286, 1), (2288, 1), (2308, 4), (2314, 1), (2328, 1), (2341, 2), (2357, 1), (2362, 4), (2380, 5), (2388, 1), (2396, 3), (2397, 3), (2414, 1), (2425, 1), (2431, 1), (2444, 1), (2457, 2)]), ('serve', [(12, 2), (39, 1), (307, 2), (308, 1), (336, 2), (580, 1), (594, 4), (595, 6), (600, 3), (620, 1), (624, 2), (643, 1), (656, 3), (662, 1), (664, 1), (665, 1), (682, 2), (690, 1), (691, 3), (700, 2), (709, 1), (736, 1), (738, 1), (748, 1), (752, 2), (766, 1), (771, 1), (783, 1), (803, 1), (844, 2), (848, 1), (863, 1), (872, 2), (874, 3), (881, 1), (890, 2), (904, 2), (909, 1), (928, 1), (951, 1), (954, 1), (958, 1), (960, 1), (1016, 1), (1023, 2), (1030, 1), (1038, 1), (1070, 1), (1087, 1), (1088, 2), (1096, 1), (1097, 5), (1098, 1), (1141, 1), (1143, 3), (1148, 2), (1155, 1), (1164, 1), (1177, 1), (1178, 1), (1183, 1), (1193, 1), (1201, 1), (1214, 4), (1216, 5), (1273, 2), (1286, 4), (1291, 1), (1298, 1), (1301, 1), (1338, 2), (1358, 1), (1365, 1), (1370, 2), (1372, 1), (1376, 4), (1383, 1), (1384, 2), (1397, 1), (1436, 1), (1438, 2), (1440, 1), (1445, 2), (1461, 1), (1488, 1), (1494, 1), (1530, 2), (1546, 1), (1556, 1), (1558, 2), (1566, 1), (1570, 1), (1576, 1), (1586, 1), (1606, 1), (1617, 1), (1623, 8), (1624, 6), (1627, 1), (1634, 1), (1640, 1), (1649, 2), (1677, 1), (1695, 1), (1698, 1), (1735, 1), (1750, 1), (1767, 1), (1806, 3), (1822, 1), (1837, 1), (1859, 1), (1864, 1), (1890, 1), (1909, 2), (1921, 1), (1925, 1), (1930, 3), (1942, 2), (1943, 1), (1950, 2), (1973, 1), (2006, 2), (2009, 1), (2030, 1), (2042, 1), (2061, 1), (2062, 1), (2065, 1), (2067, 4), (2076, 1), (2085, 1), (2134, 1), (2147, 1), (2148, 2), (2151, 1), (2154, 1), (2175, 1), (2215, 1), (2216, 1), (2219, 3), (2222, 2), (2230, 1), (2274, 1), (2314, 1), (2328, 1), (2358, 1), (2371, 1), (2377, 1), (2384, 1), (2422, 1), (2425, 1), (2428, 1), (2444, 1)]), ('2008', [(12, 1), (303, 4), (316, 1), (324, 4), (332, 1), (339, 1), (358, 9), (579, 1), (586, 1), (593, 2), (595, 2), (599, 1), (621, 1), (624, 2), (630, 1), (659, 1), (664, 1), (676, 1), (679, 3), (690, 1), (701, 10), (705, 7), (706, 1), (708, 7), (710, 1), (717, 2), (737, 2), (738, 3), (742, 2), (746, 4), (748, 1), (765, 5), (777, 1), (791, 1), (799, 1), (802, 2), (803, 1), (824, 7), (840, 1), (843, 1), (844, 3), (848, 8), (856, 15), (863, 1), (864, 1), (868, 1), (869, 1), (872, 1), (874, 1), (875, 1), (880, 14), (888, 1), (890, 7), (894, 1), (897, 3), (898, 3), (903, 1), (924, 1), (931, 5), (974, 1), (981, 1), (983, 1), (984, 3), (991, 1), (1002, 3), (1008, 5), (1009, 5), (1010, 3), (1011, 4), (1012, 3), (1013, 5), (1019, 2), (1022, 3), (1027, 3), (1028, 1), (1029, 1), (1032, 2), (1036, 1), (1038, 6), (1069, 1), (1072, 1), (1078, 10), (1081, 12), (1087, 5), (1088, 5), (1092, 2), (1093, 1), (1094, 15), (1096, 2), (1097, 8), (1098, 10), (1112, 1), (1129, 4), (1130, 1), (1135, 1), (1141, 1), (1146, 1), (1148, 2), (1154, 2), (1162, 1), (1164, 1), (1175, 1), (1178, 2), (1201, 2), (1203, 3), (1208, 2), (1213, 1), (1216, 1), (1217, 2), (1247, 1), (1254, 5), (1259, 4), (1261, 4), (1270, 1), (1273, 1), (1279, 3), (1300, 2), (1305, 2), (1307, 1), (1317, 1), (1325, 1), (1331, 4), (1332, 4), (1333, 3), (1334, 5), (1338, 7), (1344, 1), (1346, 1), (1358, 1), (1367, 1), (1397, 4), (1416, 2), (1418, 1), (1425, 1), (1428, 2), (1438, 1), (1441, 1), (1442, 3), (1446, 2), (1448, 6), (1449, 2), (1461, 4), (1488, 5), (1490, 3), (1491, 3), (1494, 1), (1495, 3), (1496, 3), (1497, 1), (1499, 2), (1519, 4), (1520, 4), (1530, 9), (1537, 1), (1541, 1), (1544, 2), (1546, 1), (1560, 2), (1573, 2), (1580, 1), (1592, 2), (1599, 1), (1601, 1), (1623, 1), (1624, 1), (1625, 8), (1627, 7), (1628, 4), (1629, 2), (1633, 3), (1634, 2), (1640, 1), (1644, 4), (1645, 4), (1653, 3), (1676, 1), (1677, 1), (1701, 2), (1710, 3), (1711, 5), (1723, 1), (1735, 1), (1773, 1), (1777, 2), (1781, 2), (1787, 3), (1791, 2), (1793, 4), (1794, 3), (1806, 5), (1812, 7), (1814, 2), (1826, 2), (1827, 2), (1828, 5), (1841, 5), (1844, 1), (1845, 1), (1859, 4), (1862, 3), (1864, 1), (1887, 1), (1896, 2), (1902, 3), (1908, 1), (1909, 1), (1921, 11), (1925, 1), (1930, 1), (1942, 4), (1943, 2), (1946, 3), (1950, 7), (1955, 6), (1962, 1), (1969, 1), (1973, 3), (1974, 3), (1975, 4), (1980, 2), (1990, 3), (1998, 1), (2006, 1), (2007, 1), (2015, 1), (2017, 1), (2023, 1), (2025, 1), (2032, 1), (2042, 1), (2052, 1), (2065, 1), (2067, 5), (2070, 1), (2075, 1), (2077, 1), (2080, 1), (2087, 1), (2088, 1), (2099, 1), (2101, 2), (2102, 7), (2103, 25), (2106, 1), (2115, 1), (2126, 14), (2129, 3), (2134, 3), (2140, 13), (2144, 1), (2152, 1), (2154, 7), (2162, 2), (2166, 2), (2167, 1), (2174, 4), (2176, 1), (2185, 3), (2187, 3), (2192, 2), (2194, 3), (2195, 5), (2210, 1), (2216, 2), (2219, 2), (2224, 4), (2226, 1), (2234, 5), (2236, 4), (2241, 3), (2244, 1), (2273, 12), (2274, 1), (2279, 7), (2282, 1), (2289, 5), (2310, 2), (2314, 1), (2315, 2), (2321, 1), (2323, 2), (2326, 1), (2341, 1), (2345, 1), (2358, 6), (2362, 1), (2363, 1), (2369, 11), (2376, 2), (2377, 3), (2382, 9), (2388, 1), (2393, 2), (2395, 2), (2397, 7), (2398, 3), (2400, 15), (2403, 2), (2405, 2), (2406, 1), (2408, 1), (2417, 1), (2418, 4), (2422, 5), (2433, 4), (2444, 1), (2447, 1)]), ('hosting', [(12, 1), (324, 1), (738, 1), (802, 1), (808, 1), (844, 3), (1038, 1), (1256, 1), (1397, 4), (1520, 1), (1791, 1), (1802, 2), (1841, 1), (1859, 2), (1998, 2), (2102, 2), (2273, 2), (2358, 1), (2403, 2), (2417, 1)]), ('urban', [(12, 1), (39, 1), (303, 8), (358, 2), (569, 5), (624, 3), (627, 1), (651, 1), (657, 3), (682, 1), (689, 1), (701, 7), (704, 2), (717, 6), (737, 2), (738, 3), (746, 1), (748, 1), (771, 1), (802, 3), (803, 4), (842, 2), (844, 6), (854, 2), (875, 1), (910, 1), (930, 1), (951, 1), (1013, 1), (1023, 1), (1036, 5), (1038, 7), (1069, 1), (1092, 6), (1094, 1), (1110, 1), (1148, 6), (1182, 1), (1193, 5), (1198, 1), (1216, 42), (1223, 1), (1256, 1), (1270, 1), (1273, 2), (1288, 1), (1316, 1), (1324, 1), (1333, 1), (1374, 1), (1395, 3), (1423, 1), (1442, 1), (1494, 1), (1514, 1), (1520, 2), (1536, 1), (1566, 1), (1573, 1), (1581, 1), (1600, 1), (1613, 1), (1625, 1), (1627, 2), (1633, 2), (1642, 3), (1644, 4), (1649, 1), (1680, 1), (1727, 1), (1776, 7), (1777, 1), (1781, 1), (1793, 2), (1812, 1), (1822, 3), (1841, 2), (1845, 1), (1859, 4), (1875, 6), (1890, 2), (1897, 2), (1902, 3), (1944, 2), (1950, 1), (1962, 1), (1998, 6), (2009, 2), (2011, 1), (2017, 2), (2067, 1), (2084, 1), (2085, 1), (2144, 8), (2148, 2), (2154, 7), (2175, 2), (2176, 1), (2180, 1), (2185, 3), (2193, 6), (2194, 1), (2222, 1), (2287, 1), (2315, 1), (2328, 1), (2377, 3), (2395, 1), (2417, 2), (2418, 1), (2425, 1)]), ('differed', [(12, 1), (308, 1), (676, 1), (700, 1), (798, 1), (808, 3), (900, 1), (904, 1), (974, 1), (1143, 1), (1317, 1), (1346, 1), (1347, 1), (1367, 1), (1384, 1), (1423, 2), (1530, 1), (1624, 1), (1640, 1), (1773, 1), (1967, 1), (2030, 1), (2062, 1), (2065, 1), (2176, 1)]), ('traced', [(25, 1), (305, 1), (573, 2), (593, 2), (597, 3), (682, 1), (698, 1), (751, 2), (752, 1), (765, 1), (766, 1), (800, 2), (802, 1), (863, 1), (864, 2), (899, 1), (921, 1), (951, 1), (960, 1), (1058, 1), (1078, 1), (1097, 1), (1143, 1), (1152, 1), (1214, 3), (1217, 2), (1239, 1), (1361, 1), (1384, 1), (1392, 1), (1395, 1), (1423, 1), (1436, 1), (1530, 1), (1540, 1), (1568, 1), (1640, 1), (1649, 1), (1752, 1), (1756, 1), (1837, 1), (1844, 1), (1845, 1), (1884, 1), (1921, 1), (2108, 1), (2154, 2), (2178, 1), (2185, 2), (2204, 1), (2222, 1), (2257, 1), (2321, 1), (2362, 1), (2377, 1), (2388, 1), (2403, 1), (2444, 1)]), ('estimates', [(25, 1), (39, 4), (303, 1), (334, 2), (358, 3), (599, 1), (624, 4), (627, 3), (633, 3), (634, 4), (690, 1), (698, 2), (701, 7), (704, 2), (705, 1), (737, 3), (738, 3), (746, 1), (765, 2), (771, 3), (775, 2), (786, 1), (789, 1), (857, 1), (863, 3), (864, 1), (874, 1), (922, 1), (1038, 1), (1081, 1), (1088, 1), (1094, 2), (1097, 1), (1110, 1), (1164, 1), (1181, 2), (1201, 3), (1210, 2), (1216, 2), (1267, 1), (1270, 2), (1346, 5), (1347, 2), (1348, 1), (1367, 1), (1372, 1), (1395, 1), (1418, 1), (1461, 1), (1530, 3), (1575, 2), (1634, 1), (1644, 1), (1701, 1), (1812, 1), (1841, 1), (1902, 1), (1909, 2), (1914, 2), (1942, 2), (1944, 1), (1973, 1), (1979, 5), (2006, 1), (2015, 2), (2037, 1), (2067, 2), (2075, 1), (2154, 1), (2162, 1), (2185, 1), (2217, 1), (2230, 5), (2382, 1), (2425, 1)]), ('1980', [(25, 1), (303, 1), (316, 1), (324, 1), (339, 1), (579, 1), (593, 1), (599, 3), (624, 2), (628, 1), (651, 1), (664, 2), (676, 1), (679, 1), (700, 2), (704, 2), (706, 2), (711, 1), (717, 1), (737, 1), (738, 2), (748, 1), (752, 2), (785, 6), (791, 1), (800, 1), (802, 1), (808, 7), (824, 2), (844, 1), (846, 1), (848, 2), (856, 5), (864, 4), (869, 2), (872, 4), (880, 9), (888, 1), (894, 1), (900, 1), (930, 4), (931, 2), (974, 1), (981, 3), (984, 1), (1002, 1), (1008, 3), (1009, 7), (1010, 11), (1011, 5), (1012, 4), (1013, 3), (1014, 1), (1016, 1), (1017, 3), (1020, 4), (1022, 1), (1027, 4), (1055, 1), (1069, 1), (1081, 1), (1092, 3), (1094, 1), (1129, 3), (1130, 1), (1132, 1), (1148, 1), (1152, 4), (1154, 3), (1175, 6), (1177, 1), (1184, 1), (1193, 1), (1197, 1), (1203, 2), (1214, 1), (1217, 2), (1242, 3), (1254, 9), (1259, 5), (1261, 5), (1291, 1), (1307, 2), (1316, 2), (1332, 5), (1333, 9), (1334, 3), (1347, 1), (1348, 1), (1359, 3), (1416, 3), (1417, 3), (1428, 5), (1442, 1), (1446, 1), (1448, 5), (1453, 1), (1485, 1), (1490, 7), (1491, 5), (1495, 2), (1496, 5), (1497, 8), (1499, 4), (1513, 1), (1519, 2), (1537, 1), (1540, 1), (1541, 1), (1550, 1), (1573, 1), (1615, 1), (1617, 2), (1623, 1), (1627, 1), (1628, 4), (1629, 1), (1634, 2), (1639, 2), (1677, 2), (1687, 1), (1695, 1), (1710, 3), (1711, 1), (1762, 1), (1777, 9), (1781, 6), (1787, 6), (1788, 1), (1791, 1), (1793, 2), (1794, 2), (1806, 4), (1810, 1), (1812, 3), (1826, 1), (1827, 2), (1828, 4), (1841, 1), (1862, 2), (1864, 1), (1866, 1), (1869, 1), (1870, 3), (1896, 1), (1930, 2), (1931, 1), (1934, 4), (1942, 1), (1943, 9), (1950, 1), (1973, 1), (1974, 2), (1975, 3), (1986, 1), (1990, 5), (2006, 1), (2009, 1), (2018, 3), (2024, 1), (2027, 1), (2032, 1), (2042, 1), (2075, 3), (2101, 2), (2103, 2), (2114, 1), (2116, 2), (2117, 3), (2130, 3), (2140, 1), (2162, 1), (2174, 3), (2176, 2), (2192, 4), (2194, 11), (2195, 1), (2222, 1), (2224, 3), (2234, 1), (2244, 1), (2273, 4), (2274, 1), (2275, 3), (2279, 4), (2282, 1), (2289, 7), (2303, 1), (2310, 4), (2314, 2), (2315, 3), (2326, 3), (2343, 1), (2345, 3), (2358, 3), (2369, 5), (2382, 4), (2395, 4), (2397, 3), (2400, 1), (2403, 1), (2406, 2), (2408, 1), (2418, 2), (2428, 1), (2433, 1), (2447, 2)]), ('zenith', [(39, 2), (305, 1), (803, 1), (1196, 1), (1527, 1), (1685, 1), (1881, 1), (1924, 1), (1962, 1), (1963, 1), (2185, 1)]), ('sea', [(39, 10), (303, 1), (305, 7), (308, 1), (316, 3), (334, 2), (344, 1), (358, 4), (359, 1), (594, 7), (595, 1), (600, 1), (621, 3), (624, 9), (627, 1), (633, 4), (651, 14), (657, 4), (662, 8), (666, 2), (674, 4), (689, 12), (690, 4), (698, 90), (700, 1), (701, 1), (717, 1), (734, 2), (737, 3), (738, 44), (746, 13), (764, 1), (771, 6), (783, 6), (799, 1), (802, 1), (824, 1), (841, 2), (842, 87), (844, 11), (849, 1), (854, 20), (857, 4), (863, 4), (872, 3), (874, 4), (888, 1), (890, 1), (899, 2), (902, 1), (903, 1), (904, 1), (911, 7), (951, 2), (957, 2), (981, 14), (983, 2), (984, 1), (986, 1), (1000, 2), (1005, 1), (1010, 1), (1011, 1), (1013, 1), (1016, 7), (1019, 1), (1036, 1), (1038, 7), (1064, 1), (1078, 1), (1081, 3), (1082, 16), (1087, 5), (1088, 3), (1091, 5), (1094, 3), (1096, 3), (1098, 4), (1112, 1), (1130, 1), (1141, 1), (1148, 2), (1168, 10), (1174, 18), (1182, 2), (1198, 1), (1201, 1), (1203, 2), (1214, 1), (1216, 7), (1217, 1), (1227, 3), (1239, 1), (1241, 2), (1256, 3), (1273, 6), (1274, 15), (1279, 1), (1285, 5), (1288, 1), (1300, 2), (1324, 1), (1325, 1), (1327, 4), (1354, 6), (1358, 11), (1362, 3), (1365, 1), (1367, 2), (1372, 2), (1376, 1), (1395, 2), (1416, 2), (1428, 3), (1433, 1), (1441, 3), (1446, 10), (1461, 3), (1491, 2), (1494, 1), (1500, 2), (1520, 2), (1530, 6), (1548, 4), (1550, 3), (1557, 1), (1560, 2), (1566, 5), (1567, 2), (1570, 1), (1576, 14), (1577, 1), (1586, 1), (1593, 1), (1606, 2), (1614, 1), (1623, 1), (1625, 1), (1627, 15), (1634, 15), (1638, 1), (1640, 6), (1644, 14), (1686, 2), (1690, 2), (1695, 11), (1697, 3), (1701, 9), (1711, 1), (1727, 1), (1728, 1), (1732, 1), (1749, 1), (1750, 4), (1754, 1), (1758, 1), (1759, 1), (1762, 2), (1767, 1), (1770, 1), (1773, 2), (1774, 1), (1777, 1), (1790, 8), (1791, 1), (1794, 1), (1802, 18), (1826, 1), (1842, 2), (1844, 1), (1854, 14), (1871, 3), (1872, 1), (1874, 3), (1879, 1), (1921, 1), (1925, 18), (1926, 1), (1930, 1), (1965, 2), (1966, 1), (1967, 2), (1969, 1), (1988, 6), (1998, 1), (2004, 1), (2015, 10), (2019, 1), (2020, 1), (2023, 2), (2024, 17), (2029, 1), (2037, 3), (2041, 1), (2053, 4), (2062, 2), (2075, 1), (2076, 1), (2082, 1), (2083, 2), (2084, 1), (2085, 7), (2086, 1), (2101, 3), (2108, 2), (2134, 1), (2136, 2), (2147, 1), (2163, 1), (2175, 6), (2178, 13), (2185, 5), (2194, 1), (2201, 1), (2208, 6), (2210, 6), (2215, 1), (2216, 3), (2217, 3), (2219, 19), (2222, 1), (2224, 1), (2268, 1), (2303, 1), (2315, 1), (2321, 1), (2333, 1), (2377, 3), (2388, 2), (2402, 1), (2417, 7), (2431, 1), (2440, 1), (2447, 2)]), ('semitic', [(290, 5), (358, 1), (599, 54), (655, 1), (670, 2), (740, 1), (803, 29), (874, 2), (877, 10), (878, 3), (929, 1), (1078, 11), (1174, 6), (1182, 1), (1566, 2), (1600, 1), (2085, 5), (2123, 1), (2134, 1), (2185, 8), (2204, 2), (2251, 2), (2303, 12)]), ('grade', [(290, 2), (595, 1), (621, 1), (664, 1), (676, 1), (680, 1), (736, 1), (738, 1), (746, 1), (844, 1), (864, 1), (897, 1), (1177, 1), (1196, 2), (1298, 1), (1358, 1), (1366, 1), (1369, 1), (1451, 1), (1525, 1), (1841, 3), (1859, 1), (1962, 2), (1965, 1), (1998, 2), (2011, 16), (2017, 1), (2141, 1), (2144, 1), (2154, 1), (2174, 1), (2215, 1), (2244, 1), (2377, 1), (2406, 1)]), ('diacritics', [(290, 1), (586, 1), (670, 10), (803, 3), (877, 2), (878, 22), (929, 1), (1316, 2), (1649, 1), (1834, 1), (1894, 1), (2162, 2), (2204, 13)]), ('americans', [(303, 17), (307, 7), (324, 2), (624, 6), (651, 1), (662, 4), (664, 1), (690, 1), (691, 4), (717, 1), (736, 4), (737, 1), (771, 44), (808, 1), (852, 4), (863, 8), (872, 1), (905, 1), (922, 1), (980, 1), (1002, 1), (1013, 2), (1029, 1), (1078, 5), (1098, 1), (1135, 1), (1164, 1), (1241, 11), (1300, 1), (1316, 1), (1325, 1), (1338, 28), (1376, 2), (1395, 2), (1397, 1), (1448, 3), (1461, 1), (1530, 1), (1537, 2), (1558, 8), (1623, 8), (1624, 16), (1701, 1), (1770, 1), (1774, 1), (1776, 1), (1793, 1), (1807, 1), (1845, 3), (1864, 3), (1881, 1), (1890, 11), (1921, 10), (1930, 12), (1934, 1), (1938, 4), (1950, 20), (1973, 45), (1998, 7), (2011, 10), (2062, 2), (2067, 1), (2101, 1), (2122, 2), (2140, 1), (2148, 1), (2154, 175), (2166, 1), (2170, 1), (2175, 57), (2178, 1), (2185, 3), (2186, 1), (2210, 8), (2216, 3), (2222, 2), (2224, 1), (2314, 1), (2315, 1), (2328, 1), (2371, 2), (2386, 2), (2388, 1), (2411, 1)]), ('markedly', [(303, 1), (700, 1), (791, 1), (825, 1), (900, 1), (904, 1), (969, 1), (1002, 1), (1078, 2), (1144, 1), (1192, 1), (1365, 1), (1366, 1), (1367, 1), (1805, 1), (2007, 1), (2221, 1), (2341, 1)]), ('storms', [(303, 3), (627, 1), (630, 1), (662, 2), (698, 1), (1217, 1), (1372, 1), (1423, 1), (1425, 1), (1446, 1), (1461, 4), (1566, 1), (1577, 1), (1596, 1), (1862, 1), (1930, 3), (1934, 1), (1965, 2), (2015, 1)]), ('institute', [(303, 2), (305, 1), (308, 2), (339, 10), (340, 1), (358, 1), (359, 3), (569, 3), (572, 5), (573, 2), (586, 3), (594, 1), (599, 4), (624, 1), (627, 4), (628, 2), (657, 2), (659, 15), (662, 1), (664, 3), (666, 1), (674, 1), (676, 8), (689, 1), (690, 1), (701, 9), (705, 1), (709, 1), (713, 2), (717, 7), (736, 21), (737, 5), (738, 4), (746, 1), (765, 5), (771, 2), (775, 2), (784, 7), (798, 1), (799, 1), (808, 3), (824, 3), (844, 2), (851, 2), (852, 3), (856, 1), (863, 1), (864, 1), (869, 8), (872, 1), (874, 2), (897, 4), (898, 1), (899, 1), (900, 1), (901, 1), (904, 2), (910, 2), (924, 1), (930, 1), (954, 1), (960, 1), (974, 1), (983, 1), (1008, 1), (1011, 1), (1016, 1), (1017, 4), (1023, 1), (1030, 6), (1051, 6), (1064, 2), (1078, 5), (1087, 1), (1088, 1), (1094, 1), (1097, 1), (1130, 3), (1141, 4), (1148, 8), (1164, 4), (1170, 9), (1171, 1), (1177, 1), (1178, 1), (1184, 1), (1198, 5), (1200, 1), (1201, 1), (1208, 3), (1213, 1), (1242, 1), (1260, 2), (1270, 2), (1285, 1), (1298, 1), (1301, 1), (1317, 2), (1331, 1), (1349, 1), (1365, 2), (1368, 1), (1408, 1), (1416, 1), (1418, 2), (1446, 2), (1449, 9), (1451, 2), (1453, 2), (1461, 2), (1485, 1), (1494, 4), (1519, 1), (1523, 1), (1525, 1), (1530, 1), (1537, 2), (1540, 1), (1543, 1), (1546, 1), (1551, 1), (1566, 1), (1573, 3), (1599, 1), (1601, 1), (1620, 1), (1625, 1), (1627, 7), (1629, 1), (1695, 1), (1701, 2), (1735, 1), (1754, 1), (1776, 2), (1797, 1), (1806, 4), (1807, 1), (1814, 3), (1822, 4), (1839, 1), (1842, 2), (1844, 1), (1845, 4), (1857, 3), (1859, 36), (1881, 5), (1894, 3), (1914, 2), (1921, 2), (1923, 3), (1924, 1), (1927, 1), (1934, 1), (1937, 1), (1938, 6), (1944, 2), (1950, 1), (1965, 1), (1968, 2), (1970, 1), (1971, 2), (1973, 1), (1998, 4), (2006, 5), (2009, 8), (2018, 1), (2019, 2), (2020, 1), (2021, 4), (2027, 4), (2030, 1), (2037, 1), (2042, 1), (2064, 1), (2076, 1), (2088, 1), (2126, 1), (2142, 1), (2162, 2), (2167, 1), (2176, 2), (2185, 1), (2201, 8), (2208, 1), (2216, 1), (2218, 1), (2219, 2), (2236, 2), (2310, 1), (2314, 1), (2343, 1), (2362, 1), (2363, 1), (2377, 10), (2382, 2), (2383, 1), (2388, 4), (2395, 1), (2397, 1), (2398, 1), (2402, 2), (2411, 1), (2433, 3), (2444, 9)]), ('terminals', [(303, 1), (586, 3), (653, 1), (958, 8), (1216, 1), (1451, 2), (1881, 2), (1884, 4), (1923, 1), (2067, 1), (2137, 1), (2377, 1)]), ('computer', [(303, 1), (336, 1), (572, 1), (579, 1), (586, 7), (593, 21), (600, 2), (630, 4), (634, 1), (653, 17), (655, 3), (657, 1), (659, 1), (661, 2), (662, 13), (663, 7), (664, 1), (677, 3), (679, 2), (713, 1), (742, 1), (748, 2), (752, 1), (775, 35), (780, 3), (785, 7), (791, 2), (800, 4), (803, 1), (840, 1), (849, 1), (856, 33), (864, 2), (880, 1), (887, 3), (888, 1), (890, 1), (896, 1), (904, 1), (929, 2), (930, 1), (974, 28), (993, 1), (1008, 2), (1009, 1), (1012, 2), (1013, 4), (1019, 4), (1021, 2), (1027, 2), (1032, 1), (1049, 2), (1063, 2), (1072, 1), (1134, 6), (1140, 1), (1141, 1), (1164, 17), (1169, 1), (1170, 3), (1181, 2), (1194, 1), (1198, 2), (1202, 1), (1203, 1), (1206, 1), (1208, 28), (1242, 6), (1260, 1), (1264, 2), (1271, 15), (1298, 2), (1335, 2), (1344, 45), (1346, 2), (1347, 1), (1349, 22), (1361, 6), (1368, 19), (1397, 7), (1404, 1), (1416, 1), (1442, 2), (1449, 19), (1451, 22), (1453, 6), (1461, 3), (1490, 1), (1491, 2), (1494, 1), (1496, 1), (1497, 1), (1499, 3), (1520, 2), (1628, 1), (1629, 1), (1635, 16), (1639, 1), (1710, 1), (1770, 6), (1773, 2), (1774, 1), (1777, 1), (1787, 1), (1791, 1), (1794, 1), (1799, 1), (1826, 1), (1827, 2), (1835, 1), (1859, 2), (1862, 1), (1884, 12), (1896, 1), (1902, 2), (1921, 2), (1931, 1), (1942, 1), (1944, 1), (1955, 4), (1957, 1), (1966, 2), (1968, 4), (1971, 1), (1979, 1), (1980, 28), (1997, 1), (1998, 1), (2039, 3), (2042, 1), (2049, 4), (2052, 4), (2061, 3), (2067, 1), (2078, 13), (2099, 3), (2100, 10), (2101, 1), (2106, 1), (2114, 4), (2115, 8), (2116, 28), (2117, 12), (2118, 2), (2130, 3), (2137, 28), (2141, 35), (2142, 7), (2154, 1), (2166, 6), (2170, 1), (2192, 2), (2194, 1), (2197, 20), (2204, 3), (2215, 13), (2218, 1), (2224, 3), (2230, 23), (2234, 12), (2236, 3), (2275, 21), (2279, 3), (2315, 1), (2316, 3), (2322, 2), (2323, 7), (2326, 1), (2332, 2), (2346, 1), (2349, 8), (2380, 2), (2393, 5), (2400, 9), (2408, 3), (2418, 1), (2428, 85), (2431, 1)]), ('commissioners', [(303, 1), (624, 1), (691, 1), (771, 1), (856, 1), (1141, 1), (1214, 1), (1273, 1), (1466, 2), (1822, 2), (1857, 1), (1930, 1), (1973, 1), (1998, 2), (2345, 1), (2357, 1)]), ('athletic', [(303, 2), (307, 1), (594, 2), (595, 1), (634, 3), (717, 1), (925, 2), (1027, 1), (1174, 1), (1182, 1), (1208, 1), (1259, 1), (1391, 1), (1781, 1), (1806, 1), (1859, 12), (1890, 1), (1893, 2), (1930, 4), (1998, 1), (2067, 1), (2102, 2), (2236, 2), (2273, 1), (2289, 1), (2332, 1), (2396, 1), (2403, 3)]), ('horse', [(305, 2), (316, 1), (579, 1), (593, 1), (594, 2), (599, 1), (661, 1), (698, 2), (711, 3), (737, 3), (746, 5), (752, 1), (771, 1), (780, 1), (783, 8), (808, 1), (824, 2), (841, 2), (842, 1), (863, 2), (872, 4), (984, 4), (1002, 1), (1004, 1), (1017, 1), (1028, 1), (1135, 1), (1148, 1), (1155, 1), (1171, 1), (1182, 2), (1216, 1), (1273, 1), (1285, 1), (1333, 1), (1347, 1), (1376, 1), (1435, 1), (1437, 1), (1486, 1), (1491, 1), (1520, 1), (1530, 1), (1544, 1), (1546, 1), (1560, 1), (1569, 1), (1573, 1), (1575, 1), (1576, 1), (1592, 2), (1596, 3), (1623, 2), (1627, 2), (1657, 3), (1695, 3), (1756, 2), (1802, 1), (1810, 1), (1841, 1), (1890, 3), (1925, 3), (1930, 2), (2007, 3), (2011, 2), (2083, 1), (2122, 2), (2147, 6), (2152, 1), (2187, 3), (2210, 1), (2224, 1), (2235, 1), (2279, 1), (2333, 2), (2362, 1), (2371, 1), (2403, 1), (2440, 1)]), ('willing', [(305, 1), (307, 1), (336, 1), (569, 1), (594, 1), (600, 1), (700, 2), (736, 1), (738, 1), (751, 1), (765, 2), (771, 3), (808, 1), (856, 1), (894, 1), (954, 1), (1000, 1), (1028, 1), (1058, 1), (1098, 1), (1164, 1), (1338, 2), (1344, 1), (1397, 1), (1446, 1), (1525, 2), (1527, 1), (1544, 1), (1587, 1), (1624, 2), (1625, 2), (1677, 1), (1685, 1), (1735, 2), (1761, 1), (1806, 1), (1814, 1), (1845, 1), (1871, 1), (1875, 1), (1896, 1), (1914, 1), (1921, 3), (1942, 2), (1950, 3), (1969, 1), (1973, 2), (2006, 1), (2030, 1), (2070, 1), (2085, 1), (2175, 1), (2321, 1), (2358, 2), (2376, 1), (2384, 1), (2425, 1)]), ('lifted', [(305, 1), (358, 2), (662, 4), (852, 1), (888, 1), (956, 1), (1017, 1), (1141, 1), (1162, 1), (1235, 1), (1270, 1), (1273, 1), (1327, 2), (1349, 1), (1358, 2), (1448, 1), (1527, 1), (1557, 1), (1567, 1), (1715, 1), (1774, 1), (1806, 1), (1812, 1), (1966, 2), (1967, 2), (1968, 1), (1969, 1), (1971, 1), (1973, 1), (1998, 1), (2009, 1), (2030, 1), (2321, 1), (2386, 1)]), ('ukrainian', [(305, 1), (620, 4), (670, 1), (717, 4), (849, 1), (1013, 1), (1019, 1), (1027, 2), (1078, 6), (1088, 1), (1092, 1), (1098, 2), (1129, 1), (1175, 1), (1261, 1), (1332, 2), (1333, 1), (1374, 1), (1416, 1), (1428, 3), (1442, 2), (1448, 1), (1490, 2), (1491, 1), (1519, 1), (1601, 1), (1625, 10), (1639, 1), (1695, 1), (1777, 1), (1787, 2), (1794, 1), (1826, 2), (1939, 1), (1990, 2), (2006, 3), (2101, 1), (2192, 1), (2194, 4), (2195, 1), (2224, 2), (2279, 1), (2326, 5), (2418, 1), (2439, 1), (2447, 2)]), ('ovid', [(305, 1), (594, 4), (1130, 1), (1174, 3), (1182, 4), (1213, 8), (1316, 1), (1409, 1), (1540, 2), (1567, 1), (1568, 2), (1570, 1), (1577, 2), (1579, 2), (1925, 5)]), ('wolfgang', [(305, 1), (666, 2), (700, 2), (852, 1), (880, 1), (1078, 1), (1212, 1), (1213, 1), (1254, 1), (1259, 1), (1334, 1), (1384, 1), (1442, 1), (1448, 1), (1490, 1), (1628, 1), (1737, 1), (1781, 1), (1793, 1), (1794, 1), (2077, 1), (2175, 3), (2201, 1), (2224, 1), (2241, 3), (2313, 1), (2315, 1)]), ('anthony', [(305, 3), (316, 5), (599, 1), (662, 2), (700, 1), (728, 1), (738, 1), (808, 2), (824, 1), (843, 10), (852, 1), (864, 1), (872, 1), (980, 1), (984, 2), (1008, 1), (1010, 1), (1011, 1), (1019, 1), (1027, 2), (1143, 1), (1154, 2), (1252, 1), (1254, 1), (1259, 1), (1273, 4), (1315, 3), (1325, 1), (1332, 1), (1333, 1), (1336, 1), (1348, 1), (1370, 1), (1384, 1), (1395, 1), (1428, 2), (1442, 3), (1491, 1), (1494, 2), (1495, 2), (1496, 1), (1497, 2), (1519, 1), (1556, 1), (1557, 1), (1573, 1), (1601, 1), (1623, 2), (1628, 2), (1710, 1), (1711, 1), (1777, 1), (1781, 2), (1794, 1), (1802, 3), (1827, 1), (1828, 2), (1862, 3), (1905, 1), (1948, 1), (1950, 2), (1970, 2), (1998, 1), (2018, 1), (2030, 1), (2053, 2), (2065, 1), (2144, 1), (2152, 1), (2154, 2), (2175, 1), (2176, 1), (2179, 1), (2194, 1), (2224, 1), (2279, 1), (2299, 3), (2326, 1), (2332, 1), (2338, 2), (2369, 1), (2395, 1), (2396, 1), (2397, 7), (2447, 2)]), ('michel', [(305, 1), (597, 1), (752, 1), (786, 1), (844, 1), (914, 2), (983, 1), (986, 3), (1008, 1), (1009, 1), (1012, 1), (1141, 1), (1154, 3), (1213, 1), (1334, 1), (1416, 1), (1442, 1), (1541, 1), (1601, 1), (1628, 1), (1629, 1), (1633, 3), (1639, 1), (1758, 1), (1787, 3), (1827, 1), (1837, 1), (1862, 1), (1990, 1), (1997, 1), (2042, 3), (2122, 1), (2141, 1), (2187, 1), (2196, 2), (2395, 1), (2418, 1)]), ('attractive', [(307, 1), (336, 5), (339, 1), (624, 1), (700, 2), (752, 1), (772, 1), (800, 1), (844, 1), (852, 1), (902, 2), (1000, 1), (1038, 1), (1064, 1), (1098, 1), (1174, 1), (1247, 2), (1267, 2), (1300, 1), (1370, 1), (1384, 1), (1387, 1), (1445, 1), (1446, 1), (1544, 1), (1677, 1), (1735, 1), (1805, 1), (1806, 1), (1923, 1), (1925, 1), (1948, 1), (2017, 1), (2080, 1), (2130, 2), (2197, 2), (2215, 1), (2308, 1), (2362, 2), (2408, 1)]), ('simon', [(307, 2), (316, 2), (359, 1), (573, 1), (680, 1), (711, 2), (863, 1), (864, 1), (880, 2), (951, 1), (981, 1), (1002, 1), (1009, 1), (1010, 1), (1011, 2), (1017, 3), (1019, 1), (1020, 1), (1027, 1), (1078, 4), (1164, 3), (1166, 6), (1175, 2), (1181, 1), (1210, 2), (1254, 1), (1261, 1), (1306, 2), (1332, 1), (1333, 1), (1358, 1), (1442, 2), (1495, 1), (1497, 1), (1499, 1), (1519, 1), (1540, 1), (1541, 1), (1546, 1), (1550, 1), (1573, 1), (1581, 1), (1620, 1), (1624, 1), (1627, 1), (1629, 1), (1640, 2), (1711, 1), (1755, 1), (1758, 1), (1777, 1), (1781, 1), (1787, 3), (1793, 1), (1794, 1), (1806, 3), (1827, 1), (1845, 1), (1950, 1), (1955, 1), (1973, 1), (1975, 1), (2007, 2), (2027, 1), (2063, 1), (2084, 1), (2085, 1), (2087, 1), (2122, 1), (2144, 1), (2171, 1), (2195, 1), (2257, 4), (2273, 2), (2279, 1), (2282, 1), (2313, 1), (2335, 1), (2358, 1), (2369, 1), (2391, 1), (2395, 1), (2418, 2)]), ('beating', [(307, 1), (308, 1), (595, 9), (662, 1), (710, 1), (746, 2), (843, 3), (848, 1), (890, 1), (1020, 1), (1132, 1), (1174, 1), (1373, 1), (1416, 1), (1530, 1), (1800, 1), (1806, 1), (1857, 3), (2006, 1), (2011, 1), (2030, 1), (2103, 1), (2140, 1), (2174, 1), (2289, 2), (2357, 1), (2358, 1), (2422, 1)]), ('suspension', [(307, 2), (682, 1), (782, 1), (1009, 1), (1022, 3), (1027, 1), (1141, 2), (1144, 1), (1171, 1), (1624, 2), (1627, 1), (1738, 1), (1787, 1), (1937, 1), (2148, 1), (2166, 1), (2403, 1), (2422, 1)]), ('embraced', [(307, 1), (594, 1), (710, 1), (840, 1), (880, 1), (1030, 2), (1177, 2), (1192, 1), (1203, 1), (1241, 1), (1252, 1), (1363, 1), (1370, 1), (1625, 1), (1642, 1), (1814, 1), (1859, 1), (1890, 1), (1950, 1), (1973, 1), (2017, 1), (2030, 1), (2144, 2), (2154, 1), (2175, 3), (2241, 1), (2257, 1), (2400, 1)]), ('eliminated', [(307, 1), (309, 1), (666, 1), (701, 1), (717, 1), (738, 1), (746, 1), (751, 1), (771, 1), (775, 1), (782, 1), (803, 1), (848, 1), (856, 1), (1078, 1), (1140, 1), (1164, 1), (1216, 1), (1239, 1), (1270, 1), (1325, 1), (1346, 1), (1358, 1), (1397, 2), (1451, 1), (1461, 3), (1557, 3), (1613, 1), (1623, 1), (1624, 2), (1657, 1), (1730, 1), (1805, 1), (1857, 2), (1859, 1), (1950, 1), (2065, 1), (2102, 1), (2140, 4), (2154, 1), (2202, 2), (2275, 2), (2358, 2), (2362, 1), (2377, 1), (2393, 1), (2422, 4), (2425, 1), (2428, 1)]), ('lorenzo', [(307, 1), (316, 1), (1009, 1), (1011, 1), (1129, 1), (1154, 1), (1178, 1), (1254, 1), (1256, 2), (1261, 1), (1436, 1), (1442, 1), (1490, 1), (1496, 1), (1624, 1), (1633, 1), (1642, 2), (1647, 1), (1690, 1), (1793, 1), (2062, 7), (2216, 2), (2224, 1), (2241, 4), (2279, 1), (2358, 1), (2402, 1), (2417, 1), (2418, 1)]), ('revoked', [(307, 1), (324, 6), (740, 1), (1078, 1), (1094, 1), (1273, 1), (1530, 1), (1684, 1), (1735, 1), (1921, 1), (1950, 2), (2085, 1), (2099, 1)]), (\"aristotle's\", [(308, 82), (339, 1), (783, 3), (928, 1), (988, 1), (1130, 9), (1168, 2), (1216, 1), (1573, 7), (1599, 1), (1645, 3), (1723, 11), (1746, 1), (1764, 3), (1844, 1), (2178, 1)]), ('viii', [(308, 1), (620, 1), (666, 4), (738, 2), (748, 1), (803, 4), (909, 2), (953, 2), (1011, 1), (1143, 2), (1154, 1), (1174, 1), (1214, 3), (1374, 1), (1425, 1), (1437, 1), (1442, 1), (1446, 1), (1448, 1), (1485, 1), (1499, 1), (1519, 1), (1552, 1), (1588, 1), (1592, 1), (1601, 1), (1616, 1), (1617, 1), (1633, 7), (1640, 1), (1642, 2), (1658, 1), (1677, 1), (1688, 1), (1698, 1), (1710, 1), (1761, 4), (1787, 1), (1793, 1), (1797, 1), (1826, 1), (1840, 1), (1872, 2), (1878, 2), (2030, 2), (2070, 1), (2085, 2), (2148, 1), (2194, 2), (2195, 1), (2257, 1), (2284, 1), (2286, 1), (2287, 1), (2345, 1)]), ('instrumental', [(308, 1), (569, 1), (573, 1), (621, 1), (653, 1), (657, 1), (694, 2), (700, 1), (746, 2), (771, 1), (800, 1), (824, 1), (864, 1), (880, 3), (887, 1), (954, 2), (1028, 1), (1051, 1), (1132, 1), (1178, 1), (1181, 1), (1214, 2), (1252, 1), (1271, 1), (1307, 1), (1374, 1), (1395, 3), (1425, 5), (1514, 1), (1528, 1), (1568, 1), (1600, 1), (1624, 1), (1653, 1), (1715, 2), (1724, 1), (1735, 1), (1832, 3), (1944, 1), (1963, 1), (1997, 1), (2007, 1), (2062, 1), (2110, 2), (2185, 1), (2210, 1), (2217, 4), (2236, 1), (2241, 5), (2282, 3), (2333, 1), (2357, 2), (2363, 2), (2391, 1), (2408, 8), (2411, 12), (2414, 5), (2439, 1), (2444, 1)]), ('channel', [(308, 1), (332, 1), (595, 2), (600, 1), (630, 1), (632, 2), (690, 1), (698, 1), (738, 2), (746, 1), (780, 1), (800, 1), (848, 1), (852, 1), (856, 2), (863, 1), (903, 1), (924, 1), (951, 1), (953, 1), (981, 1), (984, 1), (1019, 1), (1022, 1), (1038, 3), (1078, 1), (1088, 1), (1132, 1), (1140, 1), (1144, 1), (1148, 1), (1194, 1), (1217, 1), (1239, 1), (1298, 10), (1300, 4), (1334, 1), (1348, 2), (1358, 2), (1428, 1), (1484, 1), (1496, 1), (1519, 1), (1546, 1), (1548, 1), (1557, 1), (1570, 1), (1576, 2), (1623, 1), (1625, 1), (1634, 1), (1640, 1), (1701, 1), (1750, 1), (1774, 1), (1787, 1), (1800, 1), (1812, 1), (1854, 1), (1902, 1), (1921, 2), (1930, 1), (1942, 1), (1944, 1), (1966, 1), (1969, 1), (1973, 1), (1980, 5), (1988, 1), (1998, 1), (2039, 1), (2049, 16), (2053, 1), (2067, 3), (2078, 5), (2114, 4), (2134, 1), (2140, 1), (2154, 7), (2162, 3), (2166, 3), (2175, 2), (2178, 1), (2187, 2), (2216, 1), (2233, 2), (2244, 1), (2246, 4), (2257, 1), (2331, 1), (2348, 1), (2380, 1), (2393, 11), (2397, 2), (2398, 2), (2408, 1), (2411, 1), (2422, 1)]), ('achievements', [(308, 1), (324, 1), (359, 1), (573, 1), (593, 1), (595, 1), (628, 1), (662, 1), (674, 1), (689, 2), (736, 2), (737, 1), (783, 5), (872, 1), (874, 3), (981, 1), (1020, 1), (1057, 1), (1130, 1), (1141, 1), (1182, 1), (1208, 2), (1216, 1), (1256, 1), (1271, 1), (1273, 3), (1316, 1), (1389, 1), (1440, 1), (1545, 1), (1550, 1), (1566, 1), (1573, 1), (1576, 2), (1600, 1), (1623, 1), (1640, 1), (1645, 1), (1661, 1), (1814, 1), (1828, 2), (1844, 3), (1859, 3), (1937, 1), (1971, 1), (2023, 1), (2027, 1), (2084, 1), (2085, 1), (2099, 1), (2129, 1), (2140, 2), (2179, 1), (2180, 2), (2185, 2), (2274, 1)]), ('rand', [(308, 1), (339, 128), (359, 4), (780, 1), (930, 3), (1192, 1), (1349, 3), (1442, 1), (1711, 1), (2011, 1), (2130, 1), (2279, 1)]), ('louis', [(316, 3), (569, 1), (572, 1), (573, 3), (599, 1), (600, 3), (624, 1), (632, 1), (662, 2), (665, 1), (690, 1), (728, 1), (736, 1), (752, 1), (771, 3), (803, 1), (848, 1), (852, 1), (863, 2), (864, 1), (890, 2), (897, 1), (902, 1), (980, 1), (981, 2), (983, 1), (984, 1), (986, 3), (1004, 1), (1008, 4), (1009, 2), (1010, 1), (1011, 2), (1012, 2), (1013, 3), (1017, 1), (1019, 1), (1020, 1), (1027, 2), (1029, 2), (1057, 1), (1078, 6), (1129, 7), (1130, 1), (1141, 5), (1154, 2), (1171, 1), (1174, 1), (1175, 1), (1177, 3), (1203, 3), (1214, 1), (1235, 2), (1254, 2), (1259, 3), (1316, 1), (1325, 2), (1332, 3), (1333, 4), (1344, 1), (1361, 1), (1365, 1), (1384, 1), (1395, 1), (1408, 1), (1416, 3), (1418, 1), (1425, 2), (1442, 1), (1448, 1), (1486, 1), (1490, 3), (1491, 2), (1496, 3), (1497, 5), (1519, 5), (1520, 2), (1528, 1), (1537, 1), (1541, 2), (1544, 1), (1548, 2), (1558, 1), (1594, 2), (1615, 1), (1623, 5), (1624, 2), (1627, 2), (1628, 1), (1629, 4), (1633, 1), (1639, 4), (1661, 1), (1679, 4), (1686, 7), (1688, 1), (1711, 1), (1735, 2), (1755, 2), (1758, 7), (1762, 2), (1781, 1), (1793, 1), (1794, 1), (1805, 2), (1806, 2), (1814, 2), (1822, 4), (1826, 1), (1827, 2), (1842, 8), (1857, 4), (1862, 1), (1878, 9), (1879, 3), (1881, 19), (1893, 1), (1924, 2), (1925, 2), (1930, 1), (1933, 1), (1938, 2), (1949, 1), (1974, 1), (1979, 1), (1990, 3), (2009, 1), (2047, 1), (2062, 1), (2065, 1), (2067, 1), (2070, 1), (2083, 12), (2102, 11), (2103, 6), (2122, 1), (2130, 1), (2134, 1), (2140, 9), (2152, 1), (2154, 2), (2170, 1), (2175, 5), (2193, 1), (2194, 4), (2195, 1), (2196, 3), (2224, 1), (2238, 2), (2273, 2), (2279, 3), (2289, 3), (2310, 3), (2314, 1), (2315, 2), (2321, 1), (2326, 1), (2341, 1), (2357, 6), (2369, 1), (2371, 1), (2382, 3), (2406, 1), (2418, 4), (2422, 2), (2425, 2), (2444, 1), (2447, 3)]), ('guess', [(316, 1), (673, 1), (677, 1), (679, 1), (843, 1), (877, 1), (1141, 1), (1419, 1), (1890, 1), (1965, 1), (2011, 1), (2019, 1), (2126, 4), (2142, 1)]), ('framed', [(316, 1), (336, 1), (593, 1), (736, 1), (775, 2), (852, 1), (1134, 1), (1178, 1), (1546, 1), (1812, 2), (1828, 1), (1845, 1), (1881, 1), (2007, 1), (2130, 1), (2174, 1), (2179, 1), (2396, 1)]), ('emmy', [(324, 2), (663, 1), (848, 1), (869, 2), (1397, 3), (1773, 1), (1862, 1), (1948, 4), (2310, 1), (2391, 1), (2397, 5)]), ('weighs', [(324, 1), (681, 1), (713, 1), (799, 1), (902, 1), (1141, 1), (1437, 1), (1496, 1), (1687, 1), (1806, 1), (1968, 1), (2030, 1), (2186, 1)]), ('variety', [(324, 2), (339, 1), (358, 1), (569, 4), (573, 3), (586, 1), (593, 4), (594, 1), (595, 1), (597, 2), (599, 1), (621, 2), (624, 2), (627, 2), (633, 1), (634, 1), (639, 1), (653, 7), (656, 1), (657, 4), (664, 3), (666, 3), (670, 2), (674, 1), (680, 1), (683, 1), (701, 3), (704, 1), (705, 1), (713, 1), (717, 4), (736, 1), (737, 3), (738, 4), (746, 2), (748, 4), (751, 1), (752, 4), (765, 2), (771, 1), (775, 1), (779, 1), (782, 1), (783, 1), (791, 1), (800, 2), (802, 1), (803, 20), (808, 1), (824, 1), (825, 4), (844, 3), (849, 1), (852, 3), (856, 1), (863, 1), (864, 1), (872, 1), (874, 2), (880, 2), (894, 1), (896, 1), (897, 4), (898, 1), (902, 1), (904, 2), (909, 1), (914, 1), (956, 2), (957, 1), (960, 1), (991, 1), (1017, 1), (1022, 1), (1023, 1), (1028, 3), (1038, 5), (1058, 1), (1072, 1), (1078, 1), (1094, 1), (1097, 1), (1130, 1), (1141, 3), (1146, 1), (1148, 3), (1162, 1), (1164, 1), (1170, 1), (1174, 2), (1177, 2), (1182, 1), (1187, 3), (1201, 5), (1202, 1), (1203, 1), (1206, 1), (1207, 2), (1210, 1), (1212, 1), (1214, 3), (1216, 3), (1217, 2), (1247, 1), (1260, 1), (1270, 5), (1271, 1), (1273, 1), (1274, 1), (1285, 1), (1298, 1), (1300, 1), (1306, 1), (1307, 2), (1309, 3), (1324, 1), (1347, 2), (1348, 4), (1358, 4), (1362, 1), (1365, 3), (1366, 4), (1372, 3), (1376, 1), (1383, 2), (1387, 5), (1394, 1), (1395, 4), (1397, 2), (1400, 1), (1412, 2), (1422, 1), (1425, 2), (1445, 3), (1446, 3), (1494, 3), (1497, 1), (1520, 2), (1523, 4), (1525, 2), (1530, 1), (1537, 1), (1542, 1), (1577, 1), (1623, 3), (1627, 4), (1634, 2), (1640, 1), (1644, 1), (1649, 1), (1650, 1), (1653, 2), (1695, 1), (1701, 1), (1773, 1), (1776, 1), (1778, 1), (1790, 1), (1800, 2), (1802, 3), (1814, 2), (1822, 1), (1828, 2), (1842, 1), (1845, 2), (1853, 2), (1857, 1), (1859, 1), (1869, 1), (1881, 4), (1884, 4), (1890, 1), (1897, 6), (1905, 1), (1914, 1), (1921, 1), (1930, 4), (1937, 1), (1942, 2), (1950, 2), (1957, 1), (1969, 1), (1973, 1), (1980, 1), (1997, 38), (1998, 6), (2006, 1), (2007, 2), (2011, 2), (2023, 1), (2030, 3), (2042, 4), (2047, 2), (2065, 1), (2067, 3), (2085, 1), (2093, 1), (2101, 1), (2106, 1), (2114, 1), (2115, 1), (2116, 1), (2126, 2), (2147, 1), (2148, 2), (2154, 4), (2162, 1), (2171, 2), (2174, 2), (2175, 7), (2178, 1), (2179, 1), (2185, 2), (2186, 1), (2193, 1), (2202, 1), (2210, 2), (2217, 2), (2219, 1), (2222, 5), (2236, 1), (2241, 1), (2250, 5), (2257, 1), (2268, 1), (2273, 1), (2275, 2), (2287, 1), (2288, 1), (2296, 5), (2303, 3), (2308, 1), (2316, 5), (2328, 1), (2335, 1), (2341, 1), (2348, 2), (2349, 1), (2357, 1), (2362, 4), (2363, 1), (2377, 2), (2383, 1), (2388, 2), (2393, 3), (2396, 1), (2400, 2), (2402, 2), (2403, 1), (2408, 3), (2414, 1), (2422, 1), (2428, 2), (2444, 1), (2457, 1)]), ('christopher', [(330, 1), (573, 1), (599, 9), (624, 1), (628, 5), (662, 1), (698, 1), (700, 1), (752, 1), (783, 1), (875, 1), (924, 19), (951, 4), (974, 1), (1008, 2), (1010, 1), (1011, 1), (1017, 2), (1038, 1), (1129, 1), (1154, 1), (1170, 1), (1178, 2), (1203, 1), (1208, 3), (1213, 1), (1214, 1), (1217, 1), (1239, 2), (1254, 1), (1259, 3), (1305, 4), (1334, 1), (1338, 1), (1417, 1), (1448, 1), (1491, 1), (1541, 1), (1544, 2), (1575, 1), (1625, 1), (1633, 1), (1695, 1), (1697, 1), (1710, 1), (1711, 1), (1770, 1), (1773, 1), (1777, 1), (1794, 1), (1806, 2), (1862, 1), (1921, 1), (1974, 1), (1975, 1), (1990, 3), (2006, 1), (2062, 1), (2067, 1), (2122, 2), (2144, 3), (2154, 1), (2178, 1), (2194, 2), (2195, 1), (2210, 2), (2226, 1), (2279, 1), (2282, 1), (2310, 10), (2315, 1), (2338, 1), (2395, 1), (2397, 1), (2398, 1), (2406, 2), (2422, 1), (2440, 1), (2447, 1)]), ('stronger', [(336, 3), (359, 1), (621, 1), (639, 2), (656, 8), (663, 1), (666, 3), (674, 2), (682, 1), (690, 1), (691, 2), (771, 1), (775, 1), (786, 1), (802, 1), (840, 11), (849, 1), (863, 2), (872, 1), (902, 2), (928, 1), (1038, 1), (1051, 1), (1132, 1), (1167, 1), (1187, 2), (1210, 1), (1260, 2), (1267, 1), (1270, 1), (1300, 1), (1347, 1), (1348, 2), (1358, 4), (1367, 1), (1394, 1), (1422, 2), (1437, 1), (1466, 1), (1575, 1), (1623, 1), (1634, 1), (1645, 2), (1773, 1), (1839, 1), (1881, 1), (1914, 1), (1946, 2), (1973, 1), (1979, 1), (2007, 1), (2037, 1), (2085, 1), (2141, 1), (2144, 1), (2148, 1), (2154, 1), (2250, 1), (2308, 1), (2358, 1), (2362, 1), (2396, 4), (2427, 1)]), ('full-time', [(339, 1), (595, 2), (600, 3), (856, 3), (857, 2), (888, 1), (1162, 3), (1214, 1), (1376, 2), (1488, 1), (1495, 2), (1548, 1), (1573, 1), (1623, 1), (1627, 3), (1777, 1), (1822, 1), (1841, 6), (1859, 1), (2047, 1), (2102, 1), (2103, 1), (2140, 1), (2174, 1), (2236, 1), (2357, 1), (2406, 1)]), ('opus', [(339, 1), (573, 4), (785, 1), (843, 1), (1171, 1), (1174, 1), (1198, 1), (1363, 1), (1425, 9), (1520, 1), (1527, 1), (1700, 1), (1814, 2), (2042, 1), (2316, 2), (2363, 2), (2416, 2)]), ('conventions', [(339, 1), (586, 6), (594, 2), (595, 1), (639, 1), (670, 1), (691, 1), (752, 2), (771, 3), (800, 4), (844, 1), (856, 1), (863, 1), (872, 1), (984, 2), (1028, 4), (1058, 1), (1171, 4), (1183, 1), (1201, 1), (1203, 1), (1206, 1), (1317, 1), (1346, 1), (1412, 1), (1453, 1), (1592, 1), (1624, 4), (1973, 1), (1979, 1), (2011, 1), (2029, 1), (2032, 3), (2076, 1), (2162, 1), (2303, 1), (2349, 1), (2411, 2)]), ('vancouver', [(340, 1), (717, 2), (859, 1), (1154, 1), (1177, 1), (1558, 1), (1806, 1), (1841, 1), (1864, 1), (1881, 2), (2433, 3)]), ('ferry', [(344, 1), (624, 4), (711, 2), (842, 1), (863, 2), (1011, 1), (1036, 1), (1038, 3), (1216, 1), (1217, 1), (1254, 1), (1334, 1), (1363, 1), (1448, 1), (1461, 2), (1484, 1), (1623, 1), (1624, 1), (1627, 1), (1701, 1), (1864, 2), (1881, 1), (1897, 1), (1930, 1), (1988, 1), (2162, 1), (2187, 1), (2194, 1), (2195, 1), (2210, 1), (2216, 3), (2244, 4), (2273, 1), (2321, 3), (2417, 1)]), ('hatch', [(344, 1), (572, 2), (621, 12), (627, 1), (662, 7), (1135, 3), (1196, 1), (1461, 3), (1560, 1), (1773, 3), (1774, 6), (1909, 2), (1965, 28), (1969, 4), (1970, 3), (1971, 1), (2006, 1), (2175, 1), (2224, 1), (2314, 1)]), ('pretty', [(344, 1), (628, 1), (736, 1), (775, 1), (894, 1), (984, 1), (1000, 1), (1770, 1), (1806, 1), (1828, 1), (1859, 1), (1902, 1), (2126, 3), (2140, 1), (2162, 1), (2338, 1), (2422, 1)]), ('coalesced', [(358, 1), (783, 1), (803, 1), (854, 1), (874, 1), (1214, 1), (1338, 1), (1560, 1), (1566, 1), (1623, 1), (1897, 1), (2085, 1)]), ('pink', [(358, 1), (593, 1), (615, 1), (633, 1), (666, 1), (679, 1), (752, 1), (856, 2), (900, 3), (957, 1), (1000, 1), (1004, 1), (1064, 1), (1148, 1), (1279, 1), (1300, 4), (1307, 1), (1322, 1), (1365, 1), (1387, 1), (1634, 1), (1639, 1), (1650, 1), (1680, 6), (1701, 1), (1790, 1), (1806, 1), (1828, 2), (1930, 1), (1973, 1), (2006, 1), (2049, 1), (2102, 1), (2126, 1), (2186, 4), (2308, 4), (2362, 1)]), ('oaks', [(358, 1), (854, 3), (924, 1), (1491, 1), (1499, 1), (1567, 1), (1568, 1), (1853, 1), (1930, 1), (1997, 1), (1998, 1), (2017, 2), (2382, 1)]), ('convert', [(569, 1), (593, 1), (639, 1), (736, 1), (783, 1), (803, 1), (852, 1), (897, 3), (900, 1), (904, 1), (1006, 1), (1078, 2), (1130, 1), (1141, 2), (1152, 1), (1162, 1), (1177, 1), (1178, 1), (1196, 1), (1198, 2), (1252, 2), (1260, 1), (1325, 1), (1365, 1), (1370, 1), (1373, 1), (1383, 1), (1461, 1), (1514, 1), (1640, 1), (1649, 2), (1688, 1), (1715, 1), (1719, 1), (1806, 1), (1884, 1), (1921, 1), (1963, 1), (1990, 1), (2006, 1), (2030, 3), (2070, 1), (2084, 1), (2085, 2), (2100, 1), (2108, 1), (2110, 1), (2141, 1), (2174, 1), (2187, 1), (2216, 2), (2219, 1), (2257, 1), (2268, 1), (2275, 1), (2308, 1), (2341, 1), (2358, 1), (2377, 1), (2380, 1), (2422, 1), (2425, 3), (2428, 1)]), ('researcher', [(569, 1), (664, 1), (746, 1), (897, 1), (974, 1), (1017, 1), (1028, 1), (1140, 1), (1164, 2), (1449, 2), (1530, 1), (1827, 1), (1845, 2), (1937, 2), (1955, 1), (1968, 1), (1974, 1), (2178, 1), (2201, 1), (2395, 1)]), ('mapping', [(569, 1), (627, 1), (633, 1), (662, 1), (775, 1), (780, 1), (798, 1), (840, 1), (897, 1), (1021, 1), (1160, 4), (1181, 2), (1201, 1), (1242, 2), (1300, 1), (1365, 1), (1440, 1), (1451, 2), (1640, 1), (1910, 1), (1914, 2), (1933, 1), (1969, 3), (1970, 1), (1971, 2), (2115, 1)]), ('pot', [(573, 2), (624, 1), (752, 1), (956, 2), (981, 1), (1010, 1), (1038, 1), (1174, 1), (1187, 1), (1193, 1), (1530, 1), (1558, 2), (1790, 1), (1890, 1), (1897, 1), (2134, 2), (2162, 1), (2175, 5), (2210, 1), (2222, 1), (2328, 1)]), ('platonic', [(573, 3), (700, 3), (1130, 1), (1309, 1), (1384, 1), (1723, 1), (1847, 7), (2063, 1), (2144, 2), (2171, 5), (2178, 1), (2402, 1)]), ('obvious', [(573, 1), (628, 1), (657, 1), (665, 1), (673, 2), (677, 1), (734, 1), (746, 1), (775, 1), (783, 1), (798, 1), (808, 2), (840, 1), (848, 1), (981, 1), (984, 2), (1000, 1), (1028, 2), (1078, 1), (1141, 1), (1152, 1), (1162, 1), (1174, 1), (1196, 1), (1198, 1), (1206, 1), (1209, 1), (1239, 2), (1252, 1), (1273, 3), (1368, 1), (1550, 1), (1635, 1), (1645, 1), (1695, 1), (1748, 1), (1814, 1), (1834, 2), (1841, 1), (1897, 1), (1911, 1), (1965, 1), (2011, 1), (2042, 1), (2049, 1), (2080, 1), (2110, 1), (2112, 2), (2122, 1), (2140, 1), (2185, 1), (2216, 1), (2250, 2), (2303, 1), (2392, 1), (2397, 1), (2425, 1)]), ('156', [(586, 1), (624, 1), (704, 1), (844, 1), (856, 1), (915, 1), (1207, 1), (1256, 2), (1346, 1), (1417, 1), (1537, 1), (1634, 1), (1859, 1), (2078, 1), (2083, 1), (2185, 1)]), ('titular', [(590, 1), (620, 1), (680, 1), (780, 1), (802, 4), (1143, 1), (1239, 1), (1359, 8), (1360, 26), (1441, 3), (1552, 1), (1676, 2), (1677, 1), (1687, 2), (1727, 1), (1973, 1)]), ('projections', [(593, 3), (639, 1), (665, 1), (674, 1), (748, 1), (864, 2), (1092, 1), (1170, 1), (1270, 1), (1358, 1), (1446, 1), (1854, 1), (1998, 1), (2178, 1), (2219, 1)]), ('footage', [(593, 3), (662, 7), (663, 4), (676, 2), (808, 3), (864, 1), (872, 2), (1461, 1), (1697, 1), (1750, 1), (1774, 1), (1806, 1), (1828, 1), (1884, 1), (1902, 5), (1948, 1), (1966, 2), (1969, 1), (1970, 1), (2049, 1), (2141, 1), (2144, 1)]), ('palette', [(593, 1), (864, 2), (872, 1), (874, 3), (898, 1), (1440, 1), (1869, 1), (1980, 1), (2078, 2), (2100, 2), (2116, 1), (2141, 7), (2197, 5), (2215, 1), (2303, 1)]), ('wire', [(593, 1), (655, 11), (852, 5), (896, 1), (904, 1), (1129, 1), (1140, 2), (1141, 1), (1209, 1), (1332, 1), (1349, 1), (1358, 1), (1363, 1), (1519, 1), (1558, 1), (1625, 1), (1634, 1), (1770, 1), (1806, 1), (1921, 1), (1938, 1), (1965, 2), (1969, 1), (1980, 1), (2039, 1), (2144, 1), (2219, 1), (2308, 1), (2321, 1), (2392, 1)]), ('pose', [(593, 1), (621, 1), (624, 1), (639, 1), (666, 1), (701, 1), (713, 1), (752, 1), (783, 2), (800, 2), (863, 1), (864, 1), (983, 1), (1082, 1), (1164, 2), (1316, 1), (1380, 1), (1573, 1), (1701, 1), (1735, 2), (1756, 1), (1805, 1), (1914, 1), (1946, 1), (1973, 1), (2065, 1), (2154, 1), (2440, 1)]), ('trusted', [(594, 1), (783, 2), (894, 1), (1235, 1), (1256, 1), (1376, 1), (1397, 1), (1494, 1), (1537, 1), (1556, 1), (1557, 1), (1576, 1), (1583, 2), (1756, 2), (1812, 1), (1938, 1), (2047, 1), (2065, 1), (2114, 3), (2122, 1), (2207, 1), (2226, 1), (2425, 1)]), ('helmet', [(594, 1), (662, 1), (924, 1), (1028, 1), (1182, 4), (1376, 1), (1461, 1), (1566, 1), (1567, 1), (1770, 1), (1773, 1), (1968, 1), (1969, 1), (2041, 2), (2076, 1), (2088, 1), (2101, 1), (2102, 1), (2103, 3), (2147, 3), (2178, 1)]), ('emblem', [(594, 1), (662, 1), (738, 13), (740, 1), (848, 2), (880, 1), (1174, 1), (1239, 1), (1273, 1), (1291, 1), (1348, 1), (1376, 1), (1395, 1), (1437, 2), (1445, 1), (1482, 1), (1732, 1), (1960, 3), (1966, 1), (2041, 1), (2104, 1), (2273, 1), (2358, 1), (2439, 1), (2441, 1)]), ('arena', [(594, 1), (738, 1), (746, 1), (802, 3), (844, 10), (880, 1), (1019, 2), (1038, 1), (1148, 3), (1203, 1), (1216, 1), (1298, 2), (1334, 2), (1338, 1), (1627, 2), (1812, 4), (1859, 4), (1884, 1), (1914, 1), (1950, 1), (2067, 1), (2127, 1), (2129, 2), (2241, 1), (2273, 15), (2289, 1), (2358, 2), (2382, 1)]), ('memorable', [(595, 5), (665, 1), (736, 1), (880, 1), (980, 1), (1028, 1), (1141, 1), (1844, 1), (1969, 1), (2006, 1), (2140, 4), (2144, 1), (2397, 1), (2414, 1)]), ('finals', [(595, 9), (670, 1), (701, 1), (890, 5), (1148, 1), (1216, 1), (2102, 1), (2174, 4), (2289, 1), (2358, 4), (2403, 7)]), ('bengali', [(597, 2), (689, 1), (803, 2), (1010, 2), (1017, 2), (1442, 1), (1496, 1), (1576, 1), (1601, 1), (1750, 2), (1834, 4), (1862, 1), (2101, 2), (2192, 1)]), ('reassigned', [(599, 1), (663, 1), (872, 1), (984, 1), (1135, 1), (1346, 5), (1367, 1), (1456, 1), (1461, 3), (1717, 1), (1773, 1), (1937, 1), (1965, 2), (1970, 1), (2061, 4), (2218, 1), (2321, 1)]), ('substantially', [(600, 1), (612, 1), (639, 2), (657, 2), (664, 1), (674, 1), (701, 1), (736, 1), (737, 1), (765, 1), (771, 1), (857, 1), (874, 1), (888, 1), (904, 1), (954, 1), (958, 1), (974, 1), (1078, 1), (1097, 1), (1112, 1), (1130, 1), (1148, 1), (1164, 1), (1177, 1), (1183, 1), (1187, 1), (1208, 1), (1267, 1), (1288, 1), (1303, 1), (1306, 1), (1338, 4), (1441, 1), (1453, 1), (1466, 1), (1520, 1), (1542, 1), (1560, 1), (1767, 1), (1841, 1), (1909, 2), (1910, 1), (1944, 2), (1950, 2), (1973, 1), (2023, 1), (2032, 1), (2078, 1), (2103, 1), (2147, 1), (2148, 1), (2154, 1), (2175, 1), (2215, 1), (2221, 1)]), ('negotiated', [(600, 1), (624, 1), (691, 1), (717, 1), (771, 1), (808, 1), (841, 1), (880, 1), (1094, 1), (1235, 1), (1273, 1), (1373, 1), (1527, 1), (1545, 1), (1571, 1), (1592, 1), (1613, 1), (1616, 1), (1623, 3), (1624, 5), (1640, 3), (1657, 1), (1662, 1), (1791, 1), (1871, 2), (1875, 1), (1896, 1), (1938, 1), (1973, 1), (1998, 1), (2039, 1), (2115, 1), (2141, 1), (2257, 1), (2357, 2), (2360, 1), (2369, 1), (2371, 1), (2380, 1)]), ('institut', [(600, 1), (880, 1), (981, 1), (1051, 2), (1141, 1), (1201, 1), (1363, 1), (1842, 3), (2006, 1), (2027, 1), (2042, 3), (2083, 2), (2241, 1), (2444, 1)]), (\"bbc's\", [(620, 1), (663, 1), (748, 1), (924, 1), (984, 1), (1152, 2), (1627, 1), (1640, 1), (1937, 1), (2029, 1), (2078, 1), (2174, 1), (2282, 1), (2397, 1), (2422, 1)]), ('watson', [(620, 2), (771, 1), (791, 1), (852, 10), (887, 1), (925, 1), (931, 6), (984, 2), (1000, 3), (1008, 1), (1010, 1), (1193, 1), (1261, 1), (1333, 1), (1395, 1), (1451, 1), (1495, 7), (1497, 1), (1634, 2), (1787, 1), (1822, 1), (1998, 1), (2130, 1), (2142, 1), (2236, 1), (2237, 1), (2274, 1), (2279, 1), (2397, 2), (2405, 2)]), ('humorous', [(620, 1), (802, 1), (924, 2), (980, 1), (1000, 1), (1028, 1), (1235, 1), (1271, 1), (1325, 1), (1361, 1), (1890, 1), (1948, 2), (2011, 1), (2210, 2), (2447, 2)]), ('destined', [(620, 1), (698, 1), (746, 1), (783, 1), (958, 3), (1178, 1), (1183, 1), (1239, 1), (1370, 1), (1520, 1), (1540, 1), (1558, 1), (1560, 1), (1592, 1), (1623, 1), (1659, 1), (1700, 1), (1715, 1), (1717, 1), (1879, 1), (2076, 1), (2219, 1), (2440, 1)]), ('ministries', [(649, 1), (737, 1), (738, 1), (802, 1), (1051, 1), (1143, 2), (1171, 1), (1214, 2), (1241, 1), (1301, 2), (1644, 1), (1812, 1), (2162, 1), (2257, 1)]), ('wheels', [(653, 3), (677, 1), (783, 1), (848, 4), (1016, 1), (1022, 1), (1146, 4), (1168, 1), (1187, 4), (1208, 2), (1271, 3), (1349, 1), (1734, 1), (1758, 1), (1806, 1), (1968, 1), (1969, 1), (2007, 1), (2141, 1), (2148, 2), (2175, 1), (2207, 1), (2234, 1), (2287, 3)]), ('impurities', [(656, 1), (898, 1), (901, 1), (904, 3), (1187, 10), (1366, 2), (1372, 1), (1530, 1), (1778, 2), (1910, 1), (2308, 2), (2341, 1), (2362, 1), (2408, 1)]), ('tar', [(657, 18), (765, 1), (876, 1), (1313, 1), (1367, 1), (1369, 1), (1778, 1), (1841, 1), (1844, 2), (2103, 1), (2185, 1), (2396, 6)]), ('orbits', [(662, 5), (663, 4), (791, 15), (798, 1), (799, 8), (840, 1), (902, 4), (1206, 5), (1210, 2), (1394, 1), (1461, 3), (1773, 1), (1926, 2), (1933, 1), (1969, 1), (1970, 2), (1971, 2), (1979, 8)]), ('intercontinental', [(662, 1), (663, 1), (737, 1), (780, 1), (849, 1), (1022, 1), (1088, 1), (1333, 1), (1488, 1), (1499, 1), (1791, 4), (1930, 1), (1942, 1), (2273, 5)]), ('astronaut', [(662, 10), (663, 5), (664, 53), (931, 1), (1008, 1), (1009, 1), (1010, 3), (1011, 2), (1012, 1), (1013, 1), (1154, 2), (1254, 2), (1259, 1), (1261, 1), (1298, 1), (1333, 2), (1334, 1), (1417, 1), (1442, 1), (1448, 1), (1461, 12), (1496, 1), (1497, 1), (1499, 2), (1519, 1), (1629, 2), (1639, 1), (1710, 1), (1711, 1), (1770, 7), (1773, 8), (1774, 5), (1793, 1), (1794, 1), (1862, 1), (1965, 11), (1966, 4), (1967, 2), (1968, 13), (1969, 11), (1970, 3), (1971, 3), (1990, 2), (2154, 1), (2194, 4), (2195, 1), (2196, 1), (2279, 1), (2382, 1), (2395, 1), (2418, 1)]), ('ladder', [(662, 3), (666, 1), (1181, 1), (1461, 1), (1587, 2), (1716, 1), (1806, 2), (1890, 1), (1897, 1), (1910, 1), (1970, 3), (2065, 1), (2237, 1), (2403, 2)]), ('babies', [(665, 3), (765, 1), (874, 1), (1064, 1), (1303, 1), (1445, 3), (1525, 1), (1530, 3), (1550, 2), (1695, 1), (2122, 1), (2144, 1), (2154, 2), (2187, 1), (2246, 1), (2362, 1)]), ('shorthand', [(670, 1), (800, 1), (877, 2), (878, 6), (1022, 1), (1171, 3), (1456, 1), (2011, 2), (2049, 1), (2100, 2), (2315, 1), (2349, 1)]), ('bounded', [(689, 2), (698, 2), (736, 1), (746, 1), (803, 1), (840, 1), (854, 4), (991, 2), (1148, 1), (1209, 3), (1216, 1), (1354, 1), (1418, 1), (1635, 1), (1842, 1), (1854, 1), (1934, 1), (1944, 2), (2230, 1)]), ('arrivals', [(690, 1), (1148, 1), (1227, 1), (1558, 1), (1909, 1), (1975, 1), (2006, 7), (2154, 1), (2175, 1), (2338, 1), (2377, 1)]), ('imminent', [(691, 1), (711, 1), (771, 1), (799, 1), (986, 1), (1029, 3), (1214, 1), (1395, 1), (1400, 1), (1436, 1), (1466, 3), (1575, 1), (1921, 1), (1950, 1), (2076, 1), (2152, 1), (2176, 1), (2219, 1), (2343, 2), (2348, 1)]), ('baltic', [(698, 5), (844, 2), (863, 1), (1012, 1), (1013, 1), (1038, 2), (1088, 1), (1092, 1), (1097, 3), (1372, 19), (1592, 1), (1625, 1), (1627, 1), (1628, 3), (1640, 1), (1697, 1), (1874, 4), (1942, 1), (2006, 1), (2024, 12), (2108, 3), (2136, 2), (2257, 2), (2402, 1), (2411, 1)]), ('878', [(717, 1), (1069, 1), (1092, 1), (1096, 1), (1209, 1), (1565, 1), (1640, 8), (1649, 1), (1747, 1), (1841, 1), (2104, 1), (2308, 1), (2358, 1)]), ('katherine', [(728, 1), (856, 1), (1316, 1), (1416, 1), (1496, 1), (1806, 1), (1893, 1), (1921, 1), (2215, 1), (2326, 1), (2425, 2), (2447, 2)]), ('restructuring', [(738, 1), (786, 1), (844, 1), (856, 3), (1081, 1), (1097, 1), (1397, 1), (1640, 1), (1644, 1), (2176, 1), (2234, 1), (2346, 1), (2358, 1), (2400, 3), (2405, 1)]), ('demolished', [(738, 2), (844, 4), (888, 1), (954, 2), (1148, 1), (1293, 1), (1325, 1), (1581, 1), (1624, 1), (1640, 3), (1644, 2), (1649, 1), (1749, 2), (1767, 1), (1812, 1), (1814, 1), (1881, 3), (1921, 1), (2006, 2), (2029, 1), (2076, 1), (2085, 1), (2180, 1), (2185, 1), (2357, 1), (2358, 1), (2382, 1), (2425, 2)]), ('treachery', [(738, 1), (1273, 1), (1370, 1), (1544, 1), (1580, 1), (1585, 1), (1594, 1), (1606, 1), (1613, 1), (1623, 1), (1640, 1), (2110, 1), (2360, 1), (2422, 2)]), ('humiliation', [(771, 1), (868, 1), (1182, 1), (1395, 1), (1466, 1), (1550, 1), (1575, 1), (1589, 1), (1656, 1), (1660, 1), (2023, 1), (2041, 1), (2187, 1)]), ('kappa', [(799, 2), (800, 1), (1005, 1), (1776, 1), (1927, 1), (1933, 2), (2246, 4), (2273, 1), (2274, 1), (2339, 1), (2362, 2)]), ('slain', [(841, 1), (888, 1), (1178, 1), (1182, 1), (1213, 1), (1273, 1), (1460, 1), (1526, 4), (1544, 3), (1571, 1), (1575, 3), (1695, 1), (1719, 2), (1874, 1), (1925, 2), (2023, 1), (2041, 1), (2085, 1)]), ('essayist', [(1011, 1), (1058, 1), (1154, 4), (1417, 2), (1428, 1), (1448, 1), (1490, 2), (1541, 2), (1629, 3), (1639, 1), (1781, 1), (1790, 1), (1974, 2), (1990, 1), (2192, 1), (2194, 2), (2195, 1), (2196, 1), (2224, 1), (2279, 1), (2310, 1), (2395, 2)])])]\n"
          ]
        }
      ]
    },
    {
      "cell_type": "code",
      "metadata": {
        "deletable": false,
        "editable": false,
        "id": "C-h5dgtF-TeL",
        "nbgrader": {
          "cell_type": "code",
          "checksum": "99fd63277bc98ff17fdeff467d07b5dd",
          "grade": true,
          "grade_id": "cell-67eccca53a3c689c",
          "locked": true,
          "points": 5,
          "schema_version": 3,
          "solution": false,
          "task": false
        }
      },
      "source": [
        "# merge the posting locations into a single dict and run more tests (5 points)\n",
        "super_posting_locs = defaultdict(list)\n",
        "for posting_loc in posting_locs_list:\n",
        "  for k, v in posting_loc.items():\n",
        "    super_posting_locs[k].extend(v)\n",
        "\n",
        "assert super_posting_locs['try'][0][0][:3] == '105'\n",
        "assert super_posting_locs['political'][0][0][:2] == '83'\n",
        "assert 'hi' not in super_posting_locs\n",
        "assert len(super_posting_locs) == 14524"
      ],
      "execution_count": null,
      "outputs": []
    },
    {
      "cell_type": "markdown",
      "metadata": {
        "id": "xBpxtFW7HeAT"
      },
      "source": [
        "Putting everything together (posting locations, df) and test that the resulting index is correct. "
      ]
    },
    {
      "cell_type": "code",
      "metadata": {
        "id": "VKrew8cUAyTz"
      },
      "source": [
        "# Create inverted index instance\n",
        "inverted = InvertedIndex()\n",
        "# Adding the posting locations dictionary to the inverted index\n",
        "inverted.posting_locs = super_posting_locs\n",
        "# Add the token - df dictionary to the inverted index\n",
        "inverted.df = w2df_dict\n",
        "# write the global stats out\n",
        "inverted.write_index('.', 'index')"
      ],
      "execution_count": null,
      "outputs": []
    },
    {
      "cell_type": "code",
      "metadata": {
        "deletable": false,
        "editable": false,
        "id": "j2_qt2IPkxqz",
        "nbgrader": {
          "cell_type": "code",
          "checksum": "4cb2f6508a6447d5732697ca263194c6",
          "grade": false,
          "grade_id": "cell-2580b6e6179c1c3f",
          "locked": true,
          "schema_version": 3,
          "solution": false,
          "task": false
        }
      },
      "source": [
        "TUPLE_SIZE = 6       \n",
        "TF_MASK = 2 ** 16 - 1 # Masking the 16 low bits of an integer\n",
        "from contextlib import closing\n",
        "\n",
        "def read_posting_list(inverted, w):\n",
        "  with closing(MultiFileReader()) as reader:\n",
        "    locs = inverted.posting_locs[w]\n",
        "    b = reader.read(locs, inverted.df[w] * TUPLE_SIZE)\n",
        "    posting_list = []\n",
        "    for i in range(inverted.df[w]):\n",
        "      doc_id = int.from_bytes(b[i*TUPLE_SIZE:i*TUPLE_SIZE+4], 'big')\n",
        "      tf = int.from_bytes(b[i*TUPLE_SIZE+4:(i+1)*TUPLE_SIZE], 'big')\n",
        "      posting_list.append((doc_id, tf))\n",
        "    return posting_list"
      ],
      "execution_count": null,
      "outputs": []
    },
    {
      "cell_type": "code",
      "metadata": {
        "deletable": false,
        "editable": false,
        "id": "VF6gfVFSIzM6",
        "nbgrader": {
          "cell_type": "code",
          "checksum": "c2a9d41d94ca9a2214a24f6794c23db7",
          "grade": true,
          "grade_id": "cell-7c94f4d8b12a93b5",
          "locked": true,
          "points": 5,
          "schema_version": 3,
          "solution": false,
          "task": false
        }
      },
      "source": [
        "## test the final index\n",
        "pl = read_posting_list(inverted, 'clarity')\n",
        "assert pl[-3] == (2204, 2)\n",
        "assert len(pl) == 18"
      ],
      "execution_count": null,
      "outputs": []
    },
    {
      "cell_type": "markdown",
      "metadata": {
        "id": "I2oCcQwP5zS_"
      },
      "source": [
        "## PageRank"
      ]
    },
    {
      "cell_type": "markdown",
      "metadata": {
        "id": "U9gMGQIohFOz"
      },
      "source": [
        "In this section, your task is to compute PageRank for wiki articles using the anchor text we extracted from the MediaWiki markdown. Let's select the 'id' and 'anchor_text' fields into a new RDD:"
      ]
    },
    {
      "cell_type": "code",
      "metadata": {
        "id": "pUUdHGbCOr3C"
      },
      "source": [
        "pages_links = spark.read.parquet(path).limit(1000).select(\"id\", \"anchor_text\").rdd"
      ],
      "execution_count": null,
      "outputs": []
    },
    {
      "cell_type": "markdown",
      "metadata": {
        "id": "IVhmHraRIHec"
      },
      "source": [
        ":**YOUR TASK (20 POINTS):** Complete the implementation of `generate_graph`, which generates the graph of internal wikipedia links (wiki articles pointing to other wiki articles). Use PySpark to compute the vertices (pages) and edges (links) of the graph. Multiple links from page A to page B need to be represented by a single edge (edges are not weighted). You may use the built-in function `distinct` of the RDD object to identify distinct elements, but be mindful of its impact on computation time. "
      ]
    },
    {
      "cell_type": "code",
      "metadata": {
        "deletable": false,
        "id": "YFRogCnlHIGR",
        "nbgrader": {
          "cell_type": "code",
          "checksum": "69c22317d1ad51b321d3ef4f86a4cb4f",
          "grade": false,
          "grade_id": "cell-d0d3cd0a8e67f3d5",
          "locked": false,
          "schema_version": 3,
          "solution": true,
          "task": false
        }
      },
      "source": [
        "def generate_graph(pages):\n",
        "  ''' Compute the directed graph generated by wiki links.\n",
        "  Parameters:\n",
        "  -----------\n",
        "    pages: RDD\n",
        "      An RDD where each row consists of one wikipedia articles with 'id' and \n",
        "      'anchor_text'.\n",
        "  Returns:\n",
        "  --------\n",
        "    edges: RDD\n",
        "      An RDD where each row represents an edge in the directed graph created by\n",
        "      the wikipedia links. The first entry should the source page id and the \n",
        "      second entry is the destination page id. No duplicates should be present. \n",
        "    vertices: RDD\n",
        "      An RDD where each row represents a vetrix (node) in the directed graph \n",
        "      created by the wikipedia links. No duplicates should be present. \n",
        "  '''\n",
        "  # YOUR CODE HERE\n",
        "  edges = pages_links.flatMap(lambda r: [(r[0], an_text_id[0]) for an_text_id in r[1]]).distinct()\n",
        "  vertices = edges.flatMap(lambda r: r).distinct()\n",
        "  return edges, vertices.map(lambda r: Row(r))"
      ],
      "execution_count": null,
      "outputs": []
    },
    {
      "cell_type": "code",
      "metadata": {
        "deletable": false,
        "editable": false,
        "id": "ajIiUP8CCY51",
        "nbgrader": {
          "cell_type": "code",
          "checksum": "d6f4f7646555fa5aed797d8eae7af96c",
          "grade": true,
          "grade_id": "cell-bc0fda19ef37c287",
          "locked": true,
          "points": 10,
          "schema_version": 3,
          "solution": false,
          "task": false
        }
      },
      "source": [
        "# test graph construction efficiency (10 points)\n",
        "t_start = time()\n",
        "# construct the graph for a small sample of (1000) pages\n",
        "edges, vertices = generate_graph(pages_links)\n",
        "# time the actual execution\n",
        "v_cnt, e_cnt = vertices.count(), edges.count()\n",
        "graph_const_time = time() - t_start\n",
        "# test that the implementation is efficient (<20 seconds)\n",
        "assert graph_const_time < 20"
      ],
      "execution_count": null,
      "outputs": []
    },
    {
      "cell_type": "code",
      "metadata": {
        "colab": {
          "base_uri": "https://localhost:8080/"
        },
        "id": "zyiipF89zy8s",
        "outputId": "f8c14ddc-0e53-4558-9702-3008b3402350"
      },
      "source": [
        "v_cnt"
      ],
      "execution_count": null,
      "outputs": [
        {
          "output_type": "execute_result",
          "data": {
            "text/plain": [
              "183727"
            ]
          },
          "metadata": {},
          "execution_count": 52
        }
      ]
    },
    {
      "cell_type": "code",
      "metadata": {
        "deletable": false,
        "editable": false,
        "id": "tb6ainuknU6z",
        "nbgrader": {
          "cell_type": "code",
          "checksum": "305f9d3d9c543fa6e4727ed281347252",
          "grade": true,
          "grade_id": "cell-c36cec1a8efaf00b",
          "locked": true,
          "points": 5,
          "schema_version": 3,
          "solution": false,
          "task": false
        }
      },
      "source": [
        "# test that we get the right number of vertices (5 points)\n",
        "assert v_cnt == 114966"
      ],
      "execution_count": null,
      "outputs": []
    },
    {
      "cell_type": "code",
      "metadata": {
        "deletable": false,
        "editable": false,
        "id": "ruKfLiFXnqcY",
        "nbgrader": {
          "cell_type": "code",
          "checksum": "91440d59c7f00895e79477cac7fed8f0",
          "grade": true,
          "grade_id": "cell-3d7fccf8d029f0ff",
          "locked": true,
          "points": 5,
          "schema_version": 3,
          "solution": false,
          "task": false
        }
      },
      "source": [
        "# test that we get the right number of edges (5 points)\n",
        "assert e_cnt == 183727"
      ],
      "execution_count": null,
      "outputs": []
    },
    {
      "cell_type": "markdown",
      "metadata": {
        "id": "yAx3CmIqOcLn"
      },
      "source": [
        "Let's compute PageRank in a distributed fashion (using PySpark's GraphFrame package) and show the top 20 pages."
      ]
    },
    {
      "cell_type": "code",
      "metadata": {
        "id": "XQl-tJSFNV_g",
        "colab": {
          "base_uri": "https://localhost:8080/"
        },
        "outputId": "ebcf0428-1ca9-4522-8bda-7b547987cbdb"
      },
      "source": [
        "edgesDF = edges.toDF(['src', 'dst']).repartition(4, 'src')\n",
        "verticesDF = vertices.toDF(['id']).repartition(4, 'id')\n",
        "g = GraphFrame(verticesDF, edgesDF)\n",
        "pr_results = g.pageRank(resetProbability=0.15, maxIter=10)\n",
        "pr = pr_results.vertices.select(\"id\", \"pagerank\")\n",
        "pr = pr.sort(col('pagerank').desc())\n",
        "pr.repartition(1).write.csv('pr', compression=\"gzip\")\n",
        "pr.show()"
      ],
      "execution_count": null,
      "outputs": [
        {
          "output_type": "stream",
          "name": "stdout",
          "text": [
            "+--------+------------------+\n",
            "|      id|          pagerank|\n",
            "+--------+------------------+\n",
            "|  606848|1.9768910954777374|\n",
            "|43432956|1.7183234055660317|\n",
            "|37404646| 1.561180019985396|\n",
            "|  148363| 1.531189053212204|\n",
            "|     308| 1.523973241896932|\n",
            "|     783|1.5205983727677175|\n",
            "|   39235|1.5113438223085562|\n",
            "|   30680| 1.506487061855029|\n",
            "| 3434750|1.5042432651671351|\n",
            "|   48518|1.5032093881505733|\n",
            "| 5843419| 1.475564533072746|\n",
            "|   25458|1.4651925575346503|\n",
            "|     854| 1.433614708798739|\n",
            "|   14532|1.4318560075868727|\n",
            "|   11887| 1.422942493084949|\n",
            "|   32927|1.4195131540605397|\n",
            "| 8034453| 1.414325748041313|\n",
            "|    1686|1.4005429901986137|\n",
            "|   25507|1.3695924013144563|\n",
            "|   61371|1.3682656561066355|\n",
            "+--------+------------------+\n",
            "only showing top 20 rows\n",
            "\n"
          ]
        }
      ]
    },
    {
      "cell_type": "markdown",
      "metadata": {
        "id": "x0iXbQIstzvW"
      },
      "source": [
        "**YOUR TASK (5 POINTS)**: Complete the implmentation of `get_top_pr_page_titles` to return the titles a few of the top pages as ranked by PageRank and printed above. To get the title for each page id listed above, navigate to the url https://en.wikipedia.org/?curid=wiki_id_here by replacing the `wiki_id_here` part with the page id. For example, if you navigate to https://en.wikipedia.org/?curid=25507 for the page with id 25507 you'd see that its title is 'Roman Empire'."
      ]
    },
    {
      "cell_type": "code",
      "metadata": {
        "deletable": false,
        "id": "vhZVTSpnxQaj",
        "nbgrader": {
          "cell_type": "code",
          "checksum": "f1bccebc72f575bb4d959d9d0a0103f0",
          "grade": false,
          "grade_id": "cell-dd6c6763a00243fb",
          "locked": false,
          "schema_version": 3,
          "solution": true,
          "task": false
        }
      },
      "source": [
        "def get_top_pr_page_titles():\n",
        "  ''' Returns the title of the first, fourth, and fifth pages as ranked about \n",
        "      by PageRank.\n",
        "  Returns:\n",
        "  --------\n",
        "    list of three strings.\n",
        "  '''\n",
        "  # YOUR CODE HERE\n",
        "  return [\"Catholic Church\", \"Ancient Greek\", \"Aristotle\"]\n",
        "  "
      ],
      "execution_count": null,
      "outputs": []
    },
    {
      "cell_type": "code",
      "metadata": {
        "deletable": false,
        "editable": false,
        "id": "nli6ETKzyPn6",
        "nbgrader": {
          "cell_type": "code",
          "checksum": "1436932508342f05c9317545700b8757",
          "grade": true,
          "grade_id": "cell-cbb125817c8a2b61",
          "locked": true,
          "points": 5,
          "schema_version": 3,
          "solution": false,
          "task": false
        }
      },
      "source": [
        "assert [_hash(x.lower()) for x in get_top_pr_page_titles()] == \\\n",
        "  ['52bb7dbc02', '3e920ea944', '3d007b19ee']"
      ],
      "execution_count": null,
      "outputs": []
    },
    {
      "cell_type": "markdown",
      "metadata": {
        "id": "d4V85PGkP3We"
      },
      "source": [
        "Do the top ranked pages make sense to you? Why do you think these pages received such a high scores from PageRank?"
      ]
    },
    {
      "cell_type": "markdown",
      "metadata": {
        "id": "OkDnmqAur3Ph"
      },
      "source": [
        "# GCP\n",
        "\n",
        "The second part of the assignment involves running index creation in GCP and reporting results in this notebook. Follow [this](https://docs.google.com/document/d/1HTZVDMQ1gyeq8dlyzmomOkxjSo1Td76PsCGlFkQohps/edit?usp=sharing) step-by-step guide in order to set up your cluster environment on GCP so you can execute pyspark code on a cluster of machines. "
      ]
    },
    {
      "cell_type": "markdown",
      "metadata": {
        "id": "Tq-ilXaFLFVh"
      },
      "source": [
        "The code to the GCP notebook is in the moodle under assignment 3. You will have to copy the code you completed here in the relevant sections.\n",
        "\n",
        "In the current notebook we used MapReduce to create the index for only one wiki dump. Using GCP, we will be able to create the index on the entire english wikipedia. The GCP part of this assignment will be the first time we will work with the entire corpus. You will need to follow the notebook, complete the code as you did here (the same code you completed in this notebook can be used in the GCP notebook). \n",
        "At the end of the GCP assignment you will have questions that you will need to answer - this are not the tests we used so far, so you should follow the instructions in the notebook."
      ]
    }
  ]
}