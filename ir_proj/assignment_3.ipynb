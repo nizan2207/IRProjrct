{
 "cells": [
  {
   "cell_type": "markdown",
   "metadata": {
    "id": "ByCSu-FhG5v7"
   },
   "source": [
    "# Assignment 3: MapReduce & Web Graph"
   ]
  },
  {
   "cell_type": "markdown",
   "metadata": {
    "id": "-e3cxxyFG_XW"
   },
   "source": [
    "## General guidelines\n",
    "\n",
    "This notebook contains considerable amount of code to help you complete this assignment. Your task is to implement any missing parts of the code and answer any questions (if exist) within this notebook. This will require understanding the existing code, may require reading about packages being used, reading additional resources, and maybe even going over your notes from class 😱\n",
    "\n",
    "**Evaluation and auto-grading**: Your submissions will be evaluated using both automatic and manual grading. Code parts for implementation are marked with a comment `# YOUR CODE HERE`, and usually followed by cell(s) containing automatic tests that evaluate the correctness of your answer. Staff will allow your notebook to **execute from start to finish for no more than 90 seconds**, then manually assess your submission. Any automatic tests that did not run due to your notebook timing out **will automatically receive 0 points**. The execution time excludes initial data download, which will already exist in the testing environment. The staff reserves the right to **modify any grade provided by the auto-grader** as well as to **execute additional tests not provided to you**. It is also important to note that **auto-graded cells only result in full or no credit**. In other words, you must pass all tests implemented in a test cell in order to get the credit for it, and passing some, but not all, of the tests in a test cell will not earn you any points for that cell. \n",
    "\n",
    "**Submission**: Upload a zip file **with your ID as the file name** containing the colab notebook and the GCP notebook to the assignment on Moodle. The names of the files should be  in the format:  012345678_colab.ipynb and 012345678_gcp.ipynb."
   ]
  },
  {
   "cell_type": "markdown",
   "metadata": {
    "id": "fscYA3wkHCLk"
   },
   "source": [
    "# Tasks\n",
    "\n",
    "In this assignment, we are going to use MapReduce in pySpark to scale up index creation. **The assignment consists of two parts, one in Google Colab and one in GCP**. In the first part (Colab), we will learn how to use MapReduce in PySpark, create an inverted index, and calculate PageRank. In the second part, we will use GCP to scale up index creation for the entire English Wikipedia. \n",
    "\n",
    "You will learn how to work with PySpark, write MapReduce code that executes on a cluster of machines, and experience the power of parallel processing. **All tasks must be completed through the use of PySpark's MapReduce**.\n",
    "\n",
    "To save you (and us) time, both in this assignment and in the final project, we are providing you with preprocessed files for the entire English wikipedia dump. Preprocessing was done, similar to Assignment #2, to extract article information from the XML, then remove the WikiMedia markup. The complete preprocessing code for one wiki dump can be seen [here](https://colab.research.google.com/drive/1xXc0YPU4BVd8CAjVNgICimW_d-Z7wryu?usp=sharing).\n",
    "\n",
    "\n",
    "**By the end of this assignment, you will have:**\n",
    "\n",
    "In Colab (65 Points)\n",
    "\n",
    "1. (20 Points) Processed articles' body to produce posting lists (using PySpark and MapReduce).\n",
    "2. (5 Points) Calculated document frequency (DF) in a  distributed fashion. \n",
    "3. (20 Points) Partitioned the posting lists and wrote them to disk in parallel.\n",
    "4. (20 Points) Constructed the links graph and calculated PageRank on it. \n",
    "All of these will be based on a small subset of articles from one wiki dump file.\n",
    "\n",
    "In GCP (35 Points):\n",
    "\n",
    "1. (10 Points) Successfully started a Dataproc cluster, setup cloud storage bucket, and properly initialized cluster nodes.\n",
    "2. (10 Points) Created an inverted index for all of English Wikipedia. \n",
    "3. (10 Points) Successfully computed PageRank for the entire English Wikipedia.\n",
    "4. (5 Points) Reporting: size of the data, size of index, time it took to build the index, time it took to compute PageRank, and the $ amount of credits it consumed.\n",
    "\n",
    "Bonus (10 points) if you implement PageRank in pure PySpark, i.e. without using the GraphFrames package, AND manage to complete 10 iterations of your algorithm on the entire English Wikipedia in less than an hour. \n",
    "\n",
    "\n",
    "\n",
    "\n",
    "\n"
   ]
  },
  {
   "cell_type": "markdown",
   "metadata": {
    "id": "J0P4W63JvrT5"
   },
   "source": [
    "# Setup"
   ]
  },
  {
   "cell_type": "markdown",
   "metadata": {
    "id": "59yMYAN1x3oh"
   },
   "source": [
    "## General imports\n",
    "\n",
    "The `inverted_index_colab` import requires the `inverted_index_colab.py` file. You should upload the file and then run this cell."
   ]
  },
  {
   "cell_type": "code",
   "execution_count": null,
   "metadata": {
    "colab": {
     "base_uri": "https://localhost:8080/"
    },
    "deletable": false,
    "editable": false,
    "id": "byNgReCYsmA9",
    "nbgrader": {
     "cell_type": "code",
     "checksum": "9a5e34081c68da39370c09ff0ee046f0",
     "grade": false,
     "grade_id": "cell-4bab9532110cc7e3",
     "locked": true,
     "schema_version": 3,
     "solution": false,
     "task": false
    },
    "outputId": "29c76e23-7fe9-46e8-8fcd-54fb852c4d5b"
   },
   "outputs": [],
   "source": [
    "import sys\n",
    "from collections import Counter, OrderedDict\n",
    "import itertools\n",
    "from itertools import islice, count, groupby\n",
    "import pandas as pd\n",
    "import os\n",
    "import re\n",
    "from operator import itemgetter\n",
    "import nltk\n",
    "from nltk.stem.porter import *\n",
    "from nltk.corpus import stopwords\n",
    "from time import time\n",
    "from timeit import timeit\n",
    "from pathlib import Path\n",
    "import pickle\n",
    "import pandas as pd\n",
    "import numpy as np\n",
    "from google.cloud import storage\n",
    "\n",
    "import hashlib\n",
    "def _hash(s):\n",
    "    return hashlib.blake2b(bytes(s, encoding='utf8'), digest_size=5).hexdigest()\n",
    "\n",
    "nltk.download('stopwords')\n",
    "\n",
    "from inverted_index_colab import *"
   ]
  },
  {
   "cell_type": "markdown",
   "metadata": {
    "id": "KRjOVgLBrfCs"
   },
   "source": [
    "## Installing, importing, and initializing PySpark\n"
   ]
  },
  {
   "cell_type": "markdown",
   "metadata": {
    "id": "GORmjMdasns1"
   },
   "source": [
    "The following code installs PySpark and its dependencies in Colab. In addition, we install GraphFrames, which is a PySpark package for dealing with graphs in a distributed fashion. Colab notebooks run on a single machine so we will work in local mode, i.e. there is no cluster of machines and both the master and worker processes run on a single machine. This will help us debug and iron out the code we will use in the second half of this assignment on an actual cluster mode in GCP. \n",
    "\n",
    "The installation in the next cell should take about 1 minute in a fresh environment. Don't worry about going  over the 90 seconds limit for the assignment because in our testing enviroment all of these requirements will already be met. "
   ]
  },
  {
   "cell_type": "code",
   "execution_count": null,
   "metadata": {
    "id": "Xf84c2MsIUGk"
   },
   "outputs": [],
   "source": []
  },
  {
   "cell_type": "code",
   "execution_count": null,
   "metadata": {
    "colab": {
     "base_uri": "https://localhost:8080/"
    },
    "deletable": false,
    "editable": false,
    "id": "kw33QgujFQez",
    "nbgrader": {
     "cell_type": "code",
     "checksum": "da733d0507fb7716a3f432b5d9d409a3",
     "grade": false,
     "grade_id": "cell-3f5100ba2d532176",
     "locked": true,
     "schema_version": 3,
     "solution": false,
     "task": false
    },
    "outputId": "df1b2c65-5581-4874-baa3-9ffbe6423f95"
   },
   "outputs": [],
   "source": [
    "# These will already be installed in the testing environment so disregard the \n",
    "# amount of time (~1 minute) it takes to install. \n",
    "!pip install -q pyspark\n",
    "!pip install -U -q PyDrive\n",
    "!apt install openjdk-8-jdk-headless -qq\n",
    "!pip install -q graphframes\n",
    "import os\n",
    "os.environ[\"JAVA_HOME\"] = \"/usr/lib/jvm/java-8-openjdk-amd64\"\n",
    "graphframes_jar = 'https://repos.spark-packages.org/graphframes/graphframes/0.8.2-spark3.2-s_2.12/graphframes-0.8.2-spark3.2-s_2.12.jar'\n",
    "spark_jars = '/usr/local/lib/python3.7/dist-packages/pyspark/jars'\n",
    "!wget -N -P $spark_jars $graphframes_jar"
   ]
  },
  {
   "cell_type": "code",
   "execution_count": null,
   "metadata": {
    "deletable": false,
    "editable": false,
    "id": "BkEErqJnsXyy",
    "nbgrader": {
     "cell_type": "code",
     "checksum": "032f9e425c679e50c3f5c4ea0c8c1a0d",
     "grade": false,
     "grade_id": "cell-eb29d235a981ccf1",
     "locked": true,
     "schema_version": 3,
     "solution": false,
     "task": false
    }
   },
   "outputs": [],
   "source": [
    "import pyspark\n",
    "from pyspark.sql import *\n",
    "from pyspark.sql.functions import *\n",
    "from pyspark import SparkContext, SparkConf\n",
    "from pyspark.sql import SQLContext\n",
    "from pyspark.ml.feature import Tokenizer, RegexTokenizer\n",
    "from graphframes import *"
   ]
  },
  {
   "cell_type": "code",
   "execution_count": null,
   "metadata": {
    "deletable": false,
    "editable": false,
    "id": "OgiSewKAsgKd",
    "nbgrader": {
     "cell_type": "code",
     "checksum": "a5af00dff69d4112e18699486f128230",
     "grade": false,
     "grade_id": "cell-3abe6255693138cc",
     "locked": true,
     "schema_version": 3,
     "solution": false,
     "task": false
    }
   },
   "outputs": [],
   "source": [
    "# Initializing spark context\n",
    "# create a spark context and session\n",
    "conf = SparkConf().set(\"spark.ui.port\", \"4050\")\n",
    "sc = pyspark.SparkContext(conf=conf)\n",
    "sc.addPyFile(str(Path(spark_jars) / Path(graphframes_jar).name))\n",
    "spark = SparkSession.builder.getOrCreate()"
   ]
  },
  {
   "cell_type": "markdown",
   "metadata": {
    "id": "A9fjw2J-s87v"
   },
   "source": [
    "You can easily check the current version and get the link of the web interface. In the Spark UI, you can monitor the progress of your job and debug the performance bottlenecks (if your Colab is running with a **local runtime**)."
   ]
  },
  {
   "cell_type": "code",
   "execution_count": null,
   "metadata": {
    "colab": {
     "base_uri": "https://localhost:8080/",
     "height": 219
    },
    "id": "PUyhQAlBs8qL",
    "outputId": "39a215c3-4997-4ae8-b1e3-f020bbb586c3"
   },
   "outputs": [],
   "source": [
    "spark"
   ]
  },
  {
   "cell_type": "markdown",
   "metadata": {
    "id": "19EG5AvVru1J"
   },
   "source": [
    "## Copy some wiki data"
   ]
  },
  {
   "cell_type": "markdown",
   "metadata": {
    "id": "ofyAoTHttjHE"
   },
   "source": [
    "As mentioned above, all wiki dumps were preprocessed and placed in a shared google storage bucket. To access the files in Colab, you will first have to authenticate with google storage, and then copy the data to your local environment. In GCP, the storage will already be mounted on the cluster machines and we will show you how to access it. "
   ]
  },
  {
   "cell_type": "code",
   "execution_count": null,
   "metadata": {
    "deletable": false,
    "editable": false,
    "id": "DkdjBm5DOVWX",
    "nbgrader": {
     "cell_type": "code",
     "checksum": "0b138c8dd737320e8f709a125f6862f9",
     "grade": false,
     "grade_id": "cell-e21b8fff61e90a95",
     "locked": true,
     "schema_version": 3,
     "solution": false,
     "task": false
    }
   },
   "outputs": [],
   "source": [
    "# Authenticate your user\n",
    "# The authentication should be done with the email connected to your GCP account\n",
    "from google.colab import auth\n",
    "auth.authenticate_user()"
   ]
  },
  {
   "cell_type": "code",
   "execution_count": null,
   "metadata": {
    "colab": {
     "base_uri": "https://localhost:8080/"
    },
    "deletable": false,
    "editable": false,
    "id": "vDuikxFbN9B7",
    "nbgrader": {
     "cell_type": "code",
     "checksum": "21fef1395f2be15f2a4cac7d41236bf3",
     "grade": false,
     "grade_id": "cell-e19184d540ed3d67",
     "locked": true,
     "schema_version": 3,
     "solution": false,
     "task": false
    },
    "outputId": "176aff84-0901-4c42-f1ca-368c0685318b"
   },
   "outputs": [],
   "source": [
    "# Copy one wikidumps files \n",
    "import os\n",
    "from pathlib import Path\n",
    "from google.colab import auth\n",
    "\n",
    "project_id = 'core-period-321814'\n",
    "!gcloud config set project {project_id}\n",
    "\n",
    "data_bucket_name = 'wikidata_preprocessed'\n",
    "try:\n",
    "    if os.environ[\"wikidata_preprocessed\"] is not None:\n",
    "        pass  \n",
    "except:\n",
    "      !mkdir wikidumps\n",
    "      !gsutil cp gs://{data_bucket_name}/multistream1_preprocessed.parquet \"wikidumps/\" \n"
   ]
  },
  {
   "cell_type": "markdown",
   "metadata": {
    "id": "_GU4djg6yizh"
   },
   "source": [
    "# Processing wikipedia"
   ]
  },
  {
   "cell_type": "markdown",
   "metadata": {
    "id": "uF9ywiIC-sAX"
   },
   "source": [
    "Now that we completed the setup and have some data in our local environment, we are ready to process it using PySpark. "
   ]
  },
  {
   "cell_type": "markdown",
   "metadata": {
    "id": "tkEUicVTzDZd"
   },
   "source": [
    "## A 2-minute intro to PySpark"
   ]
  },
  {
   "cell_type": "markdown",
   "metadata": {
    "id": "6GVQMbCtzWI2"
   },
   "source": [
    "One of the fundamental data structures in spark is a **Resillient Distributed Dataset (RDD)**. It is an immutable distributed collections of objects that are partitioned across machines, and thus making parallel processing natural and easy. RDD's support two types of operations: *transformations* (e.g. selecting a subset of fields from each element or projecting each element from A->B), and *actions* (e.g. save to disk or `collect` elements into the master node's memory). Watch out for `collect` operations that send too much data to the master node, it will crash without a trace because of running out of memory. \n",
    "\n",
    "Spark employs **lazy-evaluation** (like many of us...), meaning that it accumulates things we ask it to do into an execution plan, but doesn't do any calculation until a result is actually needed. When a result is needed? when we save something to disk, ask spark to show the data, or use other actions. But make no mistakes, Spark is not a slacker. It employs lazy-evaluation because it allows optimizations that wouldn't be possible otherwise and it often saves users from unnecessary data reads, tranfers across machines, and other costly operations. As we will see in a bit, the RDD data structure lends itself to simple and efficient MapReduce operations."
   ]
  },
  {
   "cell_type": "markdown",
   "metadata": {
    "id": "5aQwbFGxPb4D"
   },
   "source": [
    "Let's look at our data before transforming it to RDD."
   ]
  },
  {
   "cell_type": "code",
   "execution_count": null,
   "metadata": {
    "colab": {
     "base_uri": "https://localhost:8080/"
    },
    "deletable": false,
    "editable": false,
    "id": "24AI2jXgOuVN",
    "nbgrader": {
     "cell_type": "code",
     "checksum": "cf07662ebf5f21f0f3bb8d43ee5aa50f",
     "grade": false,
     "grade_id": "cell-b34211e3350164ca",
     "locked": true,
     "schema_version": 3,
     "solution": false,
     "task": false
    },
    "outputId": "d779215a-57aa-49e8-bb0f-470f3a2f0628"
   },
   "outputs": [],
   "source": [
    "from pathlib import Path \n",
    "import os\n",
    "\n",
    "try:\n",
    "    if os.environ[\"wikidata_preprocessed\"] is not None:\n",
    "      path = os.environ[\"wikidata_preprocessed\"]+\"/wikidumps/*\"\n",
    "except:\n",
    "      path = \"wikidumps/*\"\n",
    "\n",
    "parquetFile = spark.read.parquet(path)\n",
    "parquetFile.show()"
   ]
  },
  {
   "cell_type": "code",
   "execution_count": null,
   "metadata": {
    "deletable": false,
    "editable": false,
    "id": "KMcsrc8RO9kn",
    "nbgrader": {
     "cell_type": "code",
     "checksum": "9f6dbcc85fde698083cc613e0cc1aaef",
     "grade": false,
     "grade_id": "cell-59e4fe49688570ce",
     "locked": true,
     "schema_version": 3,
     "solution": false,
     "task": false
    }
   },
   "outputs": [],
   "source": [
    "# take the 'text' and 'id' or the first 1000 rows and create an RDD from it\n",
    "doc_text_pairs = parquetFile.limit(1000).select(\"text\", \"id\").rdd"
   ]
  },
  {
   "cell_type": "markdown",
   "metadata": {
    "id": "__g69rcETm4w"
   },
   "source": [
    "## Word counts"
   ]
  },
  {
   "cell_type": "markdown",
   "metadata": {
    "id": "-zUibXvjWb6Q"
   },
   "source": [
    "### Term frequency"
   ]
  },
  {
   "cell_type": "markdown",
   "metadata": {
    "id": "UrBuHUHmA5pP"
   },
   "source": [
    "**YOUR TASK (10 POINTS):** Complete the implementation of `word_count`, which calculates the term-frequency (tf) for each word in a single document.  map function. The functions gets the text and the wiki id, calculates the tf and returns list of tuples in the form of (token, (wiki_id, tf))."
   ]
  },
  {
   "cell_type": "code",
   "execution_count": null,
   "metadata": {
    "deletable": false,
    "id": "9GmPedzexLyt",
    "nbgrader": {
     "cell_type": "code",
     "checksum": "27318e0e7bdcd4384f38fbce1f52996a",
     "grade": false,
     "grade_id": "cell-6b21d53c0afef4f6",
     "locked": false,
     "schema_version": 3,
     "solution": true,
     "task": false
    }
   },
   "outputs": [],
   "source": [
    "english_stopwords = frozenset(stopwords.words('english'))\n",
    "corpus_stopwords = ['category', 'references', 'also', 'links', 'extenal', 'see', 'thumb']\n",
    "RE_WORD = re.compile(r\"\"\"[\\#\\@\\w](['\\-]?\\w){2,24}\"\"\", re.UNICODE)\n",
    "\n",
    "all_stopwords = english_stopwords.union(corpus_stopwords)\n",
    "\n",
    "def word_count(text, id):\n",
    "  ''' Count the frequency of each word in `text` (tf) that is not included in \n",
    "  `all_stopwords` and return entries that will go into our posting lists. \n",
    "  Parameters:\n",
    "  -----------\n",
    "    text: str\n",
    "      Text of one document\n",
    "    id: int\n",
    "      Document id\n",
    "  Returns:\n",
    "  --------\n",
    "    List of tuples\n",
    "      A list of (token, (doc_id, tf)) pairs \n",
    "      for example: [(\"Anarchism\", (12, 5)), ...]\n",
    "  '''\n",
    "  tokens = [token.group() for token in RE_WORD.finditer(text.lower())]\n",
    "  # YOUR CODE HERE\n",
    "  raise NotImplementedError()"
   ]
  },
  {
   "cell_type": "code",
   "execution_count": null,
   "metadata": {
    "deletable": false,
    "editable": false,
    "id": "RLqHPKUvbT8R",
    "nbgrader": {
     "cell_type": "code",
     "checksum": "f87a2c3f96e1be68b55c7bdc528c9b70",
     "grade": true,
     "grade_id": "cell-078c69c116c8dc58",
     "locked": true,
     "points": 10,
     "schema_version": 3,
     "solution": false,
     "task": false
    }
   },
   "outputs": [],
   "source": [
    "# test for word count\n",
    "text = \"This is a test to check the words count function actually count words\"\n",
    "id = 0\n",
    "word_count_results = word_count(text, id)\n",
    "assert word_count_results[0][0] == 'test'\n",
    "assert len(word_count_results) == 6\n",
    "assert word_count_results[2][1][1] == word_count_results[2][1][1]\n",
    "assert type(word_count_results[0][0]) == str\n",
    "assert type(word_count_results[0][1]) == tuple\n"
   ]
  },
  {
   "cell_type": "markdown",
   "metadata": {
    "id": "MNC7QlO8KZL_"
   },
   "source": [
    "PySpark has a `map` trasformation that, just like we learned in class about Map in MapReduce, executes a given function on each element of an  RDD. It also has a `flatMap()` transformation that executes a given function on each element of an RDD, but afterwards flattens the results to create one big \"list\" instead multiple nested lists. For example, `flatMap` on the above `word_count` function will concatenate the tokens from multiple document into one big list rather than keeping separate list of tokens for each document like a regular `map` would produce. "
   ]
  },
  {
   "cell_type": "code",
   "execution_count": null,
   "metadata": {
    "deletable": false,
    "editable": false,
    "id": "g3DUXXzxsy-B",
    "nbgrader": {
     "cell_type": "code",
     "checksum": "1b9779ec6b1e9dc06e41ea10fd7c259a",
     "grade": false,
     "grade_id": "cell-340917ce88e0d116",
     "locked": true,
     "schema_version": 3,
     "solution": false,
     "task": false
    }
   },
   "outputs": [],
   "source": [
    "word_counts = doc_text_pairs.flatMap(lambda x: word_count(x[0], x[1]))"
   ]
  },
  {
   "cell_type": "markdown",
   "metadata": {
    "id": "cwC3pX1ss1en"
   },
   "source": [
    "After `flatMap` is executed, the counts for a given token are likely to be scattered accross multiple machines/workers in the cluster. In order to create the posting lists for each token, we need a reduce operation that collects them into one list and sorts them by the document id (wiki_id). \n",
    "\n",
    "Spark has several ways of reducing or aggergating values, but we will use `groupByKey`, which like Reduce in MapReduce, collects all the values for a given key into an iterable list of the values associated with that key. The result of `groupByKey` is an RDD with (key, value*s*) pairs. Then, we can call `map` to execute a function on each pair in that RDD or call `mapValues` to execute a function only on the values iterable.\n",
    "\n",
    "**YOUR TASK (5 POINTS):** Complete the implementation of `reduce_word_counts`, which operates on the pairs returned by `word_count`. The functions gets a list of values (unsorted posting list) and sorts it."
   ]
  },
  {
   "cell_type": "code",
   "execution_count": null,
   "metadata": {
    "deletable": false,
    "id": "1yFhHQBZHIBb",
    "nbgrader": {
     "cell_type": "code",
     "checksum": "b8b3d536f304b848874fd48edd59268c",
     "grade": false,
     "grade_id": "cell-78a1517e2ac6a914",
     "locked": false,
     "schema_version": 3,
     "solution": true,
     "task": false
    }
   },
   "outputs": [],
   "source": [
    "def reduce_word_counts(unsorted_pl):\n",
    "  ''' Returns a sorted posting list by wiki_id.\n",
    "  Parameters:\n",
    "  -----------\n",
    "    unsorted_pl: list of tuples\n",
    "      A list of (wiki_id, tf) tuples \n",
    "  Returns:\n",
    "  --------\n",
    "    list of tuples\n",
    "      A sorted posting list.\n",
    "  '''\n",
    "  # YOUR CODE HERE\n",
    "  raise NotImplementedError()"
   ]
  },
  {
   "cell_type": "code",
   "execution_count": null,
   "metadata": {
    "deletable": false,
    "editable": false,
    "id": "-VWkWnUO_QKd",
    "nbgrader": {
     "cell_type": "code",
     "checksum": "dad7c9e7a0150c79ab22b7c91cf1015b",
     "grade": false,
     "grade_id": "cell-a17b5f692abdf5af",
     "locked": true,
     "schema_version": 3,
     "solution": false,
     "task": false
    }
   },
   "outputs": [],
   "source": [
    "postings = word_counts.groupByKey().mapValues(reduce_word_counts)"
   ]
  },
  {
   "cell_type": "code",
   "execution_count": null,
   "metadata": {
    "deletable": false,
    "editable": false,
    "id": "6zbBgNIM46OX",
    "nbgrader": {
     "cell_type": "code",
     "checksum": "e852c4699f374fa118340664637d9d2c",
     "grade": true,
     "grade_id": "cell-2585ebc19d7fb56f",
     "locked": true,
     "points": 5,
     "schema_version": 3,
     "solution": false,
     "task": false
    }
   },
   "outputs": [],
   "source": [
    "## test reduce_word_count\n",
    "token, posting_list = postings.take(1)[0]\n",
    "assert type(token) == str\n",
    "assert type(posting_list) == list\n",
    "doc_id, tf = zip(*posting_list)\n",
    "assert type(doc_id[0]) == int\n",
    "assert type(tf[0]) == int\n",
    "assert np.diff(doc_id).min() > 0 \n",
    "assert np.min(tf) > 0 \n",
    "assert postings.count() == 153014"
   ]
  },
  {
   "cell_type": "markdown",
   "metadata": {
    "id": "3LiIJMOjWnsB"
   },
   "source": [
    "### Document frequency and filteration"
   ]
  },
  {
   "cell_type": "markdown",
   "metadata": {
    "id": "zrWoS-kHvhmM"
   },
   "source": [
    "Next, we will filter out rare words, words that appear in 10 or fewer documents (when working on the entire corpus, we will increase this threshold to a minimum of 50 documents). "
   ]
  },
  {
   "cell_type": "code",
   "execution_count": null,
   "metadata": {
    "deletable": false,
    "editable": false,
    "id": "EnrhMaR0digd",
    "nbgrader": {
     "cell_type": "code",
     "checksum": "e0deadc5799532d013e5f5a8c6cc8cdb",
     "grade": false,
     "grade_id": "cell-6c0501a9eb9b1059",
     "locked": true,
     "schema_version": 3,
     "solution": false,
     "task": false
    }
   },
   "outputs": [],
   "source": [
    "postings_filtered = postings.filter(lambda x: len(x[1])>10)"
   ]
  },
  {
   "cell_type": "markdown",
   "metadata": {
    "id": "-bclZ2cmFRjq"
   },
   "source": [
    "Now, we would like to calculate the df for each word.\n",
    "\n",
    "**YOUR TASK (5 POINTS):** Complete the implementation of `calculate_df` that takes a posting list RDD and returns an RDD where each element is a (token, df) pair. "
   ]
  },
  {
   "cell_type": "code",
   "execution_count": null,
   "metadata": {
    "deletable": false,
    "id": "J_-UoG2CGj4o",
    "nbgrader": {
     "cell_type": "code",
     "checksum": "795721521242afd06958773d307bc60a",
     "grade": false,
     "grade_id": "cell-6c7774baf403e8e7",
     "locked": false,
     "schema_version": 3,
     "solution": true,
     "task": false
    }
   },
   "outputs": [],
   "source": [
    "def calculate_df(postings):\n",
    "  ''' Takes a posting list RDD and calculate the df for each token.\n",
    "  Parameters:\n",
    "  -----------\n",
    "    postings: RDD\n",
    "      An RDD where each element is a (token, posting_list) pair.\n",
    "  Returns:\n",
    "  --------\n",
    "    RDD\n",
    "      An RDD where each element is a (token, df) pair.\n",
    "  '''\n",
    "  # YOUR CODE HERE\n",
    "  raise NotImplementedError()"
   ]
  },
  {
   "cell_type": "code",
   "execution_count": null,
   "metadata": {
    "deletable": false,
    "editable": false,
    "id": "ddVcByPLCaP_",
    "nbgrader": {
     "cell_type": "code",
     "checksum": "c720fdbf8b2eabc0e6f82d7a7ef48b8d",
     "grade": true,
     "grade_id": "cell-abfcf7244829f520",
     "locked": true,
     "points": 5,
     "schema_version": 3,
     "solution": false,
     "task": false
    }
   },
   "outputs": [],
   "source": [
    "# global statistics\n",
    "w2df = calculate_df(postings_filtered)\n",
    "\n",
    "# test calculate_df types\n",
    "token, df = w2df.take(1)[0]\n",
    "assert type(token) == str\n",
    "assert type(df) == int\n",
    "# test min/max df values\n",
    "# collectAsMap collects the results to the master node's memory as a dictionary.\n",
    "# we know it's not so big so this is okay.\n",
    "w2df_dict = w2df.collectAsMap()\n",
    "assert np.min(list(w2df_dict.values())) == 11\n",
    "assert np.max(list(w2df_dict.values())) == 819\n",
    "# test select words\n",
    "assert w2df_dict['first'] == 805\n",
    "assert w2df_dict['many'] == 670\n",
    "assert w2df_dict['used'] == 648"
   ]
  },
  {
   "cell_type": "markdown",
   "metadata": {
    "id": "5z1wMOiFTyGJ"
   },
   "source": [
    "## Partitioning and writing the index"
   ]
  },
  {
   "cell_type": "markdown",
   "metadata": {
    "id": "q3a2sC0WytzO"
   },
   "source": [
    "Now that we have the postings information we need to write it to disk. We would like to partition the tokens and posting lists into buckets so when we get a query, we know exactly in which bucket to look for its posting list. This can also help parallelize retrieval from the index if we have multiple machines answering queries. \n",
    "\n",
    "Here, you are asked to do this partitioning/bucketing through another round of map and reduce operations, where the last step should be to write out each bucket into a separate inverted index on disk. Use the staff-provided function of  `write_a_posting_list` implemented in inverted_index_colab.py for the InvertedIndex class. Eventually, this partitioning and writing process needs to return information about where each posting list is located (file name and offset) for a token. \n",
    "\n",
    "**YOUR TASK (20 POINTS):** Complete the implementation of `partition_postings_and_write` that partitions the posting list, writes out each bucket, and returns information about the location on disk of each posting list."
   ]
  },
  {
   "cell_type": "code",
   "execution_count": null,
   "metadata": {
    "deletable": false,
    "id": "MvZDJk0bu9V9",
    "nbgrader": {
     "cell_type": "code",
     "checksum": "a3aaab30238939a14be6a58056ed3000",
     "grade": false,
     "grade_id": "cell-e85a52ed1c96897a",
     "locked": false,
     "schema_version": 3,
     "solution": true,
     "task": false
    }
   },
   "outputs": [],
   "source": [
    "NUM_BUCKETS = 124\n",
    "def token2bucket_id(token):\n",
    "  return int(_hash(token),16) % NUM_BUCKETS\n",
    "\n",
    "def partition_postings_and_write(postings):\n",
    "  ''' A function that partitions the posting lists into buckets, writes out \n",
    "  all posting lists in a bucket to disk, and returns the posting locations for \n",
    "  each bucket. Partitioning should be done through the use of `token2bucket` \n",
    "  above. Writing to disk should use the function  `write_a_posting_list`, a \n",
    "  static method implemented in inverted_index_colab.py under the InvertedIndex \n",
    "  class. \n",
    "  Parameters:\n",
    "  -----------\n",
    "    postings: RDD\n",
    "      An RDD where each item is a (w, posting_list) pair.\n",
    "  Returns:\n",
    "  --------\n",
    "    RDD\n",
    "      An RDD where each item is a posting locations dictionary for a bucket. The\n",
    "      posting locations maintain a list for each word of file locations and \n",
    "      offsets its posting list was written to. See `write_a_posting_list` for \n",
    "      more details.\n",
    "  '''\n",
    "  # YOUR CODE HERE\n",
    "  raise NotImplementedError()"
   ]
  },
  {
   "cell_type": "markdown",
   "metadata": {
    "id": "fohEJFfR3QiE"
   },
   "source": [
    "The next cell uses the `collect` operator to aggregate the posting location information from the multiple buckets/indices into a single dictionary. We know in this case that the posting locations info is relatively small so this is not going to crash our master node. "
   ]
  },
  {
   "cell_type": "code",
   "execution_count": null,
   "metadata": {
    "colab": {
     "base_uri": "https://localhost:8080/",
     "height": 235
    },
    "deletable": false,
    "editable": false,
    "id": "vxCMgAlRDIac",
    "nbgrader": {
     "cell_type": "code",
     "checksum": "a22f7669520fe9435380b4226b14665e",
     "grade": true,
     "grade_id": "cell-708dc83ae80344eb",
     "locked": true,
     "points": 10,
     "schema_version": 3,
     "solution": false,
     "task": false
    },
    "outputId": "df528b35-e6c5-48a8-d009-3457306862cf"
   },
   "outputs": [],
   "source": [
    "# test partitioning for the different buckets (10 points)\n",
    "posting_locs_list = partition_postings_and_write(postings_filtered).collect()\n",
    "assert len(posting_locs_list) == 124\n",
    "assert len(list(Path('.').glob('*.bin'))) == 124\n",
    "pl_lens = [len(pl) for pl in posting_locs_list]\n",
    "assert np.max(pl_lens) == 141\n",
    "assert np.min(pl_lens) == 91 \n",
    "assert int(np.median(pl_lens)) == 116"
   ]
  },
  {
   "cell_type": "code",
   "execution_count": null,
   "metadata": {
    "deletable": false,
    "editable": false,
    "id": "C-h5dgtF-TeL",
    "nbgrader": {
     "cell_type": "code",
     "checksum": "99fd63277bc98ff17fdeff467d07b5dd",
     "grade": true,
     "grade_id": "cell-67eccca53a3c689c",
     "locked": true,
     "points": 5,
     "schema_version": 3,
     "solution": false,
     "task": false
    }
   },
   "outputs": [],
   "source": [
    "# merge the posting locations into a single dict and run more tests (5 points)\n",
    "super_posting_locs = defaultdict(list)\n",
    "for posting_loc in posting_locs_list:\n",
    "  for k, v in posting_loc.items():\n",
    "    super_posting_locs[k].extend(v)\n",
    "\n",
    "assert super_posting_locs['try'][0][0][:3] == '105'\n",
    "assert super_posting_locs['political'][0][0][:2] == '83'\n",
    "assert 'hi' not in super_posting_locs\n",
    "assert len(super_posting_locs) == 14524"
   ]
  },
  {
   "cell_type": "markdown",
   "metadata": {
    "id": "xBpxtFW7HeAT"
   },
   "source": [
    "Putting everything together (posting locations, df) and test that the resulting index is correct. "
   ]
  },
  {
   "cell_type": "code",
   "execution_count": null,
   "metadata": {
    "id": "VKrew8cUAyTz"
   },
   "outputs": [],
   "source": [
    "# Create inverted index instance\n",
    "inverted = InvertedIndex()\n",
    "# Adding the posting locations dictionary to the inverted index\n",
    "inverted.posting_locs = super_posting_locs\n",
    "# Add the token - df dictionary to the inverted index\n",
    "inverted.df = w2df_dict\n",
    "# write the global stats out\n",
    "inverted.write_index('.', 'index')"
   ]
  },
  {
   "cell_type": "code",
   "execution_count": null,
   "metadata": {
    "deletable": false,
    "editable": false,
    "id": "j2_qt2IPkxqz",
    "nbgrader": {
     "cell_type": "code",
     "checksum": "4cb2f6508a6447d5732697ca263194c6",
     "grade": false,
     "grade_id": "cell-2580b6e6179c1c3f",
     "locked": true,
     "schema_version": 3,
     "solution": false,
     "task": false
    }
   },
   "outputs": [],
   "source": [
    "TUPLE_SIZE = 6       \n",
    "TF_MASK = 2 ** 16 - 1 # Masking the 16 low bits of an integer\n",
    "from contextlib import closing\n",
    "\n",
    "def read_posting_list(inverted, w):\n",
    "  with closing(MultiFileReader()) as reader:\n",
    "    locs = inverted.posting_locs[w]\n",
    "    b = reader.read(locs, inverted.df[w] * TUPLE_SIZE)\n",
    "    posting_list = []\n",
    "    for i in range(inverted.df[w]):\n",
    "      doc_id = int.from_bytes(b[i*TUPLE_SIZE:i*TUPLE_SIZE+4], 'big')\n",
    "      tf = int.from_bytes(b[i*TUPLE_SIZE+4:(i+1)*TUPLE_SIZE], 'big')\n",
    "      posting_list.append((doc_id, tf))\n",
    "    return posting_list"
   ]
  },
  {
   "cell_type": "code",
   "execution_count": null,
   "metadata": {
    "colab": {
     "base_uri": "https://localhost:8080/",
     "height": 363
    },
    "deletable": false,
    "editable": false,
    "id": "VF6gfVFSIzM6",
    "nbgrader": {
     "cell_type": "code",
     "checksum": "c2a9d41d94ca9a2214a24f6794c23db7",
     "grade": true,
     "grade_id": "cell-7c94f4d8b12a93b5",
     "locked": true,
     "points": 5,
     "schema_version": 3,
     "solution": false,
     "task": false
    },
    "outputId": "0470f702-a7ed-47bd-d6b5-2bd1169b7905"
   },
   "outputs": [],
   "source": [
    "## test the final index\n",
    "pl = read_posting_list(inverted, 'clarity')\n",
    "assert pl[-3] == (2204, 2)\n",
    "assert len(pl) == 18"
   ]
  },
  {
   "cell_type": "markdown",
   "metadata": {
    "id": "I2oCcQwP5zS_"
   },
   "source": [
    "## PageRank"
   ]
  },
  {
   "cell_type": "markdown",
   "metadata": {
    "id": "U9gMGQIohFOz"
   },
   "source": [
    "In this section, your task is to compute PageRank for wiki articles using the anchor text we extracted from the MediaWiki markdown. Let's select the 'id' and 'anchor_text' fields into a new RDD:"
   ]
  },
  {
   "cell_type": "code",
   "execution_count": null,
   "metadata": {
    "id": "pUUdHGbCOr3C"
   },
   "outputs": [],
   "source": [
    "pages_links = spark.read.parquet(path).limit(1000).select(\"id\", \"anchor_text\").rdd"
   ]
  },
  {
   "cell_type": "markdown",
   "metadata": {
    "id": "IVhmHraRIHec"
   },
   "source": [
    "**YOUR TASK (20 POINTS):** Complete the implementation of `generate_graph`, which generates the graph of internal wikipedia links (wiki articles pointing to other wiki articles). Use PySpark to compute the vertices (pages) and edges (links) of the graph. Multiple links from page A to page B need to be represented by a single edge (edges are not weighted). You may use the built-in function `distinct` of the RDD object to identify distinct elements, but be mindful of its impact on computation time. "
   ]
  },
  {
   "cell_type": "code",
   "execution_count": null,
   "metadata": {
    "deletable": false,
    "id": "YFRogCnlHIGR",
    "nbgrader": {
     "cell_type": "code",
     "checksum": "69c22317d1ad51b321d3ef4f86a4cb4f",
     "grade": false,
     "grade_id": "cell-d0d3cd0a8e67f3d5",
     "locked": false,
     "schema_version": 3,
     "solution": true,
     "task": false
    }
   },
   "outputs": [],
   "source": [
    "def generate_graph(pages):\n",
    "  ''' Compute the directed graph generated by wiki links.\n",
    "  Parameters:\n",
    "  -----------\n",
    "    pages: RDD\n",
    "      An RDD where each row consists of one wikipedia articles with 'id' and \n",
    "      'anchor_text'.\n",
    "  Returns:\n",
    "  --------\n",
    "    edges: RDD\n",
    "      An RDD where each row represents an edge in the directed graph created by\n",
    "      the wikipedia links. The first entry should the source page id and the \n",
    "      second entry is the destination page id. No duplicates should be present. \n",
    "    vertices: RDD\n",
    "      An RDD where each row represents a vetrix (node) in the directed graph \n",
    "      created by the wikipedia links. No duplicates should be present. \n",
    "  '''\n",
    "  # YOUR CODE HERE\n",
    "  raise NotImplementedError()\n",
    "  return edges, vertices"
   ]
  },
  {
   "cell_type": "code",
   "execution_count": null,
   "metadata": {
    "deletable": false,
    "editable": false,
    "id": "ajIiUP8CCY51",
    "nbgrader": {
     "cell_type": "code",
     "checksum": "d6f4f7646555fa5aed797d8eae7af96c",
     "grade": true,
     "grade_id": "cell-bc0fda19ef37c287",
     "locked": true,
     "points": 10,
     "schema_version": 3,
     "solution": false,
     "task": false
    }
   },
   "outputs": [],
   "source": [
    "# test graph construction efficiency (10 points)\n",
    "t_start = time()\n",
    "# construct the graph for a small sample of (1000) pages\n",
    "edges, vertices = generate_graph(pages_links)\n",
    "# time the actual execution\n",
    "v_cnt, e_cnt = vertices.count(), edges.count()\n",
    "graph_const_time = time() - t_start\n",
    "# test that the implementation is efficient (<20 seconds)\n",
    "assert graph_const_time < 20"
   ]
  },
  {
   "cell_type": "code",
   "execution_count": null,
   "metadata": {
    "deletable": false,
    "editable": false,
    "id": "tb6ainuknU6z",
    "nbgrader": {
     "cell_type": "code",
     "checksum": "305f9d3d9c543fa6e4727ed281347252",
     "grade": true,
     "grade_id": "cell-c36cec1a8efaf00b",
     "locked": true,
     "points": 5,
     "schema_version": 3,
     "solution": false,
     "task": false
    }
   },
   "outputs": [],
   "source": [
    "# test that we get the right number of vertices (5 points)\n",
    "assert v_cnt == 114966"
   ]
  },
  {
   "cell_type": "code",
   "execution_count": null,
   "metadata": {
    "deletable": false,
    "editable": false,
    "id": "ruKfLiFXnqcY",
    "nbgrader": {
     "cell_type": "code",
     "checksum": "91440d59c7f00895e79477cac7fed8f0",
     "grade": true,
     "grade_id": "cell-3d7fccf8d029f0ff",
     "locked": true,
     "points": 5,
     "schema_version": 3,
     "solution": false,
     "task": false
    }
   },
   "outputs": [],
   "source": [
    "# test that we get the right number of edges (5 points)\n",
    "assert e_cnt == 183727"
   ]
  },
  {
   "cell_type": "markdown",
   "metadata": {
    "id": "yAx3CmIqOcLn"
   },
   "source": [
    "Let's compute PageRank in a distributed fashion (using PySpark's GraphFrame package) and show the top 20 pages."
   ]
  },
  {
   "cell_type": "code",
   "execution_count": null,
   "metadata": {
    "colab": {
     "base_uri": "https://localhost:8080/",
     "height": 235
    },
    "id": "XQl-tJSFNV_g",
    "outputId": "e9289897-b946-4d93-a163-5e9208eff948"
   },
   "outputs": [],
   "source": [
    "edgesDF = edges.toDF(['src', 'dst']).repartition(4, 'src')\n",
    "verticesDF = vertices.toDF(['id']).repartition(4, 'id')\n",
    "g = GraphFrame(verticesDF, edgesDF)\n",
    "pr_results = g.pageRank(resetProbability=0.15, maxIter=10)\n",
    "pr = pr_results.vertices.select(\"id\", \"pagerank\")\n",
    "pr = pr.sort(col('pagerank').desc())\n",
    "pr.repartition(1).write.csv('pr', compression=\"gzip\")\n",
    "pr.show()"
   ]
  },
  {
   "cell_type": "markdown",
   "metadata": {
    "id": "x0iXbQIstzvW"
   },
   "source": [
    "**YOUR TASK (5 POINTS)**: Complete the implmentation of `get_top_pr_page_titles` to return the titles a few of the top pages as ranked by PageRank and printed above. To get the title for each page id listed above, navigate to the url https://en.wikipedia.org/?curid=wiki_id_here by replacing the `wiki_id_here` part with the page id. For example, if you navigate to https://en.wikipedia.org/?curid=25507 for the page with id 25507 you'd see that its title is 'Roman Empire'."
   ]
  },
  {
   "cell_type": "code",
   "execution_count": null,
   "metadata": {
    "deletable": false,
    "id": "vhZVTSpnxQaj",
    "nbgrader": {
     "cell_type": "code",
     "checksum": "f1bccebc72f575bb4d959d9d0a0103f0",
     "grade": false,
     "grade_id": "cell-dd6c6763a00243fb",
     "locked": false,
     "schema_version": 3,
     "solution": true,
     "task": false
    }
   },
   "outputs": [],
   "source": [
    "def get_top_pr_page_titles():\n",
    "  ''' Returns the title of the first, fourth, and fifth pages as ranked about \n",
    "      by PageRank.\n",
    "  Returns:\n",
    "  --------\n",
    "    list of three strings.\n",
    "  '''\n",
    "  # YOUR CODE HERE\n",
    "  raise NotImplementedError()"
   ]
  },
  {
   "cell_type": "code",
   "execution_count": null,
   "metadata": {
    "deletable": false,
    "editable": false,
    "id": "nli6ETKzyPn6",
    "nbgrader": {
     "cell_type": "code",
     "checksum": "1436932508342f05c9317545700b8757",
     "grade": true,
     "grade_id": "cell-cbb125817c8a2b61",
     "locked": true,
     "points": 5,
     "schema_version": 3,
     "solution": false,
     "task": false
    }
   },
   "outputs": [],
   "source": [
    "assert [_hash(x.lower()) for x in get_top_pr_page_titles()] == \\\n",
    "  ['52bb7dbc02', '3e920ea944', '3d007b19ee']"
   ]
  },
  {
   "cell_type": "markdown",
   "metadata": {
    "id": "d4V85PGkP3We"
   },
   "source": [
    "Do the top ranked pages make sense to you? Why do you think these pages received such a high scores from PageRank?"
   ]
  },
  {
   "cell_type": "markdown",
   "metadata": {
    "id": "OkDnmqAur3Ph"
   },
   "source": [
    "# GCP\n",
    "\n",
    "The second part of the assignment involves running index creation in GCP and reporting results in this notebook. Follow [this](https://docs.google.com/document/d/1HTZVDMQ1gyeq8dlyzmomOkxjSo1Td76PsCGlFkQohps/edit?usp=sharing) step-by-step guide in order to set up your cluster environment on GCP so you can execute pyspark code on a cluster of machines. "
   ]
  },
  {
   "cell_type": "markdown",
   "metadata": {
    "id": "Tq-ilXaFLFVh"
   },
   "source": [
    "The code to the GCP notebook is in the moodle under assignment 3. You will have to copy the code you completed here in the relevant sections.\n",
    "\n",
    "In the current notebook we used MapReduce to create the index for only one wiki dump. Using GCP, we will be able to create the index on the entire english wikipedia. The GCP part of this assignment will be the first time we will work with the entire corpus. You will need to follow the notebook, complete the code as you did here (the same code you completed in this notebook can be used in the GCP notebook). \n",
    "At the end of the GCP assignment you will have questions that you will need to answer - this are not the tests we used so far, so you should follow the instructions in the notebook."
   ]
  }
 ],
 "metadata": {
  "colab": {
   "collapsed_sections": [],
   "name": "assignment_3_fin.ipynb",
   "provenance": []
  },
  "kernelspec": {
   "display_name": "Python 3",
   "language": "python",
   "name": "python3"
  },
  "language_info": {
   "codemirror_mode": {
    "name": "ipython",
    "version": 3
   },
   "file_extension": ".py",
   "mimetype": "text/x-python",
   "name": "python",
   "nbconvert_exporter": "python",
   "pygments_lexer": "ipython3",
   "version": "3.7.6"
  }
 },
 "nbformat": 4,
 "nbformat_minor": 0
}
