{
  "nbformat": 4,
  "nbformat_minor": 0,
  "metadata": {
    "colab": {
      "name": "ColabTester.ipynb",
      "provenance": [],
      "collapsed_sections": []
    },
    "kernelspec": {
      "name": "python3",
      "display_name": "Python 3"
    },
    "language_info": {
      "name": "python"
    }
  },
  "cells": [
    {
      "cell_type": "code",
      "execution_count": 1,
      "metadata": {
        "id": "HcWYoY9H8sHW"
      },
      "outputs": [],
      "source": [
        "import json\n",
        "\n",
        "with open('queries_train.json', 'rt') as f:\n",
        "  queries = json.load(f)"
      ]
    },
    {
      "cell_type": "code",
      "source": [
        "def average_precision(true_list, predicted_list, k=40):\n",
        "    true_set = frozenset(true_list)\n",
        "    predicted_list = predicted_list[:k]\n",
        "    precisions = []\n",
        "    for i,doc_id in enumerate(predicted_list):        \n",
        "        if doc_id in true_set:\n",
        "            prec = (len(precisions)+1) / (i+1)            \n",
        "            precisions.append(prec)\n",
        "    if len(precisions) == 0:\n",
        "        return 0.0\n",
        "    return round(sum(precisions)/len(precisions),3)"
      ],
      "metadata": {
        "id": "m-Dfe68i8y61"
      },
      "execution_count": 2,
      "outputs": []
    },
    {
      "cell_type": "code",
      "source": [
        "import requests\n",
        "from time import time\n",
        "# url = 'http://35.232.59.3:8080'\n",
        "# place the domain you got from ngrok or GCP IP below. \n",
        "url = 'http://feaa-34-105-121-176.ngrok.io'\n",
        "qs_res = []\n",
        "for q, true_wids in queries.items():\n",
        "  duration, ap = None, None\n",
        "  t_start = time()\n",
        "  \n",
        "  try:\n",
        "    res = requests.get(url + '/search', {'query': q}, timeout=35)\n",
        "    duration = time() - t_start\n",
        "    if res.status_code == 200:\n",
        "      pred_wids, _ = zip(*res.json())\n",
        "      print(pred_wids)\n",
        "      ap = average_precision(true_wids, pred_wids)\n",
        "  except Exception as e:\n",
        "    print(e)\n",
        "  \n",
        "  qs_res.append((q, duration, ap))"
      ],
      "metadata": {
        "id": "YlUQAjgM81T_"
      },
      "execution_count": 24,
      "outputs": []
    },
    {
      "cell_type": "code",
      "source": [
        "qs_res"
      ],
      "metadata": {
        "colab": {
          "base_uri": "https://localhost:8080/"
        },
        "id": "MTdOTN1D_tuI",
        "outputId": "8086cb5c-1ad0-4be5-e3b1-fd3e734b1aa9"
      },
      "execution_count": 17,
      "outputs": [
        {
          "output_type": "execute_result",
          "data": {
            "text/plain": [
              "[('python', 0.11879944801330566, None),\n",
              " ('data science', 0.1152503490447998, None),\n",
              " ('migraine', 0.10802340507507324, None),\n",
              " ('chocolate', 0.110382080078125, None),\n",
              " ('how to make pasta', 0.10886406898498535, None),\n",
              " ('Does pasta have preservatives?', 0.11130023002624512, None),\n",
              " ('how google works', 0.10828185081481934, None),\n",
              " ('what is information retrieval', 0.10874414443969727, None),\n",
              " ('NBA', 0.10987186431884766, None),\n",
              " ('yoga', 0.1110694408416748, None),\n",
              " ('how to not kill plants', 0.1109015941619873, None),\n",
              " ('masks', 0.11082816123962402, None),\n",
              " ('black friday', 0.10809731483459473, None),\n",
              " ('why do men have nipples', 0.10950160026550293, None),\n",
              " ('rubber duck', 0.11035513877868652, None),\n",
              " ('michelin', 0.11027216911315918, None),\n",
              " ('what to watch', 0.1127479076385498, None),\n",
              " ('best marvel movie', 0.10833930969238281, None),\n",
              " ('how tall is the eiffel tower', 0.10954594612121582, None),\n",
              " ('where does vanilla flavoring come from', 0.11310529708862305, None),\n",
              " ('best ice cream flavour', 0.11480045318603516, None),\n",
              " ('how to tie a tie', 0.11154961585998535, None),\n",
              " ('how to earn money online', 0.10884380340576172, None),\n",
              " ('what is critical race theory', 0.11447310447692871, None),\n",
              " ('what space movie was made in 1992', 0.11177897453308105, None),\n",
              " ('how to vote', 0.11293482780456543, None),\n",
              " ('google trends', 0.11230182647705078, None),\n",
              " ('dim sum', 0.11213421821594238, None),\n",
              " ('ted', 0.10836124420166016, None),\n",
              " ('fairy tale', 0.11008071899414062, None)]"
            ]
          },
          "metadata": {},
          "execution_count": 17
        }
      ]
    }
  ]
}