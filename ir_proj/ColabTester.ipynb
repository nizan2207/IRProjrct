{
  "nbformat": 4,
  "nbformat_minor": 0,
  "metadata": {
    "colab": {
      "name": "ColabTester.ipynb",
      "provenance": [],
      "collapsed_sections": []
    },
    "kernelspec": {
      "name": "python3",
      "display_name": "Python 3"
    },
    "language_info": {
      "name": "python"
    }
  },
  "cells": [
    {
      "cell_type": "code",
      "execution_count": 2,
      "metadata": {
        "id": "HcWYoY9H8sHW"
      },
      "outputs": [],
      "source": [
        "import json\n",
        "\n",
        "with open('queries_train.json', 'rt') as f:\n",
        "  queries = json.load(f)"
      ]
    },
    {
      "cell_type": "code",
      "source": [
        "def average_precision(true_list, predicted_list, k=40):\n",
        "    true_set = frozenset(true_list)\n",
        "    predicted_list = predicted_list[:k]\n",
        "    precisions = []\n",
        "    for i,doc_id in enumerate(predicted_list):        \n",
        "        if doc_id in true_set:\n",
        "            prec = (len(precisions)+1) / (i+1)            \n",
        "            precisions.append(prec)\n",
        "    if len(precisions) == 0:\n",
        "        return 0.0\n",
        "    return round(sum(precisions)/len(precisions),3)"
      ],
      "metadata": {
        "id": "m-Dfe68i8y61"
      },
      "execution_count": 3,
      "outputs": []
    },
    {
      "cell_type": "code",
      "source": [
        "# Testing Functions\n",
        "import numpy as np\n",
        "def intersection(l1,l2):      \n",
        "    return list(set(l1)&set(l2))\n",
        "\n",
        "def recall_at_k(true_list,predicted_list,k=40):\n",
        "    return round(len(intersection(true_list, predicted_list[:k]))/len(true_list), 3)\n",
        "\n",
        "def precision_at_k(true_list,predicted_list,k=40):    \n",
        "    return  round(len(intersection(true_list, predicted_list[:k]))/k, 3)\n",
        "\n",
        "def r_precision(true_list,predicted_list):\n",
        "    r = len(true_list)\n",
        "    k_prec = len(intersection(true_list,predicted_list[:r]))\n",
        "    return round(k_prec/r, 3)\n",
        "\n",
        "def f_score(true_list,predicted_list,k=40):\n",
        "    recall = recall_at_k(true_list, predicted_list, k)\n",
        "    precision = precision_at_k(true_list, predicted_list, k)\n",
        "    \n",
        "    if recall == 0 and precision == 0:\n",
        "      return 0.0\n",
        "\n",
        "    return round(2*precision*recall/(recall + precision), 3)\n",
        "\n",
        "def avg_eval_speed(res):\n",
        "  return np.mean([tup[1] for tup in res])\n",
        "\n",
        "def map_at_40(res):\n",
        "  my_count = 0\n",
        "  my_sum = 0\n",
        "  for i in res:\n",
        "    if i[2] is not None:\n",
        "      my_sum += i[2]\n",
        "    my_count +=1 \n",
        "  return my_sum/my_count\n",
        "\n",
        "def eval(rec_lst, f_lst, r_lst, res):\n",
        "  print(\"recall@k: \", np.mean(rec_lst))\n",
        "  print(\"f-score: \", np.mean(f_lst))\n",
        "  print(\"r-precision: \", np.mean(r_lst))\n",
        "  print(\"avg_eval_speed: \", avg_eval_speed(res))\n",
        "  print(\"Map@k: \", map_at_40(res))"
      ],
      "metadata": {
        "id": "aEYf0jalRPIJ"
      },
      "execution_count": 41,
      "outputs": []
    },
    {
      "cell_type": "code",
      "source": [
        "import requests\n",
        "from time import time\n",
        "# url = 'http://35.232.59.3:8080'\n",
        "# place the domain you got from ngrok or GCP IP below. \n",
        "url = 'http://e0e7-34-72-108-240.ngrok.io'\n",
        "qs_res, rec_lst, r_prec, f_scores= [], [], [], []\n",
        "for q, true_wids in queries.items():\n",
        "  duration, ap = None, None\n",
        "  t_start = time()\n",
        "  res = requests.get(url + '/search', {'query': q}, timeout=35)\n",
        "  duration = time() - t_start\n",
        "  if res.status_code == 200:\n",
        "    pred_wids, _ = zip(*res.json())\n",
        "    # calculate evalueation measures\n",
        "    ap = average_precision(true_wids, pred_wids)\n",
        "    rec_lst.append(recall_at_k(true_wids, pred_wids))\n",
        "    r_prec.append(r_precision(true_wids, pred_wids))\n",
        "    f_scores.append(f_score(true_wids, pred_wids))\n",
        "  qs_res.append((q, duration, ap))\n"
      ],
      "metadata": {
        "id": "YlUQAjgM81T_"
      },
      "execution_count": 60,
      "outputs": []
    },
    {
      "cell_type": "code",
      "source": [
        "qs_res"
      ],
      "metadata": {
        "colab": {
          "base_uri": "https://localhost:8080/"
        },
        "id": "MTdOTN1D_tuI",
        "outputId": "9d0e4f7b-9c45-4aac-c7b1-8bac3bb32099"
      },
      "execution_count": 61,
      "outputs": [
        {
          "output_type": "execute_result",
          "data": {
            "text/plain": [
              "[('python', 0.388350248336792, 0.665),\n",
              " ('data science', 2.7326111793518066, 0.198),\n",
              " ('migraine', 0.10274600982666016, 0.897),\n",
              " ('chocolate', 0.3867337703704834, 0.411),\n",
              " ('how to make pasta', 2.622701644897461, 0.617),\n",
              " ('Does pasta have preservatives?', 0.12704777717590332, 0.203),\n",
              " ('how google works', 2.8306946754455566, 0.649),\n",
              " ('what is information retrieval', 2.179422378540039, 0.573),\n",
              " ('NBA', 0.35607194900512695, 0.376),\n",
              " ('yoga', 0.1344144344329834, 0.667),\n",
              " ('how to not kill plants', 1.7413597106933594, 0.136),\n",
              " ('masks', 0.33974552154541016, 0.566),\n",
              " ('black friday', 2.3144137859344482, 0.198),\n",
              " ('why do men have nipples', 1.8068804740905762, 0.705),\n",
              " ('rubber duck', 0.6931555271148682, 0.112),\n",
              " ('michelin', 0.29958176612854004, 0.368),\n",
              " ('what to watch', 0.6023693084716797, 0.196),\n",
              " ('best marvel movie', 4.848108291625977, 0.343),\n",
              " ('how tall is the eiffel tower', 2.2207260131835938, 0.664),\n",
              " ('where does vanilla flavoring come from', 2.1208407878875732, 0.598),\n",
              " ('best ice cream flavour', 4.382420539855957, 0.335),\n",
              " ('how to tie a tie', 0.8828244209289551, 0.307),\n",
              " ('how to earn money online', 2.518272638320923, 0.038),\n",
              " ('what is critical race theory', 2.9454987049102783, 0.045),\n",
              " ('what space movie was made in 1992', 9.780338048934937, 0.0),\n",
              " ('how to vote', 0.7341625690460205, 0.27),\n",
              " ('google trends', 0.3454005718231201, 0.33),\n",
              " ('dim sum', 0.44170355796813965, 0.397),\n",
              " ('ted', 1.0795965194702148, 0.428),\n",
              " ('fairy tale', 0.5048584938049316, 0.223)]"
            ]
          },
          "metadata": {},
          "execution_count": 61
        }
      ]
    },
    {
      "cell_type": "code",
      "source": [
        "# Evaluate\n",
        "eval(rec_lst, r_prec, f_scores, qs_res)"
      ],
      "metadata": {
        "colab": {
          "base_uri": "https://localhost:8080/"
        },
        "id": "aJNv3l7XCThc",
        "outputId": "9c505d43-40e1-4568-8173-f27dd2914f57"
      },
      "execution_count": 55,
      "outputs": [
        {
          "output_type": "stream",
          "name": "stdout",
          "text": [
            "recall@k:  0.13993333333333335\n",
            "f-score:  0.21473333333333336\n",
            "r-precision:  0.18720000000000006\n",
            "avg_eval_speed:  1.4596919695536295\n",
            "Map@k:  0.38383333333333347\n"
          ]
        }
      ]
    }
  ]
}