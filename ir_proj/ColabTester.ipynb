{
  "nbformat": 4,
  "nbformat_minor": 0,
  "metadata": {
    "colab": {
      "name": "ColabTester.ipynb",
      "provenance": [],
      "collapsed_sections": []
    },
    "kernelspec": {
      "name": "python3",
      "display_name": "Python 3"
    },
    "language_info": {
      "name": "python"
    }
  },
  "cells": [
    {
      "cell_type": "code",
      "execution_count": 1,
      "metadata": {
        "id": "HcWYoY9H8sHW"
      },
      "outputs": [],
      "source": [
        "import json\n",
        "\n",
        "with open('queries_train.json', 'rt') as f:\n",
        "  queries = json.load(f)"
      ]
    },
    {
      "cell_type": "code",
      "source": [
        "def average_precision(true_list, predicted_list, k=40):\n",
        "    true_set = frozenset(true_list)\n",
        "    predicted_list = predicted_list[:k]\n",
        "    precisions = []\n",
        "    for i,doc_id in enumerate(predicted_list):        \n",
        "        if doc_id in true_set:\n",
        "            prec = (len(precisions)+1) / (i+1)            \n",
        "            precisions.append(prec)\n",
        "    if len(precisions) == 0:\n",
        "        return 0.0\n",
        "    return round(sum(precisions)/len(precisions),3)"
      ],
      "metadata": {
        "id": "m-Dfe68i8y61"
      },
      "execution_count": 2,
      "outputs": []
    },
    {
      "cell_type": "code",
      "source": [
        "import requests\n",
        "from time import time\n",
        "# url = 'http://35.232.59.3:8080'\n",
        "# place the domain you got from ngrok or GCP IP below. \n",
        "url = 'http://c9dc-35-233-133-23.ngrok.io'\n",
        "qs_res = []\n",
        "for q, true_wids in queries.items():\n",
        "  duration, ap = None, None\n",
        "  t_start = time()\n",
        "  try:\n",
        "    res = requests.get(url + '/search', {'query': q}, timeout=35)\n",
        "    duration = time() - t_start\n",
        "    if res.status_code == 200:\n",
        "      pred_wids, _ = zip(*res.json())\n",
        "      ap = average_precision(true_wids, pred_wids)\n",
        "  except Exception as e:\n",
        "    print(e)\n",
        "  \n",
        "  qs_res.append((q, duration, ap))\n"
      ],
      "metadata": {
        "id": "YlUQAjgM81T_"
      },
      "execution_count": 3,
      "outputs": []
    },
    {
      "cell_type": "code",
      "source": [
        "qs_res"
      ],
      "metadata": {
        "colab": {
          "base_uri": "https://localhost:8080/"
        },
        "id": "MTdOTN1D_tuI",
        "outputId": "2b26252f-9fba-4be4-f6ff-c92b9136cb64"
      },
      "execution_count": 4,
      "outputs": [
        {
          "output_type": "execute_result",
          "data": {
            "text/plain": [
              "[('python', 0.2996399402618408, 0.665),\n",
              " ('data science', 2.507992744445801, 0.198),\n",
              " ('migraine', 0.20551466941833496, 0.897),\n",
              " ('chocolate', 0.2706596851348877, 0.411),\n",
              " ('how to make pasta', 2.3837356567382812, 0.617),\n",
              " ('Does pasta have preservatives?', 0.2652149200439453, 0.203),\n",
              " ('how google works', 2.904188871383667, 0.649),\n",
              " ('what is information retrieval', 1.6476118564605713, 0.573),\n",
              " ('NBA', 0.29285407066345215, 0.376),\n",
              " ('yoga', 0.2238163948059082, 0.667),\n",
              " ('how to not kill plants', 1.1772675514221191, 0.136),\n",
              " ('masks', 0.23820805549621582, 0.566),\n",
              " ('black friday', 2.6198511123657227, 0.198),\n",
              " ('why do men have nipples', 1.6367824077606201, 0.705),\n",
              " ('rubber duck', 0.33815550804138184, 0.112),\n",
              " ('michelin', 0.2198193073272705, 0.368),\n",
              " ('what to watch', 0.4743945598602295, 0.196),\n",
              " ('best marvel movie', 4.260483503341675, 0.343),\n",
              " ('how tall is the eiffel tower', 1.1527485847473145, 0.664),\n",
              " ('where does vanilla flavoring come from', 1.6856021881103516, 0.598),\n",
              " ('best ice cream flavour', 4.224848985671997, 0.335),\n",
              " ('how to tie a tie', 0.49022579193115234, 0.307),\n",
              " ('how to earn money online', 2.097134590148926, 0.038),\n",
              " ('what is critical race theory', 2.617321014404297, 0.045),\n",
              " ('what space movie was made in 1992', 9.418680667877197, 0.0),\n",
              " ('how to vote', 0.8546755313873291, 0.27),\n",
              " ('google trends', 0.4325270652770996, 0.33),\n",
              " ('dim sum', 0.39324951171875, 0.397),\n",
              " ('ted', 0.3561882972717285, 0.428),\n",
              " ('fairy tale', 0.6493093967437744, 0.223)]"
            ]
          },
          "metadata": {},
          "execution_count": 4
        }
      ]
    },
    {
      "cell_type": "code",
      "source": [
        "count = 0\n",
        "sum = 0\n",
        "for i in qs_res:\n",
        "  sum += i[2]\n",
        "  count +=1 \n",
        "print(sum/count)"
      ],
      "metadata": {
        "colab": {
          "base_uri": "https://localhost:8080/"
        },
        "id": "aJNv3l7XCThc",
        "outputId": "c6aea85f-5055-448b-c49b-c37bc9a1bd55"
      },
      "execution_count": 5,
      "outputs": [
        {
          "output_type": "stream",
          "name": "stdout",
          "text": [
            "0.38383333333333347\n"
          ]
        }
      ]
    }
  ]
}