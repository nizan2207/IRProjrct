{
  "cells": [
    {
      "cell_type": "markdown",
      "metadata": {
        "id": "hWgiQS0zkWJ5"
      },
      "source": [
        "***Important*** DO NOT CLEAR THE OUTPUT OF THIS NOTEBOOK AFTER EXECUTION!!!"
      ],
      "id": "hWgiQS0zkWJ5"
    },
    {
      "cell_type": "code",
      "execution_count": null,
      "metadata": {
        "id": "c0ccf76b",
        "outputId": "cf88b954-f39a-412a-d87e-660833e735b6"
      },
      "outputs": [
        {
          "name": "stdout",
          "output_type": "stream",
          "text": [
            "NAME            PLATFORM  WORKER_COUNT  PREEMPTIBLE_WORKER_COUNT  STATUS   ZONE           SCHEDULED_DELETE\r\n",
            "assign3cluster  GCE       4                                       RUNNING  us-central1-a\r\n"
          ]
        }
      ],
      "source": [
        "# if the following command generates an error, you probably didn't enable \n",
        "# the cluster security option \"Allow API access to all Google Cloud services\"\n",
        "# under Manage Security → Project Access when setting up the cluster\n",
        "!gcloud dataproc clusters list --region us-central1"
      ],
      "id": "c0ccf76b"
    },
    {
      "cell_type": "markdown",
      "metadata": {
        "id": "01ec9fd3"
      },
      "source": [
        "# Imports & Setup"
      ],
      "id": "01ec9fd3"
    },
    {
      "cell_type": "code",
      "execution_count": null,
      "metadata": {
        "id": "32b3ec57",
        "outputId": "fc0e315d-21e9-411d-d69c-5b97e4e5d629"
      },
      "outputs": [
        {
          "name": "stdout",
          "output_type": "stream",
          "text": [
            "\u001b[33mWARNING: Running pip as the 'root' user can result in broken permissions and conflicting behaviour with the system package manager. It is recommended to use a virtual environment instead: https://pip.pypa.io/warnings/venv\u001b[0m\n",
            "\u001b[33mWARNING: Running pip as the 'root' user can result in broken permissions and conflicting behaviour with the system package manager. It is recommended to use a virtual environment instead: https://pip.pypa.io/warnings/venv\u001b[0m\n"
          ]
        }
      ],
      "source": [
        "!pip install -q google-cloud-storage==1.43.0\n",
        "!pip install -q graphframes"
      ],
      "id": "32b3ec57"
    },
    {
      "cell_type": "code",
      "execution_count": null,
      "metadata": {
        "id": "5609143b",
        "outputId": "a24aa24b-aa75-4823-83ca-1d7deef0f0de"
      },
      "outputs": [
        {
          "name": "stderr",
          "output_type": "stream",
          "text": [
            "[nltk_data] Downloading package stopwords to /root/nltk_data...\n",
            "[nltk_data]   Unzipping corpora/stopwords.zip.\n"
          ]
        },
        {
          "data": {
            "text/plain": [
              "True"
            ]
          },
          "execution_count": 3,
          "metadata": {},
          "output_type": "execute_result"
        }
      ],
      "source": [
        "import pyspark\n",
        "import sys\n",
        "from collections import Counter, OrderedDict, defaultdict\n",
        "import itertools\n",
        "from itertools import islice, count, groupby\n",
        "import pandas as pd\n",
        "import os\n",
        "import re\n",
        "from operator import itemgetter\n",
        "import nltk\n",
        "from nltk.stem.porter import *\n",
        "from nltk.corpus import stopwords\n",
        "from time import time\n",
        "from pathlib import Path\n",
        "import pickle\n",
        "import pandas as pd\n",
        "from google.cloud import storage\n",
        "\n",
        "import hashlib\n",
        "def _hash(s):\n",
        "    return hashlib.blake2b(bytes(s, encoding='utf8'), digest_size=5).hexdigest()\n",
        "\n",
        "nltk.download('stopwords')"
      ],
      "id": "5609143b"
    },
    {
      "cell_type": "code",
      "execution_count": null,
      "metadata": {
        "id": "b10cc999",
        "outputId": "8f93a7ec-71e0-49c1-fc81-9af385849a90"
      },
      "outputs": [
        {
          "name": "stdout",
          "output_type": "stream",
          "text": [
            "-rw-r--r-- 1 root root 247882 Dec  9 11:31 /usr/lib/spark/jars/graphframes-0.8.2-spark3.1-s_2.12.jar\r\n"
          ]
        }
      ],
      "source": [
        "# if nothing prints here you forgot to include the initialization script when starting the cluster\n",
        "!ls -l /usr/lib/spark/jars/graph*"
      ],
      "id": "b10cc999"
    },
    {
      "cell_type": "code",
      "execution_count": null,
      "metadata": {
        "id": "d3f86f11"
      },
      "outputs": [],
      "source": [
        "from pyspark.sql import *\n",
        "from pyspark.sql.functions import *\n",
        "from pyspark import SparkContext, SparkConf, SparkFiles\n",
        "from pyspark.sql import SQLContext\n",
        "from graphframes import *"
      ],
      "id": "d3f86f11"
    },
    {
      "cell_type": "code",
      "execution_count": null,
      "metadata": {
        "id": "5be6dc2a",
        "outputId": "07b4e22b-a252-42fb-fe46-d9050e4e7ca8",
        "scrolled": true
      },
      "outputs": [
        {
          "data": {
            "text/html": [
              "\n",
              "            <div>\n",
              "                <p><b>SparkSession - hive</b></p>\n",
              "                \n",
              "        <div>\n",
              "            <p><b>SparkContext</b></p>\n",
              "\n",
              "            <p><a href=\"http://assign3cluster-m.c.assignment3-334317.internal:45863\">Spark UI</a></p>\n",
              "\n",
              "            <dl>\n",
              "              <dt>Version</dt>\n",
              "                <dd><code>v3.1.2</code></dd>\n",
              "              <dt>Master</dt>\n",
              "                <dd><code>yarn</code></dd>\n",
              "              <dt>AppName</dt>\n",
              "                <dd><code>PySparkShell</code></dd>\n",
              "            </dl>\n",
              "        </div>\n",
              "        \n",
              "            </div>\n",
              "        "
            ],
            "text/plain": [
              "<pyspark.sql.session.SparkSession at 0x7f7dc1c7f400>"
            ]
          },
          "execution_count": 6,
          "metadata": {},
          "output_type": "execute_result"
        }
      ],
      "source": [
        "spark"
      ],
      "id": "5be6dc2a"
    },
    {
      "cell_type": "code",
      "execution_count": null,
      "metadata": {
        "id": "7adc1bf5",
        "outputId": "76b972e2-6598-44c4-eab5-9f214d823fd6"
      },
      "outputs": [
        {
          "name": "stdout",
          "output_type": "stream",
          "text": [
            "graphframes.sh\n"
          ]
        }
      ],
      "source": [
        "# Put your bucket name below and make sure you can access it without an error\n",
        "bucket_name = 'assignment3_206655839' \n",
        "client = storage.Client()\n",
        "blobs = client.list_blobs(bucket_name)\n",
        "for b in blobs:\n",
        "    print(b.name)"
      ],
      "id": "7adc1bf5"
    },
    {
      "cell_type": "markdown",
      "metadata": {
        "id": "13ZX4ervQkku"
      },
      "source": [
        "***GCP setup is complete!*** If you got here without any errors you've earned 10 out of the 35 points of this part."
      ],
      "id": "13ZX4ervQkku"
    },
    {
      "cell_type": "markdown",
      "metadata": {
        "id": "c0b0f215"
      },
      "source": [
        "# Building an inverted index"
      ],
      "id": "c0b0f215"
    },
    {
      "cell_type": "markdown",
      "metadata": {
        "id": "02f81c72"
      },
      "source": [
        "Here, we read the entire corpus to an rdd, directly from Google Storage Bucket and use your code from Colab to construct an inverted index."
      ],
      "id": "02f81c72"
    },
    {
      "cell_type": "code",
      "execution_count": null,
      "metadata": {
        "id": "b1af29c9",
        "scrolled": false,
        "outputId": "28376861-8a9e-4b71-faac-40119b8626b9"
      },
      "outputs": [
        {
          "name": "stderr",
          "output_type": "stream",
          "text": [
            "                                                                                \r"
          ]
        }
      ],
      "source": [
        "full_path = \"gs://wikidata_preprocessed/*\"\n",
        "parquetFile = spark.read.parquet(full_path)\n",
        "doc_text_pairs = parquetFile.select(\"text\", \"id\").rdd"
      ],
      "id": "b1af29c9"
    },
    {
      "cell_type": "markdown",
      "metadata": {
        "id": "f6375562"
      },
      "source": [
        "We will count the number of pages to make sure we are looking at the entire corpus. The number of pages should be more than 6M"
      ],
      "id": "f6375562"
    },
    {
      "cell_type": "code",
      "execution_count": null,
      "metadata": {
        "id": "d89a7a9a",
        "outputId": "84a230ce-d892-4d44-fa90-2bf3b0e2765e"
      },
      "outputs": [
        {
          "name": "stderr",
          "output_type": "stream",
          "text": [
            "                                                                                \r"
          ]
        },
        {
          "data": {
            "text/plain": [
              "6348910"
            ]
          },
          "execution_count": 9,
          "metadata": {},
          "output_type": "execute_result"
        }
      ],
      "source": [
        "# Count number of wiki pages\n",
        "parquetFile.count()"
      ],
      "id": "d89a7a9a"
    },
    {
      "cell_type": "markdown",
      "metadata": {
        "id": "gaaIoFViXyTg"
      },
      "source": [
        "Let's import the inverted index module. Note that you need to use the staff-provided version called `inverted_index_gcp.py`, which contains helper functions to writing and reading the posting files similar to the Colab version, but with writing done to a Google Cloud Storage bucket."
      ],
      "id": "gaaIoFViXyTg"
    },
    {
      "cell_type": "code",
      "execution_count": null,
      "metadata": {
        "id": "04371c88",
        "outputId": "327fe81b-80f4-4b3a-8894-e74720d92e35"
      },
      "outputs": [
        {
          "name": "stdout",
          "output_type": "stream",
          "text": [
            "inverted_index_gcp.py\r\n"
          ]
        }
      ],
      "source": [
        "# if nothing prints here you forgot to upload the file inverted_index_gcp.py to the home dir\n",
        "%cd -q /home/dataproc\n",
        "!ls inverted_index_gcp.py"
      ],
      "id": "04371c88"
    },
    {
      "cell_type": "code",
      "execution_count": null,
      "metadata": {
        "id": "2d3285d8",
        "scrolled": true
      },
      "outputs": [],
      "source": [
        "# adding our python module to the cluster\n",
        "sc.addFile(\"/home/dataproc/inverted_index_gcp.py\")\n",
        "sys.path.insert(0,SparkFiles.getRootDirectory())"
      ],
      "id": "2d3285d8"
    },
    {
      "cell_type": "code",
      "execution_count": null,
      "metadata": {
        "id": "2477a5b9"
      },
      "outputs": [],
      "source": [
        "from inverted_index_gcp import InvertedIndex"
      ],
      "id": "2477a5b9"
    },
    {
      "cell_type": "markdown",
      "metadata": {
        "id": "72bcf46a"
      },
      "source": [
        "**YOUR TASK (10 POINTS)**: Use your implementation of `word_count`, `reduce_word_counts`, `calculate_df`, and `partition_postings_and_write` functions from Colab to build an inverted index for all of English Wikipedia in under 2 hours.\n",
        "\n",
        "A few notes: \n",
        "1. The number of corpus stopwords below is a bit bigger than the colab version since we are working on the whole corpus and not just on one file.\n",
        "2. You need to slightly modify your implementation of  `partition_postings_and_write` because the signature of `InvertedIndex.write_a_posting_list` has changed and now includes an additional argument called `bucket_name` for the target bucket. See the module for more details.\n",
        "3. You are not allowed to change any of the code not coming from Colab. "
      ],
      "id": "72bcf46a"
    },
    {
      "cell_type": "code",
      "execution_count": null,
      "metadata": {
        "id": "a4b6ee29"
      },
      "outputs": [],
      "source": [
        "english_stopwords = frozenset(stopwords.words('english'))\n",
        "corpus_stopwords = [\"category\", \"references\", \"also\", \"external\", \"links\", \n",
        "                    \"may\", \"first\", \"see\", \"history\", \"people\", \"one\", \"two\", \n",
        "                    \"part\", \"thumb\", \"including\", \"second\", \"following\", \n",
        "                    \"many\", \"however\", \"would\", \"became\"]\n",
        "\n",
        "all_stopwords = english_stopwords.union(corpus_stopwords)\n",
        "RE_WORD = re.compile(r\"\"\"[\\#\\@\\w](['\\-]?\\w){2,24}\"\"\", re.UNICODE)\n",
        "\n",
        "NUM_BUCKETS = 124\n",
        "def token2bucket_id(token):\n",
        "  return int(_hash(token),16) % NUM_BUCKETS\n",
        "\n",
        "# PLACE YOUR CODE HERE\n",
        "def word_count(text, id):\n",
        "  ''' Count the frequency of each word in `text` (tf) that is not included in \n",
        "  `all_stopwords` and return entries that will go into our posting lists. \n",
        "  Parameters:\n",
        "  -----------\n",
        "    text: str\n",
        "      Text of one document\n",
        "    id: int\n",
        "      Document id\n",
        "  Returns:\n",
        "  --------\n",
        "    List of tuples\n",
        "      A list of (token, (doc_id, tf)) pairs \n",
        "      for example: [(\"Anarchism\", (12, 5)), ...]\n",
        "  '''\n",
        "  tokens = [token.group() for token in RE_WORD.finditer(text.lower())]\n",
        "  # YOUR CODE HERE\n",
        "  word_dict = dict()\n",
        "  for word in tokens:\n",
        "    if word in all_stopwords:\n",
        "      continue\n",
        "    if word not in word_dict.keys():\n",
        "      word_dict[word] = [id, 0]\n",
        "    word_dict[word][1] += 1\n",
        "  res = [(entry[0], tuple(entry[1])) for entry in word_dict.items()]\n",
        "  return res\n",
        "\n",
        "def reduce_word_counts(unsorted_pl):\n",
        "  ''' Returns a sorted posting list by wiki_id.\n",
        "  Parameters:\n",
        "  -----------\n",
        "    unsorted_pl: list of tuples\n",
        "      A list of (wiki_id, tf) tuples \n",
        "  Returns:\n",
        "  --------\n",
        "    list of tuples\n",
        "      A sorted posting list.\n",
        "  '''\n",
        "  # YOUR CODE HERE\n",
        "  l = list(unsorted_pl)\n",
        "  return sorted(l, key = lambda item: item[0])\n",
        "\n",
        "def calculate_df(postings):\n",
        "  ''' Takes a posting list RDD and calculate the df for each token.\n",
        "  Parameters:\n",
        "  -----------\n",
        "    postings: RDD\n",
        "      An RDD where each element is a (token, posting_list) pair.\n",
        "  Returns:\n",
        "  --------\n",
        "    RDD\n",
        "      An RDD where each element is a (token, df) pair.\n",
        "  '''\n",
        "  # YOUR CODE HERE\n",
        "  return postings.mapValues(len) \n",
        "\n",
        "def partition_postings_and_write(postings):\n",
        "  ''' A function that partitions the posting lists into buckets, writes out \n",
        "  all posting lists in a bucket to disk, and returns the posting locations for \n",
        "  each bucket. Partitioning should be done through the use of `token2bucket` \n",
        "  above. Writing to disk should use the function  `write_a_posting_list`, a \n",
        "  static method implemented in inverted_index_colab.py under the InvertedIndex \n",
        "  class. \n",
        "  Parameters:\n",
        "  -----------\n",
        "    postings: RDD\n",
        "      An RDD where each item is a (w, posting_list) pair.\n",
        "  Returns:\n",
        "  --------\n",
        "    RDD\n",
        "      An RDD where each item is a posting locations dictionary for a bucket. The\n",
        "      posting locations maintain a list for each word of file locations and \n",
        "      offsets its posting list was written to. See `write_a_posting_list` for \n",
        "      more details.\n",
        "  '''\n",
        "  # YOUR CODE HERE\n",
        "  bucket_name = \"assignment3_206655839\"\n",
        "  r1 = postings.map(lambda tup: (token2bucket_id(tup[0]), [tup]))\n",
        "  r2 = r1.reduceByKey(lambda p_lst1, p_lst2: p_lst1 + p_lst2) # group_by_key\n",
        "  r3 = r2.map(lambda tup: InvertedIndex.write_a_posting_list(tup, bucket_name))\n",
        "  return r3"
      ],
      "id": "a4b6ee29"
    },
    {
      "cell_type": "code",
      "execution_count": null,
      "metadata": {
        "id": "0b5d7296",
        "outputId": "8db12ed2-6d98-4962-f8e6-b90280ecce9c"
      },
      "outputs": [
        {
          "name": "stderr",
          "output_type": "stream",
          "text": [
            "                                                                                \r"
          ]
        }
      ],
      "source": [
        "# time the index creation time\n",
        "t_start = time()\n",
        "# word counts map\n",
        "word_counts = doc_text_pairs.flatMap(lambda x: word_count(x[0], x[1]))\n",
        "postings = word_counts.groupByKey().mapValues(reduce_word_counts)\n",
        "# filtering postings and calculate df\n",
        "postings_filtered = postings.filter(lambda x: len(x[1])>50)\n",
        "w2df = calculate_df(postings_filtered)\n",
        "w2df_dict = w2df.collectAsMap()\n",
        "# partition posting lists and write out\n",
        "_ = partition_postings_and_write(postings_filtered).collect()\n",
        "index_const_time = time() - t_start"
      ],
      "id": "0b5d7296"
    },
    {
      "cell_type": "code",
      "execution_count": null,
      "metadata": {
        "id": "348pECY8cH-T"
      },
      "outputs": [],
      "source": [
        "# test index construction time\n",
        "assert index_const_time < 60*120"
      ],
      "id": "348pECY8cH-T"
    },
    {
      "cell_type": "code",
      "execution_count": null,
      "metadata": {
        "id": "Opl6eRNLM5Xv"
      },
      "outputs": [],
      "source": [
        "# collect all posting lists locations into one super-set\n",
        "super_posting_locs = defaultdict(list)\n",
        "for blob in client.list_blobs(bucket_name, prefix='postings_gcp'):\n",
        "  if not blob.name.endswith(\"pickle\"):\n",
        "    continue\n",
        "  with blob.open(\"rb\") as f:\n",
        "    posting_locs = pickle.load(f)\n",
        "    for k, v in posting_locs.items():\n",
        "      super_posting_locs[k].extend(v)"
      ],
      "id": "Opl6eRNLM5Xv"
    },
    {
      "cell_type": "markdown",
      "metadata": {
        "id": "VhAV0A6dNZWY"
      },
      "source": [
        "Putting it all together"
      ],
      "id": "VhAV0A6dNZWY"
    },
    {
      "cell_type": "code",
      "execution_count": null,
      "metadata": {
        "id": "54vqT_0WNc3w",
        "outputId": "2505c6c9-549d-4a81-bbeb-199d53eb28fc"
      },
      "outputs": [
        {
          "name": "stdout",
          "output_type": "stream",
          "text": [
            "Copying file://index.pkl [Content-Type=application/octet-stream]...\n",
            "/ [1 files][ 18.4 MiB/ 18.4 MiB]                                                \n",
            "Operation completed over 1 objects/18.4 MiB.                                     \n"
          ]
        }
      ],
      "source": [
        "# Create inverted index instance\n",
        "inverted = InvertedIndex()\n",
        "# Adding the posting locations dictionary to the inverted index\n",
        "inverted.posting_locs = super_posting_locs\n",
        "# Add the token - df dictionary to the inverted index\n",
        "inverted.df = w2df_dict\n",
        "# write the global stats out\n",
        "inverted.write_index('.', 'index')\n",
        "# upload to gs\n",
        "index_src = \"index.pkl\"\n",
        "index_dst = f'gs://{bucket_name}/postings_gcp/{index_src}'\n",
        "!gsutil cp $index_src $index_dst"
      ],
      "id": "54vqT_0WNc3w"
    },
    {
      "cell_type": "code",
      "execution_count": null,
      "metadata": {
        "id": "msogGbJ3c8JF",
        "outputId": "c80029ce-994a-4298-e607-465b5466645c"
      },
      "outputs": [
        {
          "name": "stdout",
          "output_type": "stream",
          "text": [
            " 18.45 MiB  2021-12-09T13:57:03Z  gs://assignment3_206655839/postings_gcp/index.pkl\r\n",
            "TOTAL: 1 objects, 19343441 bytes (18.45 MiB)\r\n"
          ]
        }
      ],
      "source": [
        "!gsutil ls -lh $index_dst"
      ],
      "id": "msogGbJ3c8JF"
    },
    {
      "cell_type": "markdown",
      "metadata": {
        "id": "fc0667a9"
      },
      "source": [
        "# PageRank"
      ],
      "id": "fc0667a9"
    },
    {
      "cell_type": "markdown",
      "metadata": {
        "id": "fdd1bdca"
      },
      "source": [
        "**YOUR TASK (10 POINTS):** Compute PageRank for the entire English Wikipedia. Use your implementation for `generate_graph` function from Colab below."
      ],
      "id": "fdd1bdca"
    },
    {
      "cell_type": "code",
      "execution_count": null,
      "metadata": {
        "id": "yVjnTvQsegc-"
      },
      "outputs": [],
      "source": [
        "# Put your `generate_graph` function here\n",
        "def generate_graph(pages):\n",
        "  ''' Compute the directed graph generated by wiki links.\n",
        "  Parameters:\n",
        "  -----------\n",
        "    pages: RDD\n",
        "      An RDD where each row consists of one wikipedia articles with 'id' and \n",
        "      'anchor_text'.\n",
        "  Returns:\n",
        "  --------\n",
        "    edges: RDD\n",
        "      An RDD where each row represents an edge in the directed graph created by\n",
        "      the wikipedia links. The first entry should the source page id and the \n",
        "      second entry is the destination page id. No duplicates should be present. \n",
        "    vertices: RDD\n",
        "      An RDD where each row represents a vetrix (node) in the directed graph \n",
        "      created by the wikipedia links. No duplicates should be present. \n",
        "  '''\n",
        "  # YOUR CODE HERE\n",
        "  edges = pages_links.flatMap(lambda r: [(r[0], an_text_id[0]) for an_text_id in r[1]]).distinct()\n",
        "  vertices = edges.flatMap(lambda r: r).distinct()\n",
        "  return edges, vertices.map(lambda r: Row(r))"
      ],
      "id": "yVjnTvQsegc-"
    },
    {
      "cell_type": "code",
      "execution_count": null,
      "metadata": {
        "id": "db005700",
        "outputId": "cf7bb7e0-13bd-4b4a-ec88-bd50c1eafda1"
      },
      "outputs": [
        {
          "name": "stderr",
          "output_type": "stream",
          "text": [
            "[Stage 349:================================================>    (184 + 4) / 200]\r"
          ]
        },
        {
          "name": "stdout",
          "output_type": "stream",
          "text": [
            "+-------+------------------+\n",
            "|     id|          pagerank|\n",
            "+-------+------------------+\n",
            "|3434750| 9913.728782160779|\n",
            "|  10568|  5385.34926364204|\n",
            "|  32927| 5282.081575765281|\n",
            "|  30680| 5128.233709604119|\n",
            "|5843419| 4957.567686263869|\n",
            "|  68253| 4769.278265355164|\n",
            "|  31717| 4486.350180548311|\n",
            "|  11867| 4146.414650912772|\n",
            "|  14533|3996.4664408855024|\n",
            "| 645042| 3531.627089803744|\n",
            "|  17867| 3246.098390604142|\n",
            "|5042916| 2991.945739166179|\n",
            "|4689264| 2982.324883041748|\n",
            "|  14532|2934.7468292031717|\n",
            "|  25391|2903.5462235133987|\n",
            "|   5405|2891.4163291546365|\n",
            "|4764461|2834.3669873326608|\n",
            "|  15573| 2783.865118158839|\n",
            "|   9316|  2782.03964641377|\n",
            "|8569916| 2775.286191840017|\n",
            "+-------+------------------+\n",
            "only showing top 20 rows\n",
            "\n"
          ]
        },
        {
          "name": "stderr",
          "output_type": "stream",
          "text": [
            "\r",
            "[Stage 349:==================================================>  (192 + 5) / 200]\r",
            "\r",
            "                                                                                \r"
          ]
        }
      ],
      "source": [
        "t_start = time()\n",
        "pages_links = spark.read.parquet(\"gs://wikidata_preprocessed/*\").select(\"id\", \"anchor_text\").rdd\n",
        "# construct the graph \n",
        "edges, vertices = generate_graph(pages_links)\n",
        "# compute PageRank\n",
        "edgesDF = edges.toDF(['src', 'dst']).repartition(124, 'src')\n",
        "verticesDF = vertices.toDF(['id']).repartition(124, 'id')\n",
        "g = GraphFrame(verticesDF, edgesDF)\n",
        "pr_results = g.pageRank(resetProbability=0.15, maxIter=6)\n",
        "pr = pr_results.vertices.select(\"id\", \"pagerank\")\n",
        "pr = pr.sort(col('pagerank').desc())\n",
        "pr.repartition(1).write.csv(f'gs://{bucket_name}/pr', compression=\"gzip\")\n",
        "pr_time = time() - t_start\n",
        "pr.show()"
      ],
      "id": "db005700"
    },
    {
      "cell_type": "code",
      "execution_count": null,
      "metadata": {
        "id": "2cc36ca9"
      },
      "outputs": [],
      "source": [
        "# test that PageRank computaion took less than 1 hour\n",
        "assert pr_time < 60*60"
      ],
      "id": "2cc36ca9"
    },
    {
      "cell_type": "markdown",
      "metadata": {
        "id": "7f39m5R5TzZ2"
      },
      "source": [
        "# Reporting"
      ],
      "id": "7f39m5R5TzZ2"
    },
    {
      "cell_type": "markdown",
      "metadata": {
        "id": "HDMJxXTFT4YU"
      },
      "source": [
        "**YOUR TASK (5 points):** execute and complete the following lines to complete \n",
        "the reporting requirements for assignment #3. "
      ],
      "id": "HDMJxXTFT4YU"
    },
    {
      "cell_type": "code",
      "execution_count": null,
      "metadata": {
        "id": "a0ec9661",
        "outputId": "54595c29-4ae3-4b78-86d0-d8457ae9c150"
      },
      "outputs": [
        {
          "name": "stdout",
          "output_type": "stream",
          "text": [
            "14.28 GiB    gs://wikidata_preprocessed\r\n"
          ]
        }
      ],
      "source": [
        "# size of input data\n",
        "!gsutil du -sh \"gs://wikidata_preprocessed/\""
      ],
      "id": "a0ec9661"
    },
    {
      "cell_type": "code",
      "execution_count": null,
      "metadata": {
        "id": "264e0792",
        "outputId": "44d9721a-1cd7-4e59-9f78-5439864cfdad"
      },
      "outputs": [
        {
          "name": "stdout",
          "output_type": "stream",
          "text": [
            "5.92 GiB     gs://assignment3_206655839/postings_gcp\r\n"
          ]
        }
      ],
      "source": [
        "# size of index data\n",
        "index_dst = f'gs://{bucket_name}/postings_gcp/'\n",
        "!gsutil du -sh \"$index_dst\""
      ],
      "id": "264e0792"
    },
    {
      "cell_type": "code",
      "execution_count": null,
      "metadata": {
        "id": "LQ7r5rxvVuXb",
        "outputId": "e7890f7d-958e-4d4e-da14-4c737c181360"
      },
      "outputs": [
        {
          "name": "stdout",
          "output_type": "stream",
          "text": [
            "I used 6 USD credit during the course of this assignment\n"
          ]
        }
      ],
      "source": [
        "# How many USD credits did you use in GCP during the course of this assignment?\n",
        "cost = 6\n",
        "print(f'I used {cost} USD credit during the course of this assignment')"
      ],
      "id": "LQ7r5rxvVuXb"
    }
  ],
  "metadata": {
    "colab": {
      "collapsed_sections": [],
      "name": "assignment3_gcp (1).ipynb",
      "provenance": []
    },
    "kernelspec": {
      "display_name": "Python 3",
      "language": "python",
      "name": "python3"
    },
    "language_info": {
      "codemirror_mode": {
        "name": "ipython",
        "version": 3
      },
      "file_extension": ".py",
      "mimetype": "text/x-python",
      "name": "python",
      "nbconvert_exporter": "python",
      "pygments_lexer": "ipython3",
      "version": "3.7.4"
    }
  },
  "nbformat": 4,
  "nbformat_minor": 5
}